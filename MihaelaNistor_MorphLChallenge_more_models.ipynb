{
  "nbformat": 4,
  "nbformat_minor": 0,
  "metadata": {
    "colab": {
      "name": "MihaelaNistor_MorphLChallenge_more_models.ipynb",
      "provenance": [],
      "collapsed_sections": []
    },
    "kernelspec": {
      "display_name": "Python 3",
      "language": "python",
      "name": "python3"
    },
    "language_info": {
      "codemirror_mode": {
        "name": "ipython",
        "version": 3
      },
      "file_extension": ".py",
      "mimetype": "text/x-python",
      "name": "python",
      "nbconvert_exporter": "python",
      "pygments_lexer": "ipython3",
      "version": "3.7.3"
    }
  },
  "cells": [
    {
      "cell_type": "markdown",
      "metadata": {
        "id": "LRwSstcJ3__H"
      },
      "source": [
        "## MorphL Challenge - Mihaela Nistor"
      ]
    },
    {
      "cell_type": "markdown",
      "metadata": {
        "id": "n2DmSgSI3__H"
      },
      "source": [
        "The dataset is divided in 3 parts: users, sessions and hits. The users contain unique user ids and some basic user-level features. Then, the sessions represent each unique visit of the user to the website and we also have session-level features (browser used at that session, session duration etc.). Finally, we have hits, which can be interpreted as session-specific actions (such as what page was viewed). Basically, we have an embedded dataset: users > sessions > hits.\n",
        "\n",
        "Our task is to model the user behaviour based on its history in order to predict a user-level feature (segment). Obviously, this is a very open-ended problem, with solutions varying from the simplest models (as those in prerequisites) to much more complex models (such as modeling hits and sessions with RNNs)."
      ]
    },
    {
      "cell_type": "code",
      "metadata": {
        "id": "55ontH2Gtfcr"
      },
      "source": [
        "# !sudo pip install imbalanced-learn"
      ],
      "execution_count": 1,
      "outputs": []
    },
    {
      "cell_type": "markdown",
      "metadata": {
        "id": "fGTXgFG9CW8c"
      },
      "source": [
        "Import everything"
      ]
    },
    {
      "cell_type": "code",
      "metadata": {
        "id": "IWfwwhWR3__H",
        "colab": {
          "base_uri": "https://localhost:8080/"
        },
        "outputId": "0ef648af-9df5-4399-e003-7bb406344ea7"
      },
      "source": [
        "import pandas as pd\n",
        "import numpy as np\n",
        "import seaborn as sb\n",
        "import matplotlib.pyplot as plt\n",
        "import imblearn\n",
        "from imblearn.over_sampling import SMOTE\n",
        "\n",
        "from sklearn.model_selection import train_test_split, KFold, GridSearchCV, cross_validate\n",
        "from sklearn.feature_selection import RFE\n",
        "from sklearn.preprocessing import LabelEncoder, MinMaxScaler\n",
        "from sklearn.metrics import accuracy_score, confusion_matrix, log_loss\n",
        "\n",
        "from sklearn.ensemble import RandomForestClassifier\n",
        "from sklearn.linear_model import LogisticRegression, LinearRegression\n",
        "from sklearn.neural_network import MLPClassifier\n",
        "from sklearn.tree import DecisionTreeClassifier\n",
        "from xgboost import XGBClassifier\n",
        "\n",
        "from sklearn.svm import SVC"
      ],
      "execution_count": 2,
      "outputs": [
        {
          "output_type": "stream",
          "text": [
            "/usr/local/lib/python3.6/dist-packages/sklearn/externals/six.py:31: FutureWarning: The module is deprecated in version 0.21 and will be removed in version 0.23 since we've dropped support for Python 2.7. Please rely on the official version of six (https://pypi.org/project/six/).\n",
            "  \"(https://pypi.org/project/six/).\", FutureWarning)\n",
            "/usr/local/lib/python3.6/dist-packages/sklearn/utils/deprecation.py:144: FutureWarning: The sklearn.neighbors.base module is  deprecated in version 0.22 and will be removed in version 0.24. The corresponding classes / functions should instead be imported from sklearn.neighbors. Anything that cannot be imported from sklearn.neighbors is now part of the private API.\n",
            "  warnings.warn(message, FutureWarning)\n"
          ],
          "name": "stderr"
        }
      ]
    },
    {
      "cell_type": "markdown",
      "metadata": {
        "id": "asrgCPERJ8cC"
      },
      "source": [
        "Set this variable to True or False to use or not the smote technique"
      ]
    },
    {
      "cell_type": "code",
      "metadata": {
        "id": "EukGIwRGJ2iI"
      },
      "source": [
        "apply_smote = True"
      ],
      "execution_count": 3,
      "outputs": []
    },
    {
      "cell_type": "markdown",
      "metadata": {
        "id": "VDABD5Cf3__H"
      },
      "source": [
        "Read the dataset"
      ]
    },
    {
      "cell_type": "code",
      "metadata": {
        "id": "6kste5Xm3__H"
      },
      "source": [
        "# train_users = pd.read_csv('./train_set/users.csv')\n",
        "# train_sessions = pd.read_csv('./train_set/sessions.csv')\n",
        "# train_hits = pd.read_csv('./train_set/hits.csv')\n",
        "\n",
        "# train_targets = pd.read_csv('./train_set/targets.csv')\n",
        "\n",
        "\n",
        "# test_users = pd.read_csv('./test_set/users.csv')\n",
        "# test_sessions = pd.read_csv('./test_set/sessions.csv')\n",
        "# test_hits = pd.read_csv('./test_set/hits.csv')\n",
        "\n",
        "# test_targets = pd.read_csv('./test_set/targets.csv')"
      ],
      "execution_count": 4,
      "outputs": []
    },
    {
      "cell_type": "code",
      "metadata": {
        "id": "y0Ku7lj2SXA2",
        "colab": {
          "base_uri": "https://localhost:8080/"
        },
        "outputId": "fd6f58c8-e0e1-4d53-d657-43f42425e5a3"
      },
      "source": [
        "from google.colab import drive\n",
        "drive.mount('/content/drive')\n",
        "\n",
        "\n",
        "root_folder = '/content/drive/MyDrive/Colab Notebooks/dataset_morphl/'\n",
        "\n",
        "train_users = pd.read_csv(root_folder + 'train_set/users.csv')\n",
        "train_sessions = pd.read_csv(root_folder + 'train_set/sessions.csv')\n",
        "train_hits = pd.read_csv(root_folder + 'train_set/hits.csv')\n",
        "\n",
        "train_targets = pd.read_csv(root_folder + 'train_set/targets.csv')\n",
        "\n",
        "\n",
        "test_users = pd.read_csv(root_folder + 'test_set/users.csv')\n",
        "test_sessions = pd.read_csv(root_folder + 'test_set/sessions.csv')\n",
        "test_hits = pd.read_csv(root_folder + 'test_set/hits.csv')\n",
        "\n",
        "test_targets = pd.read_csv(root_folder + 'test_set/targets.csv')"
      ],
      "execution_count": 5,
      "outputs": [
        {
          "output_type": "stream",
          "text": [
            "Drive already mounted at /content/drive; to attempt to forcibly remount, call drive.mount(\"/content/drive\", force_remount=True).\n"
          ],
          "name": "stdout"
        }
      ]
    },
    {
      "cell_type": "code",
      "metadata": {
        "colab": {
          "base_uri": "https://localhost:8080/",
          "height": 221
        },
        "id": "sMBfogPw3__H",
        "outputId": "f3c2cfc2-a3ec-46a5-fb28-23a6569dfc3c"
      },
      "source": [
        "print(train_users.shape)\n",
        "train_users.head()"
      ],
      "execution_count": 6,
      "outputs": [
        {
          "output_type": "stream",
          "text": [
            "(11200, 4)\n"
          ],
          "name": "stdout"
        },
        {
          "output_type": "execute_result",
          "data": {
            "text/html": [
              "<div>\n",
              "<style scoped>\n",
              "    .dataframe tbody tr th:only-of-type {\n",
              "        vertical-align: middle;\n",
              "    }\n",
              "\n",
              "    .dataframe tbody tr th {\n",
              "        vertical-align: top;\n",
              "    }\n",
              "\n",
              "    .dataframe thead th {\n",
              "        text-align: right;\n",
              "    }\n",
              "</style>\n",
              "<table border=\"1\" class=\"dataframe\">\n",
              "  <thead>\n",
              "    <tr style=\"text-align: right;\">\n",
              "      <th></th>\n",
              "      <th>Unnamed: 0</th>\n",
              "      <th>Client ID</th>\n",
              "      <th>Total Number of Sessions</th>\n",
              "      <th>Type</th>\n",
              "    </tr>\n",
              "  </thead>\n",
              "  <tbody>\n",
              "    <tr>\n",
              "      <th>0</th>\n",
              "      <td>0</td>\n",
              "      <td>ML10669446</td>\n",
              "      <td>3</td>\n",
              "      <td>1</td>\n",
              "    </tr>\n",
              "    <tr>\n",
              "      <th>1</th>\n",
              "      <td>1</td>\n",
              "      <td>ML1054774</td>\n",
              "      <td>20</td>\n",
              "      <td>2</td>\n",
              "    </tr>\n",
              "    <tr>\n",
              "      <th>2</th>\n",
              "      <td>2</td>\n",
              "      <td>ML1023632</td>\n",
              "      <td>17</td>\n",
              "      <td>2</td>\n",
              "    </tr>\n",
              "    <tr>\n",
              "      <th>3</th>\n",
              "      <td>3</td>\n",
              "      <td>ML1050999</td>\n",
              "      <td>1</td>\n",
              "      <td>2</td>\n",
              "    </tr>\n",
              "    <tr>\n",
              "      <th>4</th>\n",
              "      <td>4</td>\n",
              "      <td>ML10421332</td>\n",
              "      <td>11</td>\n",
              "      <td>1</td>\n",
              "    </tr>\n",
              "  </tbody>\n",
              "</table>\n",
              "</div>"
            ],
            "text/plain": [
              "   Unnamed: 0   Client ID  Total Number of Sessions  Type\n",
              "0           0  ML10669446                         3     1\n",
              "1           1   ML1054774                        20     2\n",
              "2           2   ML1023632                        17     2\n",
              "3           3   ML1050999                         1     2\n",
              "4           4  ML10421332                        11     1"
            ]
          },
          "metadata": {
            "tags": []
          },
          "execution_count": 6
        }
      ]
    },
    {
      "cell_type": "code",
      "metadata": {
        "colab": {
          "base_uri": "https://localhost:8080/",
          "height": 530
        },
        "id": "l7Kt8GGe3__I",
        "outputId": "e8c25a92-af00-49c4-8ffa-0c5e1d3aec39"
      },
      "source": [
        "train_sessions.head()"
      ],
      "execution_count": 7,
      "outputs": [
        {
          "output_type": "execute_result",
          "data": {
            "text/html": [
              "<div>\n",
              "<style scoped>\n",
              "    .dataframe tbody tr th:only-of-type {\n",
              "        vertical-align: middle;\n",
              "    }\n",
              "\n",
              "    .dataframe tbody tr th {\n",
              "        vertical-align: top;\n",
              "    }\n",
              "\n",
              "    .dataframe thead th {\n",
              "        text-align: right;\n",
              "    }\n",
              "</style>\n",
              "<table border=\"1\" class=\"dataframe\">\n",
              "  <thead>\n",
              "    <tr style=\"text-align: right;\">\n",
              "      <th></th>\n",
              "      <th>Unnamed: 0</th>\n",
              "      <th>Unnamed: 0.1</th>\n",
              "      <th>Client ID</th>\n",
              "      <th>Session ID</th>\n",
              "      <th>Session Index</th>\n",
              "      <th>Session Duration</th>\n",
              "      <th>Transactions</th>\n",
              "      <th>Revenue</th>\n",
              "      <th>Site Search Status</th>\n",
              "      <th>Search Result Page Hits</th>\n",
              "      <th>Unique Pageviews</th>\n",
              "      <th>Shopping Stages</th>\n",
              "      <th>Device Category</th>\n",
              "      <th>City Name</th>\n",
              "      <th>Country</th>\n",
              "      <th>Browser Name</th>\n",
              "      <th>Device Name</th>\n",
              "      <th>Search Refinements</th>\n",
              "      <th>Search Depth</th>\n",
              "      <th>Days Since Last Session</th>\n",
              "      <th>Results Pageviews</th>\n",
              "      <th>Total Unique Searches</th>\n",
              "    </tr>\n",
              "  </thead>\n",
              "  <tbody>\n",
              "    <tr>\n",
              "      <th>0</th>\n",
              "      <td>0</td>\n",
              "      <td>0</td>\n",
              "      <td>ML1000002</td>\n",
              "      <td>1587635093.120043981.1559843616.20200423</td>\n",
              "      <td>1</td>\n",
              "      <td>164</td>\n",
              "      <td>0</td>\n",
              "      <td>0.0</td>\n",
              "      <td>Visit Without Site Search</td>\n",
              "      <td>0</td>\n",
              "      <td>3</td>\n",
              "      <td>0</td>\n",
              "      <td>desktop</td>\n",
              "      <td>City-151</td>\n",
              "      <td>Country-50</td>\n",
              "      <td>Browser-46</td>\n",
              "      <td>Device-0</td>\n",
              "      <td>0</td>\n",
              "      <td>0.0</td>\n",
              "      <td>0</td>\n",
              "      <td>0</td>\n",
              "      <td>0</td>\n",
              "    </tr>\n",
              "    <tr>\n",
              "      <th>1</th>\n",
              "      <td>1</td>\n",
              "      <td>1</td>\n",
              "      <td>ML10000104</td>\n",
              "      <td>1577964914.1347073935.1554187261.20200102</td>\n",
              "      <td>1</td>\n",
              "      <td>353</td>\n",
              "      <td>0</td>\n",
              "      <td>0.0</td>\n",
              "      <td>Visit Without Site Search</td>\n",
              "      <td>0</td>\n",
              "      <td>6</td>\n",
              "      <td>0</td>\n",
              "      <td>mobile</td>\n",
              "      <td>City-907</td>\n",
              "      <td>Country-50</td>\n",
              "      <td>Browser-4</td>\n",
              "      <td>Device-217</td>\n",
              "      <td>0</td>\n",
              "      <td>0.0</td>\n",
              "      <td>0</td>\n",
              "      <td>0</td>\n",
              "      <td>0</td>\n",
              "    </tr>\n",
              "    <tr>\n",
              "      <th>2</th>\n",
              "      <td>2</td>\n",
              "      <td>2</td>\n",
              "      <td>ML10000104</td>\n",
              "      <td>1577984613.1347073935.1554187261.20200102</td>\n",
              "      <td>2</td>\n",
              "      <td>64</td>\n",
              "      <td>0</td>\n",
              "      <td>0.0</td>\n",
              "      <td>Visit Without Site Search</td>\n",
              "      <td>0</td>\n",
              "      <td>3</td>\n",
              "      <td>0</td>\n",
              "      <td>mobile</td>\n",
              "      <td>City-907</td>\n",
              "      <td>Country-50</td>\n",
              "      <td>Browser-4</td>\n",
              "      <td>Device-217</td>\n",
              "      <td>0</td>\n",
              "      <td>0.0</td>\n",
              "      <td>0</td>\n",
              "      <td>0</td>\n",
              "      <td>0</td>\n",
              "    </tr>\n",
              "    <tr>\n",
              "      <th>3</th>\n",
              "      <td>3</td>\n",
              "      <td>3</td>\n",
              "      <td>ML10000104</td>\n",
              "      <td>1577997594.1347073935.1554187261.20200102</td>\n",
              "      <td>3</td>\n",
              "      <td>4</td>\n",
              "      <td>0</td>\n",
              "      <td>0.0</td>\n",
              "      <td>Visit Without Site Search</td>\n",
              "      <td>0</td>\n",
              "      <td>2</td>\n",
              "      <td>0</td>\n",
              "      <td>mobile</td>\n",
              "      <td>City-907</td>\n",
              "      <td>Country-50</td>\n",
              "      <td>Browser-4</td>\n",
              "      <td>Device-217</td>\n",
              "      <td>0</td>\n",
              "      <td>0.0</td>\n",
              "      <td>0</td>\n",
              "      <td>0</td>\n",
              "      <td>0</td>\n",
              "    </tr>\n",
              "    <tr>\n",
              "      <th>4</th>\n",
              "      <td>4</td>\n",
              "      <td>4</td>\n",
              "      <td>ML10000104</td>\n",
              "      <td>1580645789.1861233595.1580645788.20200202</td>\n",
              "      <td>4</td>\n",
              "      <td>45</td>\n",
              "      <td>0</td>\n",
              "      <td>0.0</td>\n",
              "      <td>Visit Without Site Search</td>\n",
              "      <td>0</td>\n",
              "      <td>5</td>\n",
              "      <td>0</td>\n",
              "      <td>mobile</td>\n",
              "      <td>City-135</td>\n",
              "      <td>Country-50</td>\n",
              "      <td>Browser-4</td>\n",
              "      <td>Device-502</td>\n",
              "      <td>0</td>\n",
              "      <td>0.0</td>\n",
              "      <td>30</td>\n",
              "      <td>0</td>\n",
              "      <td>0</td>\n",
              "    </tr>\n",
              "  </tbody>\n",
              "</table>\n",
              "</div>"
            ],
            "text/plain": [
              "   Unnamed: 0  Unnamed: 0.1  ... Results Pageviews Total Unique Searches\n",
              "0           0             0  ...                 0                     0\n",
              "1           1             1  ...                 0                     0\n",
              "2           2             2  ...                 0                     0\n",
              "3           3             3  ...                 0                     0\n",
              "4           4             4  ...                 0                     0\n",
              "\n",
              "[5 rows x 22 columns]"
            ]
          },
          "metadata": {
            "tags": []
          },
          "execution_count": 7
        }
      ]
    },
    {
      "cell_type": "code",
      "metadata": {
        "colab": {
          "base_uri": "https://localhost:8080/",
          "height": 204
        },
        "id": "Uf3Oh7gy3__I",
        "outputId": "ba642d7d-015f-42cf-f174-c56362aaf898"
      },
      "source": [
        "train_hits.head()"
      ],
      "execution_count": 8,
      "outputs": [
        {
          "output_type": "execute_result",
          "data": {
            "text/html": [
              "<div>\n",
              "<style scoped>\n",
              "    .dataframe tbody tr th:only-of-type {\n",
              "        vertical-align: middle;\n",
              "    }\n",
              "\n",
              "    .dataframe tbody tr th {\n",
              "        vertical-align: top;\n",
              "    }\n",
              "\n",
              "    .dataframe thead th {\n",
              "        text-align: right;\n",
              "    }\n",
              "</style>\n",
              "<table border=\"1\" class=\"dataframe\">\n",
              "  <thead>\n",
              "    <tr style=\"text-align: right;\">\n",
              "      <th></th>\n",
              "      <th>Unnamed: 0</th>\n",
              "      <th>Client ID</th>\n",
              "      <th>Session ID</th>\n",
              "      <th>Hit Index</th>\n",
              "      <th>Hit Time</th>\n",
              "      <th>Date Hour and Minute</th>\n",
              "      <th>Product Detail Views</th>\n",
              "      <th>Path of Page</th>\n",
              "    </tr>\n",
              "  </thead>\n",
              "  <tbody>\n",
              "    <tr>\n",
              "      <th>0</th>\n",
              "      <td>0</td>\n",
              "      <td>ML1000002</td>\n",
              "      <td>1587635093.120043981.1559843616.20200423</td>\n",
              "      <td>2</td>\n",
              "      <td>19106</td>\n",
              "      <td>202004230945</td>\n",
              "      <td>0</td>\n",
              "      <td>URL-1327</td>\n",
              "    </tr>\n",
              "    <tr>\n",
              "      <th>1</th>\n",
              "      <td>1</td>\n",
              "      <td>ML1000002</td>\n",
              "      <td>1587635093.120043981.1559843616.20200423</td>\n",
              "      <td>3</td>\n",
              "      <td>164167</td>\n",
              "      <td>202004230947</td>\n",
              "      <td>0</td>\n",
              "      <td>URL-1351</td>\n",
              "    </tr>\n",
              "    <tr>\n",
              "      <th>2</th>\n",
              "      <td>2</td>\n",
              "      <td>ML1000002</td>\n",
              "      <td>1587635093.120043981.1559843616.20200423</td>\n",
              "      <td>1</td>\n",
              "      <td>0</td>\n",
              "      <td>202004230944</td>\n",
              "      <td>0</td>\n",
              "      <td>URL-14663</td>\n",
              "    </tr>\n",
              "    <tr>\n",
              "      <th>3</th>\n",
              "      <td>3</td>\n",
              "      <td>ML10000104</td>\n",
              "      <td>1580645789.1861233595.1580645788.20200202</td>\n",
              "      <td>4</td>\n",
              "      <td>16274</td>\n",
              "      <td>202002021216</td>\n",
              "      <td>0</td>\n",
              "      <td>URL-9880</td>\n",
              "    </tr>\n",
              "    <tr>\n",
              "      <th>4</th>\n",
              "      <td>4</td>\n",
              "      <td>ML10000104</td>\n",
              "      <td>1577984613.1347073935.1554187261.20200102</td>\n",
              "      <td>1</td>\n",
              "      <td>0</td>\n",
              "      <td>202001021703</td>\n",
              "      <td>0</td>\n",
              "      <td>URL-14320</td>\n",
              "    </tr>\n",
              "  </tbody>\n",
              "</table>\n",
              "</div>"
            ],
            "text/plain": [
              "   Unnamed: 0   Client ID  ... Product Detail Views  Path of Page\n",
              "0           0   ML1000002  ...                    0      URL-1327\n",
              "1           1   ML1000002  ...                    0      URL-1351\n",
              "2           2   ML1000002  ...                    0     URL-14663\n",
              "3           3  ML10000104  ...                    0      URL-9880\n",
              "4           4  ML10000104  ...                    0     URL-14320\n",
              "\n",
              "[5 rows x 8 columns]"
            ]
          },
          "metadata": {
            "tags": []
          },
          "execution_count": 8
        }
      ]
    },
    {
      "cell_type": "code",
      "metadata": {
        "colab": {
          "base_uri": "https://localhost:8080/",
          "height": 204
        },
        "id": "8aF4M74J3__I",
        "outputId": "65e051e9-024c-455e-c42b-98631ac0cd23"
      },
      "source": [
        "train_targets.head()"
      ],
      "execution_count": 9,
      "outputs": [
        {
          "output_type": "execute_result",
          "data": {
            "text/html": [
              "<div>\n",
              "<style scoped>\n",
              "    .dataframe tbody tr th:only-of-type {\n",
              "        vertical-align: middle;\n",
              "    }\n",
              "\n",
              "    .dataframe tbody tr th {\n",
              "        vertical-align: top;\n",
              "    }\n",
              "\n",
              "    .dataframe thead th {\n",
              "        text-align: right;\n",
              "    }\n",
              "</style>\n",
              "<table border=\"1\" class=\"dataframe\">\n",
              "  <thead>\n",
              "    <tr style=\"text-align: right;\">\n",
              "      <th></th>\n",
              "      <th>Unnamed: 0</th>\n",
              "      <th>Client ID</th>\n",
              "      <th>segment</th>\n",
              "    </tr>\n",
              "  </thead>\n",
              "  <tbody>\n",
              "    <tr>\n",
              "      <th>0</th>\n",
              "      <td>0</td>\n",
              "      <td>ML73020059</td>\n",
              "      <td>1</td>\n",
              "    </tr>\n",
              "    <tr>\n",
              "      <th>1</th>\n",
              "      <td>1</td>\n",
              "      <td>ML10396280</td>\n",
              "      <td>0</td>\n",
              "    </tr>\n",
              "    <tr>\n",
              "      <th>2</th>\n",
              "      <td>2</td>\n",
              "      <td>ML1017227</td>\n",
              "      <td>0</td>\n",
              "    </tr>\n",
              "    <tr>\n",
              "      <th>3</th>\n",
              "      <td>3</td>\n",
              "      <td>ML10230015</td>\n",
              "      <td>0</td>\n",
              "    </tr>\n",
              "    <tr>\n",
              "      <th>4</th>\n",
              "      <td>4</td>\n",
              "      <td>ML73768914</td>\n",
              "      <td>1</td>\n",
              "    </tr>\n",
              "  </tbody>\n",
              "</table>\n",
              "</div>"
            ],
            "text/plain": [
              "   Unnamed: 0   Client ID  segment\n",
              "0           0  ML73020059        1\n",
              "1           1  ML10396280        0\n",
              "2           2   ML1017227        0\n",
              "3           3  ML10230015        0\n",
              "4           4  ML73768914        1"
            ]
          },
          "metadata": {
            "tags": []
          },
          "execution_count": 9
        }
      ]
    },
    {
      "cell_type": "code",
      "metadata": {
        "id": "b1TpfWZZJYzU"
      },
      "source": [
        "train_users = train_users.drop(['Unnamed: 0'], axis=1)\n",
        "test_users = test_users.drop(['Unnamed: 0'], axis=1)\n",
        "train_sessions = train_sessions.drop(['Unnamed: 0', 'Unnamed: 0.1'], axis=1)\n",
        "test_sessions = test_sessions.drop(['Unnamed: 0', 'Unnamed: 0.1'], axis=1)\n",
        "train_hits = train_hits.drop(['Unnamed: 0'], axis=1)\n",
        "test_hits = test_hits.drop(['Unnamed: 0'], axis=1)\n",
        "train_targets = train_targets.drop(['Unnamed: 0'], axis=1)\n",
        "test_targets = test_targets.drop(['Unnamed: 0'], axis=1)"
      ],
      "execution_count": 10,
      "outputs": []
    },
    {
      "cell_type": "markdown",
      "metadata": {
        "id": "rOOcrJJ5CfI5"
      },
      "source": [
        "Create dataset function that append the hits mean/meadian to the the session and the sessions mean/median to the client(user)"
      ]
    },
    {
      "cell_type": "code",
      "metadata": {
        "id": "9JSA3Aaj3__I"
      },
      "source": [
        "def create_dataset(users, sessions, hits, targets, method=\"mean\"):\n",
        "    \"\"\"\n",
        "        Create one DataFrame from the users info: sessions, hits, segment\n",
        "    \"\"\"\n",
        "\n",
        "    # group the hits by the session id\n",
        "    if method == \"mean\":\n",
        "        hits = hits.groupby(['Session ID'], as_index=False).mean()\n",
        "    else:\n",
        "        hits = hits.groupby(['Session ID'], as_index=False).median()\n",
        "\n",
        "    # add the hits to their session\n",
        "    sessions  = sessions.join(hits.set_index('Session ID'), on='Session ID', lsuffix='_session', rsuffix='_hit')\n",
        "\n",
        "    # group the sessions by the client id\n",
        "    if method == \"mean\":\n",
        "        sessions = sessions.groupby(['Client ID'], as_index=False).mean()\n",
        "    else:\n",
        "        sessions = sessions.groupby(['Client ID'], as_index=False).median()\n",
        "\n",
        "    # add the sessions to their client\n",
        "    users  = users.join(sessions.set_index('Client ID'), on='Client ID', lsuffix='_user', rsuffix='_session')\n",
        "\n",
        "    # add the targets to their client\n",
        "    users  = users.join(targets.set_index('Client ID'), on='Client ID', lsuffix='_user', rsuffix='_target')\n",
        "\n",
        "    return users"
      ],
      "execution_count": 11,
      "outputs": []
    },
    {
      "cell_type": "code",
      "metadata": {
        "colab": {
          "base_uri": "https://localhost:8080/"
        },
        "id": "LIQnErw23__J",
        "outputId": "df8f9c97-9e01-407a-be6e-73f667c91a68"
      },
      "source": [
        "train_data = create_dataset(train_users, train_sessions, train_hits, train_targets)\n",
        "test_data = create_dataset(test_users, test_sessions, test_hits, test_targets)\n",
        "\n",
        "print(train_data.shape)\n",
        "print(test_data.shape)"
      ],
      "execution_count": 12,
      "outputs": [
        {
          "output_type": "stream",
          "text": [
            "(11200, 19)\n",
            "(1000, 19)\n"
          ],
          "name": "stdout"
        }
      ]
    },
    {
      "cell_type": "code",
      "metadata": {
        "colab": {
          "base_uri": "https://localhost:8080/",
          "height": 238
        },
        "id": "GPEUhB2z1mq8",
        "outputId": "3782f7a0-2435-4c8a-a8f1-a173e8493004"
      },
      "source": [
        "train_data.head()"
      ],
      "execution_count": 13,
      "outputs": [
        {
          "output_type": "execute_result",
          "data": {
            "text/html": [
              "<div>\n",
              "<style scoped>\n",
              "    .dataframe tbody tr th:only-of-type {\n",
              "        vertical-align: middle;\n",
              "    }\n",
              "\n",
              "    .dataframe tbody tr th {\n",
              "        vertical-align: top;\n",
              "    }\n",
              "\n",
              "    .dataframe thead th {\n",
              "        text-align: right;\n",
              "    }\n",
              "</style>\n",
              "<table border=\"1\" class=\"dataframe\">\n",
              "  <thead>\n",
              "    <tr style=\"text-align: right;\">\n",
              "      <th></th>\n",
              "      <th>Client ID</th>\n",
              "      <th>Total Number of Sessions</th>\n",
              "      <th>Type</th>\n",
              "      <th>Session Index</th>\n",
              "      <th>Session Duration</th>\n",
              "      <th>Transactions</th>\n",
              "      <th>Revenue</th>\n",
              "      <th>Search Result Page Hits</th>\n",
              "      <th>Unique Pageviews</th>\n",
              "      <th>Search Refinements</th>\n",
              "      <th>Search Depth</th>\n",
              "      <th>Days Since Last Session</th>\n",
              "      <th>Results Pageviews</th>\n",
              "      <th>Total Unique Searches</th>\n",
              "      <th>Hit Index</th>\n",
              "      <th>Hit Time</th>\n",
              "      <th>Date Hour and Minute</th>\n",
              "      <th>Product Detail Views</th>\n",
              "      <th>segment</th>\n",
              "    </tr>\n",
              "  </thead>\n",
              "  <tbody>\n",
              "    <tr>\n",
              "      <th>0</th>\n",
              "      <td>ML10669446</td>\n",
              "      <td>3</td>\n",
              "      <td>1</td>\n",
              "      <td>1.5</td>\n",
              "      <td>248.500000</td>\n",
              "      <td>0.0</td>\n",
              "      <td>0.0</td>\n",
              "      <td>0.000000</td>\n",
              "      <td>5.500000</td>\n",
              "      <td>0.0</td>\n",
              "      <td>0.000000</td>\n",
              "      <td>53.500000</td>\n",
              "      <td>0.000000</td>\n",
              "      <td>0.000000</td>\n",
              "      <td>7.500000</td>\n",
              "      <td>47624.229167</td>\n",
              "      <td>2.020041e+11</td>\n",
              "      <td>0.00</td>\n",
              "      <td>0</td>\n",
              "    </tr>\n",
              "    <tr>\n",
              "      <th>1</th>\n",
              "      <td>ML1054774</td>\n",
              "      <td>20</td>\n",
              "      <td>2</td>\n",
              "      <td>9.5</td>\n",
              "      <td>830.388889</td>\n",
              "      <td>0.0</td>\n",
              "      <td>0.0</td>\n",
              "      <td>0.000000</td>\n",
              "      <td>5.444444</td>\n",
              "      <td>0.0</td>\n",
              "      <td>0.000000</td>\n",
              "      <td>2.944444</td>\n",
              "      <td>0.000000</td>\n",
              "      <td>0.000000</td>\n",
              "      <td>6.111111</td>\n",
              "      <td>427477.318289</td>\n",
              "      <td>2.020051e+11</td>\n",
              "      <td>0.00</td>\n",
              "      <td>0</td>\n",
              "    </tr>\n",
              "    <tr>\n",
              "      <th>2</th>\n",
              "      <td>ML1023632</td>\n",
              "      <td>17</td>\n",
              "      <td>2</td>\n",
              "      <td>15.5</td>\n",
              "      <td>206.033333</td>\n",
              "      <td>0.0</td>\n",
              "      <td>0.0</td>\n",
              "      <td>0.000000</td>\n",
              "      <td>3.400000</td>\n",
              "      <td>0.0</td>\n",
              "      <td>0.000000</td>\n",
              "      <td>5.333333</td>\n",
              "      <td>0.000000</td>\n",
              "      <td>0.000000</td>\n",
              "      <td>4.250000</td>\n",
              "      <td>96655.143718</td>\n",
              "      <td>2.020035e+11</td>\n",
              "      <td>0.01</td>\n",
              "      <td>0</td>\n",
              "    </tr>\n",
              "    <tr>\n",
              "      <th>3</th>\n",
              "      <td>ML1050999</td>\n",
              "      <td>1</td>\n",
              "      <td>2</td>\n",
              "      <td>7.0</td>\n",
              "      <td>614.000000</td>\n",
              "      <td>0.0</td>\n",
              "      <td>0.0</td>\n",
              "      <td>0.076923</td>\n",
              "      <td>3.846154</td>\n",
              "      <td>0.0</td>\n",
              "      <td>0.307692</td>\n",
              "      <td>7.076923</td>\n",
              "      <td>0.076923</td>\n",
              "      <td>0.076923</td>\n",
              "      <td>4.192308</td>\n",
              "      <td>252253.695688</td>\n",
              "      <td>2.020044e+11</td>\n",
              "      <td>0.00</td>\n",
              "      <td>0</td>\n",
              "    </tr>\n",
              "    <tr>\n",
              "      <th>4</th>\n",
              "      <td>ML10421332</td>\n",
              "      <td>11</td>\n",
              "      <td>1</td>\n",
              "      <td>2.0</td>\n",
              "      <td>20.000000</td>\n",
              "      <td>0.0</td>\n",
              "      <td>0.0</td>\n",
              "      <td>0.000000</td>\n",
              "      <td>1.333333</td>\n",
              "      <td>0.0</td>\n",
              "      <td>0.000000</td>\n",
              "      <td>3.000000</td>\n",
              "      <td>0.000000</td>\n",
              "      <td>0.000000</td>\n",
              "      <td>1.833333</td>\n",
              "      <td>11109.333333</td>\n",
              "      <td>2.020021e+11</td>\n",
              "      <td>0.00</td>\n",
              "      <td>0</td>\n",
              "    </tr>\n",
              "  </tbody>\n",
              "</table>\n",
              "</div>"
            ],
            "text/plain": [
              "    Client ID  Total Number of Sessions  ...  Product Detail Views  segment\n",
              "0  ML10669446                         3  ...                  0.00        0\n",
              "1   ML1054774                        20  ...                  0.00        0\n",
              "2   ML1023632                        17  ...                  0.01        0\n",
              "3   ML1050999                         1  ...                  0.00        0\n",
              "4  ML10421332                        11  ...                  0.00        0\n",
              "\n",
              "[5 rows x 19 columns]"
            ]
          },
          "metadata": {
            "tags": []
          },
          "execution_count": 13
        }
      ]
    },
    {
      "cell_type": "markdown",
      "metadata": {
        "id": "jHiLmUB23__K"
      },
      "source": [
        "Use LabelEncoder to transform the 'Client ID' string to float value"
      ]
    },
    {
      "cell_type": "code",
      "metadata": {
        "colab": {
          "base_uri": "https://localhost:8080/"
        },
        "id": "5o_Pm6oV3__K",
        "outputId": "15749463-e304-4548-9f47-1f6e60c14746"
      },
      "source": [
        "le = LabelEncoder()\n",
        "le.fit(pd.concat([train_data['Client ID'], test_data['Client ID']]).astype(str))\n",
        "train_data['Client ID'] = le.transform(train_data['Client ID'].astype(str))\n",
        "test_data['Client ID'] = le.transform(test_data['Client ID'].astype(str))\n",
        "train_data.dtypes"
      ],
      "execution_count": 14,
      "outputs": [
        {
          "output_type": "execute_result",
          "data": {
            "text/plain": [
              "Client ID                     int64\n",
              "Total Number of Sessions      int64\n",
              "Type                          int64\n",
              "Session Index               float64\n",
              "Session Duration            float64\n",
              "Transactions                float64\n",
              "Revenue                     float64\n",
              "Search Result Page Hits     float64\n",
              "Unique Pageviews            float64\n",
              "Search Refinements          float64\n",
              "Search Depth                float64\n",
              "Days Since Last Session     float64\n",
              "Results Pageviews           float64\n",
              "Total Unique Searches       float64\n",
              "Hit Index                   float64\n",
              "Hit Time                    float64\n",
              "Date Hour and Minute        float64\n",
              "Product Detail Views        float64\n",
              "segment                       int64\n",
              "dtype: object"
            ]
          },
          "metadata": {
            "tags": []
          },
          "execution_count": 14
        }
      ]
    },
    {
      "cell_type": "markdown",
      "metadata": {
        "id": "XLHULQEv3__K"
      },
      "source": [
        "Count if all values are finite"
      ]
    },
    {
      "cell_type": "code",
      "metadata": {
        "colab": {
          "base_uri": "https://localhost:8080/"
        },
        "id": "SYudy69o3__K",
        "outputId": "a37720b8-306d-451e-a0c8-c22e4938b9ae"
      },
      "source": [
        "np.isfinite(train_data).sum()"
      ],
      "execution_count": 15,
      "outputs": [
        {
          "output_type": "execute_result",
          "data": {
            "text/plain": [
              "Client ID                   11200\n",
              "Total Number of Sessions    11200\n",
              "Type                        11200\n",
              "Session Index               11192\n",
              "Session Duration            11192\n",
              "Transactions                11192\n",
              "Revenue                     11192\n",
              "Search Result Page Hits     11192\n",
              "Unique Pageviews            11192\n",
              "Search Refinements          11192\n",
              "Search Depth                11192\n",
              "Days Since Last Session     11192\n",
              "Results Pageviews           11192\n",
              "Total Unique Searches       11192\n",
              "Hit Index                   11192\n",
              "Hit Time                    11192\n",
              "Date Hour and Minute        11192\n",
              "Product Detail Views        11192\n",
              "segment                     11200\n",
              "dtype: int64"
            ]
          },
          "metadata": {
            "tags": []
          },
          "execution_count": 15
        }
      ]
    },
    {
      "cell_type": "markdown",
      "metadata": {
        "id": "PHX3EndKDACQ"
      },
      "source": [
        "Replace infinite values with Nan"
      ]
    },
    {
      "cell_type": "code",
      "metadata": {
        "colab": {
          "base_uri": "https://localhost:8080/",
          "height": 453
        },
        "id": "oRYzqvGC3__J",
        "outputId": "33d0040d-1cc4-4070-9c1d-27b0a78ecff5"
      },
      "source": [
        "# replace inf with nan\n",
        "train_data.replace([np.inf, -np.inf], np.nan)\n",
        "test_data.replace([np.inf, -np.inf], np.nan)"
      ],
      "execution_count": 16,
      "outputs": [
        {
          "output_type": "execute_result",
          "data": {
            "text/html": [
              "<div>\n",
              "<style scoped>\n",
              "    .dataframe tbody tr th:only-of-type {\n",
              "        vertical-align: middle;\n",
              "    }\n",
              "\n",
              "    .dataframe tbody tr th {\n",
              "        vertical-align: top;\n",
              "    }\n",
              "\n",
              "    .dataframe thead th {\n",
              "        text-align: right;\n",
              "    }\n",
              "</style>\n",
              "<table border=\"1\" class=\"dataframe\">\n",
              "  <thead>\n",
              "    <tr style=\"text-align: right;\">\n",
              "      <th></th>\n",
              "      <th>Client ID</th>\n",
              "      <th>Total Number of Sessions</th>\n",
              "      <th>Type</th>\n",
              "      <th>Session Index</th>\n",
              "      <th>Session Duration</th>\n",
              "      <th>Transactions</th>\n",
              "      <th>Revenue</th>\n",
              "      <th>Search Result Page Hits</th>\n",
              "      <th>Unique Pageviews</th>\n",
              "      <th>Search Refinements</th>\n",
              "      <th>Search Depth</th>\n",
              "      <th>Days Since Last Session</th>\n",
              "      <th>Results Pageviews</th>\n",
              "      <th>Total Unique Searches</th>\n",
              "      <th>Hit Index</th>\n",
              "      <th>Hit Time</th>\n",
              "      <th>Date Hour and Minute</th>\n",
              "      <th>Product Detail Views</th>\n",
              "      <th>segment</th>\n",
              "    </tr>\n",
              "  </thead>\n",
              "  <tbody>\n",
              "    <tr>\n",
              "      <th>0</th>\n",
              "      <td>7802</td>\n",
              "      <td>1</td>\n",
              "      <td>2</td>\n",
              "      <td>8.5</td>\n",
              "      <td>285.187500</td>\n",
              "      <td>0.0</td>\n",
              "      <td>0.0</td>\n",
              "      <td>0.000000</td>\n",
              "      <td>4.000000</td>\n",
              "      <td>0.000000</td>\n",
              "      <td>0.000000</td>\n",
              "      <td>10.437500</td>\n",
              "      <td>0.000000</td>\n",
              "      <td>0.000000</td>\n",
              "      <td>4.562500</td>\n",
              "      <td>8.321651e+04</td>\n",
              "      <td>2.020038e+11</td>\n",
              "      <td>0.012931</td>\n",
              "      <td>0.5</td>\n",
              "    </tr>\n",
              "    <tr>\n",
              "      <th>1</th>\n",
              "      <td>2263</td>\n",
              "      <td>3</td>\n",
              "      <td>2</td>\n",
              "      <td>33.5</td>\n",
              "      <td>562.651515</td>\n",
              "      <td>0.0</td>\n",
              "      <td>0.0</td>\n",
              "      <td>0.075758</td>\n",
              "      <td>1.818182</td>\n",
              "      <td>0.015152</td>\n",
              "      <td>0.151515</td>\n",
              "      <td>2.363636</td>\n",
              "      <td>0.045455</td>\n",
              "      <td>0.045455</td>\n",
              "      <td>2.856061</td>\n",
              "      <td>2.803967e+05</td>\n",
              "      <td>2.020038e+11</td>\n",
              "      <td>0.036105</td>\n",
              "      <td>0.5</td>\n",
              "    </tr>\n",
              "    <tr>\n",
              "      <th>2</th>\n",
              "      <td>6572</td>\n",
              "      <td>1</td>\n",
              "      <td>2</td>\n",
              "      <td>8.0</td>\n",
              "      <td>326.133333</td>\n",
              "      <td>0.0</td>\n",
              "      <td>0.0</td>\n",
              "      <td>0.000000</td>\n",
              "      <td>3.200000</td>\n",
              "      <td>0.000000</td>\n",
              "      <td>0.000000</td>\n",
              "      <td>7.733333</td>\n",
              "      <td>0.000000</td>\n",
              "      <td>0.000000</td>\n",
              "      <td>6.666667</td>\n",
              "      <td>1.517154e+05</td>\n",
              "      <td>2.020045e+11</td>\n",
              "      <td>0.087637</td>\n",
              "      <td>0.5</td>\n",
              "    </tr>\n",
              "    <tr>\n",
              "      <th>3</th>\n",
              "      <td>2523</td>\n",
              "      <td>19</td>\n",
              "      <td>2</td>\n",
              "      <td>16.5</td>\n",
              "      <td>415.656250</td>\n",
              "      <td>0.0</td>\n",
              "      <td>0.0</td>\n",
              "      <td>0.750000</td>\n",
              "      <td>4.750000</td>\n",
              "      <td>0.125000</td>\n",
              "      <td>1.093750</td>\n",
              "      <td>4.718750</td>\n",
              "      <td>0.406250</td>\n",
              "      <td>0.312500</td>\n",
              "      <td>4.750000</td>\n",
              "      <td>2.267386e+05</td>\n",
              "      <td>2.020042e+11</td>\n",
              "      <td>0.009868</td>\n",
              "      <td>0.5</td>\n",
              "    </tr>\n",
              "    <tr>\n",
              "      <th>4</th>\n",
              "      <td>6765</td>\n",
              "      <td>37</td>\n",
              "      <td>1</td>\n",
              "      <td>2.5</td>\n",
              "      <td>336.500000</td>\n",
              "      <td>0.0</td>\n",
              "      <td>0.0</td>\n",
              "      <td>0.000000</td>\n",
              "      <td>6.250000</td>\n",
              "      <td>0.000000</td>\n",
              "      <td>0.000000</td>\n",
              "      <td>36.250000</td>\n",
              "      <td>0.000000</td>\n",
              "      <td>0.000000</td>\n",
              "      <td>3.875000</td>\n",
              "      <td>5.621226e+04</td>\n",
              "      <td>2.020036e+11</td>\n",
              "      <td>0.000000</td>\n",
              "      <td>0.5</td>\n",
              "    </tr>\n",
              "    <tr>\n",
              "      <th>...</th>\n",
              "      <td>...</td>\n",
              "      <td>...</td>\n",
              "      <td>...</td>\n",
              "      <td>...</td>\n",
              "      <td>...</td>\n",
              "      <td>...</td>\n",
              "      <td>...</td>\n",
              "      <td>...</td>\n",
              "      <td>...</td>\n",
              "      <td>...</td>\n",
              "      <td>...</td>\n",
              "      <td>...</td>\n",
              "      <td>...</td>\n",
              "      <td>...</td>\n",
              "      <td>...</td>\n",
              "      <td>...</td>\n",
              "      <td>...</td>\n",
              "      <td>...</td>\n",
              "      <td>...</td>\n",
              "    </tr>\n",
              "    <tr>\n",
              "      <th>995</th>\n",
              "      <td>8062</td>\n",
              "      <td>1</td>\n",
              "      <td>9</td>\n",
              "      <td>1.0</td>\n",
              "      <td>3787.000000</td>\n",
              "      <td>0.0</td>\n",
              "      <td>0.0</td>\n",
              "      <td>0.000000</td>\n",
              "      <td>32.000000</td>\n",
              "      <td>0.000000</td>\n",
              "      <td>0.000000</td>\n",
              "      <td>0.000000</td>\n",
              "      <td>0.000000</td>\n",
              "      <td>0.000000</td>\n",
              "      <td>38.000000</td>\n",
              "      <td>2.144218e+06</td>\n",
              "      <td>2.020033e+11</td>\n",
              "      <td>0.000000</td>\n",
              "      <td>0.5</td>\n",
              "    </tr>\n",
              "    <tr>\n",
              "      <th>996</th>\n",
              "      <td>584</td>\n",
              "      <td>25</td>\n",
              "      <td>2</td>\n",
              "      <td>2.0</td>\n",
              "      <td>420.666667</td>\n",
              "      <td>0.0</td>\n",
              "      <td>0.0</td>\n",
              "      <td>0.000000</td>\n",
              "      <td>3.333333</td>\n",
              "      <td>0.000000</td>\n",
              "      <td>0.000000</td>\n",
              "      <td>24.000000</td>\n",
              "      <td>0.000000</td>\n",
              "      <td>0.000000</td>\n",
              "      <td>5.000000</td>\n",
              "      <td>1.063912e+05</td>\n",
              "      <td>2.020045e+11</td>\n",
              "      <td>0.000000</td>\n",
              "      <td>0.5</td>\n",
              "    </tr>\n",
              "    <tr>\n",
              "      <th>997</th>\n",
              "      <td>8791</td>\n",
              "      <td>8</td>\n",
              "      <td>9</td>\n",
              "      <td>2.5</td>\n",
              "      <td>86.000000</td>\n",
              "      <td>0.0</td>\n",
              "      <td>0.0</td>\n",
              "      <td>0.250000</td>\n",
              "      <td>2.750000</td>\n",
              "      <td>0.000000</td>\n",
              "      <td>0.000000</td>\n",
              "      <td>17.000000</td>\n",
              "      <td>0.000000</td>\n",
              "      <td>0.000000</td>\n",
              "      <td>2.250000</td>\n",
              "      <td>4.147883e+04</td>\n",
              "      <td>2.020049e+11</td>\n",
              "      <td>0.000000</td>\n",
              "      <td>0.5</td>\n",
              "    </tr>\n",
              "    <tr>\n",
              "      <th>998</th>\n",
              "      <td>3573</td>\n",
              "      <td>2</td>\n",
              "      <td>1</td>\n",
              "      <td>1.5</td>\n",
              "      <td>257.500000</td>\n",
              "      <td>0.0</td>\n",
              "      <td>0.0</td>\n",
              "      <td>0.000000</td>\n",
              "      <td>6.500000</td>\n",
              "      <td>0.000000</td>\n",
              "      <td>0.000000</td>\n",
              "      <td>0.000000</td>\n",
              "      <td>0.000000</td>\n",
              "      <td>0.000000</td>\n",
              "      <td>4.750000</td>\n",
              "      <td>1.356443e+05</td>\n",
              "      <td>2.020033e+11</td>\n",
              "      <td>0.000000</td>\n",
              "      <td>0.5</td>\n",
              "    </tr>\n",
              "    <tr>\n",
              "      <th>999</th>\n",
              "      <td>6465</td>\n",
              "      <td>2</td>\n",
              "      <td>1</td>\n",
              "      <td>1.5</td>\n",
              "      <td>355.500000</td>\n",
              "      <td>0.0</td>\n",
              "      <td>0.0</td>\n",
              "      <td>0.000000</td>\n",
              "      <td>6.500000</td>\n",
              "      <td>0.000000</td>\n",
              "      <td>0.000000</td>\n",
              "      <td>14.500000</td>\n",
              "      <td>0.000000</td>\n",
              "      <td>0.000000</td>\n",
              "      <td>11.250000</td>\n",
              "      <td>1.449813e+05</td>\n",
              "      <td>2.020056e+11</td>\n",
              "      <td>0.105263</td>\n",
              "      <td>0.5</td>\n",
              "    </tr>\n",
              "  </tbody>\n",
              "</table>\n",
              "<p>1000 rows × 19 columns</p>\n",
              "</div>"
            ],
            "text/plain": [
              "     Client ID  Total Number of Sessions  ...  Product Detail Views  segment\n",
              "0         7802                         1  ...              0.012931      0.5\n",
              "1         2263                         3  ...              0.036105      0.5\n",
              "2         6572                         1  ...              0.087637      0.5\n",
              "3         2523                        19  ...              0.009868      0.5\n",
              "4         6765                        37  ...              0.000000      0.5\n",
              "..         ...                       ...  ...                   ...      ...\n",
              "995       8062                         1  ...              0.000000      0.5\n",
              "996        584                        25  ...              0.000000      0.5\n",
              "997       8791                         8  ...              0.000000      0.5\n",
              "998       3573                         2  ...              0.000000      0.5\n",
              "999       6465                         2  ...              0.105263      0.5\n",
              "\n",
              "[1000 rows x 19 columns]"
            ]
          },
          "metadata": {
            "tags": []
          },
          "execution_count": 16
        }
      ]
    },
    {
      "cell_type": "markdown",
      "metadata": {
        "id": "U9lXPhrF3__J"
      },
      "source": [
        "Count nan values"
      ]
    },
    {
      "cell_type": "code",
      "metadata": {
        "colab": {
          "base_uri": "https://localhost:8080/"
        },
        "id": "IJ0AF_rg3__J",
        "outputId": "f5b76880-6cc7-412e-fe83-8c4e5b320f13"
      },
      "source": [
        "train_data.isna().sum()"
      ],
      "execution_count": 17,
      "outputs": [
        {
          "output_type": "execute_result",
          "data": {
            "text/plain": [
              "Client ID                   0\n",
              "Total Number of Sessions    0\n",
              "Type                        0\n",
              "Session Index               8\n",
              "Session Duration            8\n",
              "Transactions                8\n",
              "Revenue                     8\n",
              "Search Result Page Hits     8\n",
              "Unique Pageviews            8\n",
              "Search Refinements          8\n",
              "Search Depth                8\n",
              "Days Since Last Session     8\n",
              "Results Pageviews           8\n",
              "Total Unique Searches       8\n",
              "Hit Index                   8\n",
              "Hit Time                    8\n",
              "Date Hour and Minute        8\n",
              "Product Detail Views        8\n",
              "segment                     0\n",
              "dtype: int64"
            ]
          },
          "metadata": {
            "tags": []
          },
          "execution_count": 17
        }
      ]
    },
    {
      "cell_type": "markdown",
      "metadata": {
        "id": "mItHTiXfDH4T"
      },
      "source": [
        "Remove data with nan values"
      ]
    },
    {
      "cell_type": "code",
      "metadata": {
        "colab": {
          "base_uri": "https://localhost:8080/"
        },
        "id": "HSlVklgC3__J",
        "outputId": "79e7314b-45e7-4a5e-db11-714b000c9470"
      },
      "source": [
        "train_data.dropna(inplace=True)\n",
        "test_data.dropna(inplace=True)\n",
        "\n",
        "train_data.isna().sum()"
      ],
      "execution_count": 18,
      "outputs": [
        {
          "output_type": "execute_result",
          "data": {
            "text/plain": [
              "Client ID                   0\n",
              "Total Number of Sessions    0\n",
              "Type                        0\n",
              "Session Index               0\n",
              "Session Duration            0\n",
              "Transactions                0\n",
              "Revenue                     0\n",
              "Search Result Page Hits     0\n",
              "Unique Pageviews            0\n",
              "Search Refinements          0\n",
              "Search Depth                0\n",
              "Days Since Last Session     0\n",
              "Results Pageviews           0\n",
              "Total Unique Searches       0\n",
              "Hit Index                   0\n",
              "Hit Time                    0\n",
              "Date Hour and Minute        0\n",
              "Product Detail Views        0\n",
              "segment                     0\n",
              "dtype: int64"
            ]
          },
          "metadata": {
            "tags": []
          },
          "execution_count": 18
        }
      ]
    },
    {
      "cell_type": "code",
      "metadata": {
        "colab": {
          "base_uri": "https://localhost:8080/"
        },
        "id": "5pJM4Kf_3__J",
        "outputId": "fd2058bb-e361-4d40-e708-08fca0e641af"
      },
      "source": [
        "test_data.isna().sum()"
      ],
      "execution_count": 19,
      "outputs": [
        {
          "output_type": "execute_result",
          "data": {
            "text/plain": [
              "Client ID                   0\n",
              "Total Number of Sessions    0\n",
              "Type                        0\n",
              "Session Index               0\n",
              "Session Duration            0\n",
              "Transactions                0\n",
              "Revenue                     0\n",
              "Search Result Page Hits     0\n",
              "Unique Pageviews            0\n",
              "Search Refinements          0\n",
              "Search Depth                0\n",
              "Days Since Last Session     0\n",
              "Results Pageviews           0\n",
              "Total Unique Searches       0\n",
              "Hit Index                   0\n",
              "Hit Time                    0\n",
              "Date Hour and Minute        0\n",
              "Product Detail Views        0\n",
              "segment                     0\n",
              "dtype: int64"
            ]
          },
          "metadata": {
            "tags": []
          },
          "execution_count": 19
        }
      ]
    },
    {
      "cell_type": "markdown",
      "metadata": {
        "id": "YpfJ_Apy3__J"
      },
      "source": [
        "See columns types"
      ]
    },
    {
      "cell_type": "code",
      "metadata": {
        "colab": {
          "base_uri": "https://localhost:8080/"
        },
        "id": "hsQWTk4e3__K",
        "outputId": "773c03d6-db66-4def-e1b7-cccac7eab46a"
      },
      "source": [
        "train_data.dtypes"
      ],
      "execution_count": 20,
      "outputs": [
        {
          "output_type": "execute_result",
          "data": {
            "text/plain": [
              "Client ID                     int64\n",
              "Total Number of Sessions      int64\n",
              "Type                          int64\n",
              "Session Index               float64\n",
              "Session Duration            float64\n",
              "Transactions                float64\n",
              "Revenue                     float64\n",
              "Search Result Page Hits     float64\n",
              "Unique Pageviews            float64\n",
              "Search Refinements          float64\n",
              "Search Depth                float64\n",
              "Days Since Last Session     float64\n",
              "Results Pageviews           float64\n",
              "Total Unique Searches       float64\n",
              "Hit Index                   float64\n",
              "Hit Time                    float64\n",
              "Date Hour and Minute        float64\n",
              "Product Detail Views        float64\n",
              "segment                       int64\n",
              "dtype: object"
            ]
          },
          "metadata": {
            "tags": []
          },
          "execution_count": 20
        }
      ]
    },
    {
      "cell_type": "code",
      "metadata": {
        "colab": {
          "base_uri": "https://localhost:8080/",
          "height": 238
        },
        "id": "9r_mmLAu1tae",
        "outputId": "d0fd6fb3-13fe-499e-b9dc-f1aa3056ba42"
      },
      "source": [
        "train_data.head()"
      ],
      "execution_count": 21,
      "outputs": [
        {
          "output_type": "execute_result",
          "data": {
            "text/html": [
              "<div>\n",
              "<style scoped>\n",
              "    .dataframe tbody tr th:only-of-type {\n",
              "        vertical-align: middle;\n",
              "    }\n",
              "\n",
              "    .dataframe tbody tr th {\n",
              "        vertical-align: top;\n",
              "    }\n",
              "\n",
              "    .dataframe thead th {\n",
              "        text-align: right;\n",
              "    }\n",
              "</style>\n",
              "<table border=\"1\" class=\"dataframe\">\n",
              "  <thead>\n",
              "    <tr style=\"text-align: right;\">\n",
              "      <th></th>\n",
              "      <th>Client ID</th>\n",
              "      <th>Total Number of Sessions</th>\n",
              "      <th>Type</th>\n",
              "      <th>Session Index</th>\n",
              "      <th>Session Duration</th>\n",
              "      <th>Transactions</th>\n",
              "      <th>Revenue</th>\n",
              "      <th>Search Result Page Hits</th>\n",
              "      <th>Unique Pageviews</th>\n",
              "      <th>Search Refinements</th>\n",
              "      <th>Search Depth</th>\n",
              "      <th>Days Since Last Session</th>\n",
              "      <th>Results Pageviews</th>\n",
              "      <th>Total Unique Searches</th>\n",
              "      <th>Hit Index</th>\n",
              "      <th>Hit Time</th>\n",
              "      <th>Date Hour and Minute</th>\n",
              "      <th>Product Detail Views</th>\n",
              "      <th>segment</th>\n",
              "    </tr>\n",
              "  </thead>\n",
              "  <tbody>\n",
              "    <tr>\n",
              "      <th>0</th>\n",
              "      <td>8625</td>\n",
              "      <td>3</td>\n",
              "      <td>1</td>\n",
              "      <td>1.5</td>\n",
              "      <td>248.500000</td>\n",
              "      <td>0.0</td>\n",
              "      <td>0.0</td>\n",
              "      <td>0.000000</td>\n",
              "      <td>5.500000</td>\n",
              "      <td>0.0</td>\n",
              "      <td>0.000000</td>\n",
              "      <td>53.500000</td>\n",
              "      <td>0.000000</td>\n",
              "      <td>0.000000</td>\n",
              "      <td>7.500000</td>\n",
              "      <td>47624.229167</td>\n",
              "      <td>2.020041e+11</td>\n",
              "      <td>0.00</td>\n",
              "      <td>0</td>\n",
              "    </tr>\n",
              "    <tr>\n",
              "      <th>1</th>\n",
              "      <td>7061</td>\n",
              "      <td>20</td>\n",
              "      <td>2</td>\n",
              "      <td>9.5</td>\n",
              "      <td>830.388889</td>\n",
              "      <td>0.0</td>\n",
              "      <td>0.0</td>\n",
              "      <td>0.000000</td>\n",
              "      <td>5.444444</td>\n",
              "      <td>0.0</td>\n",
              "      <td>0.000000</td>\n",
              "      <td>2.944444</td>\n",
              "      <td>0.000000</td>\n",
              "      <td>0.000000</td>\n",
              "      <td>6.111111</td>\n",
              "      <td>427477.318289</td>\n",
              "      <td>2.020051e+11</td>\n",
              "      <td>0.00</td>\n",
              "      <td>0</td>\n",
              "    </tr>\n",
              "    <tr>\n",
              "      <th>2</th>\n",
              "      <td>3417</td>\n",
              "      <td>17</td>\n",
              "      <td>2</td>\n",
              "      <td>15.5</td>\n",
              "      <td>206.033333</td>\n",
              "      <td>0.0</td>\n",
              "      <td>0.0</td>\n",
              "      <td>0.000000</td>\n",
              "      <td>3.400000</td>\n",
              "      <td>0.0</td>\n",
              "      <td>0.000000</td>\n",
              "      <td>5.333333</td>\n",
              "      <td>0.000000</td>\n",
              "      <td>0.000000</td>\n",
              "      <td>4.250000</td>\n",
              "      <td>96655.143718</td>\n",
              "      <td>2.020035e+11</td>\n",
              "      <td>0.01</td>\n",
              "      <td>0</td>\n",
              "    </tr>\n",
              "    <tr>\n",
              "      <th>3</th>\n",
              "      <td>6629</td>\n",
              "      <td>1</td>\n",
              "      <td>2</td>\n",
              "      <td>7.0</td>\n",
              "      <td>614.000000</td>\n",
              "      <td>0.0</td>\n",
              "      <td>0.0</td>\n",
              "      <td>0.076923</td>\n",
              "      <td>3.846154</td>\n",
              "      <td>0.0</td>\n",
              "      <td>0.307692</td>\n",
              "      <td>7.076923</td>\n",
              "      <td>0.076923</td>\n",
              "      <td>0.076923</td>\n",
              "      <td>4.192308</td>\n",
              "      <td>252253.695688</td>\n",
              "      <td>2.020044e+11</td>\n",
              "      <td>0.00</td>\n",
              "      <td>0</td>\n",
              "    </tr>\n",
              "    <tr>\n",
              "      <th>4</th>\n",
              "      <td>5657</td>\n",
              "      <td>11</td>\n",
              "      <td>1</td>\n",
              "      <td>2.0</td>\n",
              "      <td>20.000000</td>\n",
              "      <td>0.0</td>\n",
              "      <td>0.0</td>\n",
              "      <td>0.000000</td>\n",
              "      <td>1.333333</td>\n",
              "      <td>0.0</td>\n",
              "      <td>0.000000</td>\n",
              "      <td>3.000000</td>\n",
              "      <td>0.000000</td>\n",
              "      <td>0.000000</td>\n",
              "      <td>1.833333</td>\n",
              "      <td>11109.333333</td>\n",
              "      <td>2.020021e+11</td>\n",
              "      <td>0.00</td>\n",
              "      <td>0</td>\n",
              "    </tr>\n",
              "  </tbody>\n",
              "</table>\n",
              "</div>"
            ],
            "text/plain": [
              "   Client ID  Total Number of Sessions  ...  Product Detail Views  segment\n",
              "0       8625                         3  ...                  0.00        0\n",
              "1       7061                        20  ...                  0.00        0\n",
              "2       3417                        17  ...                  0.01        0\n",
              "3       6629                         1  ...                  0.00        0\n",
              "4       5657                        11  ...                  0.00        0\n",
              "\n",
              "[5 rows x 19 columns]"
            ]
          },
          "metadata": {
            "tags": []
          },
          "execution_count": 21
        }
      ]
    },
    {
      "cell_type": "code",
      "metadata": {
        "colab": {
          "base_uri": "https://localhost:8080/",
          "height": 238
        },
        "id": "HitpPxIc46KT",
        "outputId": "3d075ad9-8469-4a60-d670-f6382fd7a3dd"
      },
      "source": [
        "test_data.head()"
      ],
      "execution_count": 22,
      "outputs": [
        {
          "output_type": "execute_result",
          "data": {
            "text/html": [
              "<div>\n",
              "<style scoped>\n",
              "    .dataframe tbody tr th:only-of-type {\n",
              "        vertical-align: middle;\n",
              "    }\n",
              "\n",
              "    .dataframe tbody tr th {\n",
              "        vertical-align: top;\n",
              "    }\n",
              "\n",
              "    .dataframe thead th {\n",
              "        text-align: right;\n",
              "    }\n",
              "</style>\n",
              "<table border=\"1\" class=\"dataframe\">\n",
              "  <thead>\n",
              "    <tr style=\"text-align: right;\">\n",
              "      <th></th>\n",
              "      <th>Client ID</th>\n",
              "      <th>Total Number of Sessions</th>\n",
              "      <th>Type</th>\n",
              "      <th>Session Index</th>\n",
              "      <th>Session Duration</th>\n",
              "      <th>Transactions</th>\n",
              "      <th>Revenue</th>\n",
              "      <th>Search Result Page Hits</th>\n",
              "      <th>Unique Pageviews</th>\n",
              "      <th>Search Refinements</th>\n",
              "      <th>Search Depth</th>\n",
              "      <th>Days Since Last Session</th>\n",
              "      <th>Results Pageviews</th>\n",
              "      <th>Total Unique Searches</th>\n",
              "      <th>Hit Index</th>\n",
              "      <th>Hit Time</th>\n",
              "      <th>Date Hour and Minute</th>\n",
              "      <th>Product Detail Views</th>\n",
              "      <th>segment</th>\n",
              "    </tr>\n",
              "  </thead>\n",
              "  <tbody>\n",
              "    <tr>\n",
              "      <th>0</th>\n",
              "      <td>7802</td>\n",
              "      <td>1</td>\n",
              "      <td>2</td>\n",
              "      <td>8.5</td>\n",
              "      <td>285.187500</td>\n",
              "      <td>0.0</td>\n",
              "      <td>0.0</td>\n",
              "      <td>0.000000</td>\n",
              "      <td>4.000000</td>\n",
              "      <td>0.000000</td>\n",
              "      <td>0.000000</td>\n",
              "      <td>10.437500</td>\n",
              "      <td>0.000000</td>\n",
              "      <td>0.000000</td>\n",
              "      <td>4.562500</td>\n",
              "      <td>83216.512552</td>\n",
              "      <td>2.020038e+11</td>\n",
              "      <td>0.012931</td>\n",
              "      <td>0.5</td>\n",
              "    </tr>\n",
              "    <tr>\n",
              "      <th>1</th>\n",
              "      <td>2263</td>\n",
              "      <td>3</td>\n",
              "      <td>2</td>\n",
              "      <td>33.5</td>\n",
              "      <td>562.651515</td>\n",
              "      <td>0.0</td>\n",
              "      <td>0.0</td>\n",
              "      <td>0.075758</td>\n",
              "      <td>1.818182</td>\n",
              "      <td>0.015152</td>\n",
              "      <td>0.151515</td>\n",
              "      <td>2.363636</td>\n",
              "      <td>0.045455</td>\n",
              "      <td>0.045455</td>\n",
              "      <td>2.856061</td>\n",
              "      <td>280396.683224</td>\n",
              "      <td>2.020038e+11</td>\n",
              "      <td>0.036105</td>\n",
              "      <td>0.5</td>\n",
              "    </tr>\n",
              "    <tr>\n",
              "      <th>2</th>\n",
              "      <td>6572</td>\n",
              "      <td>1</td>\n",
              "      <td>2</td>\n",
              "      <td>8.0</td>\n",
              "      <td>326.133333</td>\n",
              "      <td>0.0</td>\n",
              "      <td>0.0</td>\n",
              "      <td>0.000000</td>\n",
              "      <td>3.200000</td>\n",
              "      <td>0.000000</td>\n",
              "      <td>0.000000</td>\n",
              "      <td>7.733333</td>\n",
              "      <td>0.000000</td>\n",
              "      <td>0.000000</td>\n",
              "      <td>6.666667</td>\n",
              "      <td>151715.383549</td>\n",
              "      <td>2.020045e+11</td>\n",
              "      <td>0.087637</td>\n",
              "      <td>0.5</td>\n",
              "    </tr>\n",
              "    <tr>\n",
              "      <th>3</th>\n",
              "      <td>2523</td>\n",
              "      <td>19</td>\n",
              "      <td>2</td>\n",
              "      <td>16.5</td>\n",
              "      <td>415.656250</td>\n",
              "      <td>0.0</td>\n",
              "      <td>0.0</td>\n",
              "      <td>0.750000</td>\n",
              "      <td>4.750000</td>\n",
              "      <td>0.125000</td>\n",
              "      <td>1.093750</td>\n",
              "      <td>4.718750</td>\n",
              "      <td>0.406250</td>\n",
              "      <td>0.312500</td>\n",
              "      <td>4.750000</td>\n",
              "      <td>226738.635647</td>\n",
              "      <td>2.020042e+11</td>\n",
              "      <td>0.009868</td>\n",
              "      <td>0.5</td>\n",
              "    </tr>\n",
              "    <tr>\n",
              "      <th>4</th>\n",
              "      <td>6765</td>\n",
              "      <td>37</td>\n",
              "      <td>1</td>\n",
              "      <td>2.5</td>\n",
              "      <td>336.500000</td>\n",
              "      <td>0.0</td>\n",
              "      <td>0.0</td>\n",
              "      <td>0.000000</td>\n",
              "      <td>6.250000</td>\n",
              "      <td>0.000000</td>\n",
              "      <td>0.000000</td>\n",
              "      <td>36.250000</td>\n",
              "      <td>0.000000</td>\n",
              "      <td>0.000000</td>\n",
              "      <td>3.875000</td>\n",
              "      <td>56212.258929</td>\n",
              "      <td>2.020036e+11</td>\n",
              "      <td>0.000000</td>\n",
              "      <td>0.5</td>\n",
              "    </tr>\n",
              "  </tbody>\n",
              "</table>\n",
              "</div>"
            ],
            "text/plain": [
              "   Client ID  Total Number of Sessions  ...  Product Detail Views  segment\n",
              "0       7802                         1  ...              0.012931      0.5\n",
              "1       2263                         3  ...              0.036105      0.5\n",
              "2       6572                         1  ...              0.087637      0.5\n",
              "3       2523                        19  ...              0.009868      0.5\n",
              "4       6765                        37  ...              0.000000      0.5\n",
              "\n",
              "[5 rows x 19 columns]"
            ]
          },
          "metadata": {
            "tags": []
          },
          "execution_count": 22
        }
      ]
    },
    {
      "cell_type": "markdown",
      "metadata": {
        "id": "6O3j4PhL3__K"
      },
      "source": [
        "Split the target from the user data"
      ]
    },
    {
      "cell_type": "code",
      "metadata": {
        "id": "aj-Kuegv3__K",
        "scrolled": true
      },
      "source": [
        "train_y = train_data['segment']\n",
        "train_X = train_data.drop(['segment'], axis=1)\n",
        "\n",
        "test_y = test_data['segment']\n",
        "test_X = test_data.drop(['segment'], axis=1)\n"
      ],
      "execution_count": 23,
      "outputs": []
    },
    {
      "cell_type": "code",
      "metadata": {
        "id": "gHKRJWdUEksa"
      },
      "source": [
        ""
      ],
      "execution_count": 23,
      "outputs": []
    },
    {
      "cell_type": "markdown",
      "metadata": {
        "id": "RJL_mv2DEjpC"
      },
      "source": [
        "Normalize the data excepting the 'Client ID', because we need it to identify the client predicted segment"
      ]
    },
    {
      "cell_type": "code",
      "metadata": {
        "id": "MSlmS5CS4X6p"
      },
      "source": [
        "\n",
        "min_max_scaler = MinMaxScaler()\n",
        "\n",
        "columns = []\n",
        "for col in list(test_X.columns):\n",
        "  if col != \"Client ID\":\n",
        "    columns.append(col)\n",
        "\n",
        "test_X.loc[:, columns] = min_max_scaler.fit_transform(test_X[columns])\n",
        "train_X.loc[:, columns] = min_max_scaler.fit_transform(train_X[columns])\n"
      ],
      "execution_count": 24,
      "outputs": []
    },
    {
      "cell_type": "code",
      "metadata": {
        "colab": {
          "base_uri": "https://localhost:8080/",
          "height": 238
        },
        "id": "HC9C6sia2AHV",
        "outputId": "9b80267a-e109-4551-acb3-8c91664c9784"
      },
      "source": [
        "train_X.head()"
      ],
      "execution_count": 25,
      "outputs": [
        {
          "output_type": "execute_result",
          "data": {
            "text/html": [
              "<div>\n",
              "<style scoped>\n",
              "    .dataframe tbody tr th:only-of-type {\n",
              "        vertical-align: middle;\n",
              "    }\n",
              "\n",
              "    .dataframe tbody tr th {\n",
              "        vertical-align: top;\n",
              "    }\n",
              "\n",
              "    .dataframe thead th {\n",
              "        text-align: right;\n",
              "    }\n",
              "</style>\n",
              "<table border=\"1\" class=\"dataframe\">\n",
              "  <thead>\n",
              "    <tr style=\"text-align: right;\">\n",
              "      <th></th>\n",
              "      <th>Client ID</th>\n",
              "      <th>Total Number of Sessions</th>\n",
              "      <th>Type</th>\n",
              "      <th>Session Index</th>\n",
              "      <th>Session Duration</th>\n",
              "      <th>Transactions</th>\n",
              "      <th>Revenue</th>\n",
              "      <th>Search Result Page Hits</th>\n",
              "      <th>Unique Pageviews</th>\n",
              "      <th>Search Refinements</th>\n",
              "      <th>Search Depth</th>\n",
              "      <th>Days Since Last Session</th>\n",
              "      <th>Results Pageviews</th>\n",
              "      <th>Total Unique Searches</th>\n",
              "      <th>Hit Index</th>\n",
              "      <th>Hit Time</th>\n",
              "      <th>Date Hour and Minute</th>\n",
              "      <th>Product Detail Views</th>\n",
              "    </tr>\n",
              "  </thead>\n",
              "  <tbody>\n",
              "    <tr>\n",
              "      <th>0</th>\n",
              "      <td>8625</td>\n",
              "      <td>0.000398</td>\n",
              "      <td>0.000</td>\n",
              "      <td>0.001815</td>\n",
              "      <td>0.032686</td>\n",
              "      <td>0.0</td>\n",
              "      <td>0.0</td>\n",
              "      <td>0.000000</td>\n",
              "      <td>0.133663</td>\n",
              "      <td>0.0</td>\n",
              "      <td>0.000000</td>\n",
              "      <td>0.604520</td>\n",
              "      <td>0.000000</td>\n",
              "      <td>0.000000</td>\n",
              "      <td>0.035036</td>\n",
              "      <td>0.014387</td>\n",
              "      <td>0.969579</td>\n",
              "      <td>0.000000</td>\n",
              "    </tr>\n",
              "    <tr>\n",
              "      <th>1</th>\n",
              "      <td>7061</td>\n",
              "      <td>0.003777</td>\n",
              "      <td>0.125</td>\n",
              "      <td>0.030853</td>\n",
              "      <td>0.109534</td>\n",
              "      <td>0.0</td>\n",
              "      <td>0.0</td>\n",
              "      <td>0.000000</td>\n",
              "      <td>0.132013</td>\n",
              "      <td>0.0</td>\n",
              "      <td>0.000000</td>\n",
              "      <td>0.033271</td>\n",
              "      <td>0.000000</td>\n",
              "      <td>0.000000</td>\n",
              "      <td>0.026926</td>\n",
              "      <td>0.129755</td>\n",
              "      <td>0.980122</td>\n",
              "      <td>0.000000</td>\n",
              "    </tr>\n",
              "    <tr>\n",
              "      <th>2</th>\n",
              "      <td>3417</td>\n",
              "      <td>0.003181</td>\n",
              "      <td>0.125</td>\n",
              "      <td>0.052632</td>\n",
              "      <td>0.027078</td>\n",
              "      <td>0.0</td>\n",
              "      <td>0.0</td>\n",
              "      <td>0.000000</td>\n",
              "      <td>0.071287</td>\n",
              "      <td>0.0</td>\n",
              "      <td>0.000000</td>\n",
              "      <td>0.060264</td>\n",
              "      <td>0.000000</td>\n",
              "      <td>0.000000</td>\n",
              "      <td>0.016058</td>\n",
              "      <td>0.029279</td>\n",
              "      <td>0.962415</td>\n",
              "      <td>0.009524</td>\n",
              "    </tr>\n",
              "    <tr>\n",
              "      <th>3</th>\n",
              "      <td>6629</td>\n",
              "      <td>0.000000</td>\n",
              "      <td>0.125</td>\n",
              "      <td>0.021779</td>\n",
              "      <td>0.080956</td>\n",
              "      <td>0.0</td>\n",
              "      <td>0.0</td>\n",
              "      <td>0.005044</td>\n",
              "      <td>0.084539</td>\n",
              "      <td>0.0</td>\n",
              "      <td>0.008791</td>\n",
              "      <td>0.079965</td>\n",
              "      <td>0.009324</td>\n",
              "      <td>0.021978</td>\n",
              "      <td>0.015722</td>\n",
              "      <td>0.076537</td>\n",
              "      <td>0.972072</td>\n",
              "      <td>0.000000</td>\n",
              "    </tr>\n",
              "    <tr>\n",
              "      <th>4</th>\n",
              "      <td>5657</td>\n",
              "      <td>0.001988</td>\n",
              "      <td>0.000</td>\n",
              "      <td>0.003630</td>\n",
              "      <td>0.002509</td>\n",
              "      <td>0.0</td>\n",
              "      <td>0.0</td>\n",
              "      <td>0.000000</td>\n",
              "      <td>0.009901</td>\n",
              "      <td>0.0</td>\n",
              "      <td>0.000000</td>\n",
              "      <td>0.033898</td>\n",
              "      <td>0.000000</td>\n",
              "      <td>0.000000</td>\n",
              "      <td>0.001946</td>\n",
              "      <td>0.003297</td>\n",
              "      <td>0.948210</td>\n",
              "      <td>0.000000</td>\n",
              "    </tr>\n",
              "  </tbody>\n",
              "</table>\n",
              "</div>"
            ],
            "text/plain": [
              "   Client ID  ...  Product Detail Views\n",
              "0       8625  ...              0.000000\n",
              "1       7061  ...              0.000000\n",
              "2       3417  ...              0.009524\n",
              "3       6629  ...              0.000000\n",
              "4       5657  ...              0.000000\n",
              "\n",
              "[5 rows x 18 columns]"
            ]
          },
          "metadata": {
            "tags": []
          },
          "execution_count": 25
        }
      ]
    },
    {
      "cell_type": "markdown",
      "metadata": {
        "id": "ObEgnURL3__K"
      },
      "source": [
        "Split the train data in train and validation"
      ]
    },
    {
      "cell_type": "code",
      "metadata": {
        "id": "3Ubg1paV3__K"
      },
      "source": [
        "train_X, valid_X, train_y, valid_y = train_test_split(train_X, train_y, random_state=17)"
      ],
      "execution_count": 26,
      "outputs": []
    },
    {
      "cell_type": "markdown",
      "metadata": {
        "id": "Uke3R7z_F88q"
      },
      "source": [
        "Count the client in every class (segment 0 / 1)"
      ]
    },
    {
      "cell_type": "code",
      "metadata": {
        "id": "sPCgB0RE5cGj"
      },
      "source": [
        "def plot_labels(train_y):\n",
        "  plot_sb = sb.countplot(train_y, label='segment', palette=\"Set1\")\n",
        "\n",
        "  count_datapoints_in_classes = train_y.value_counts(sort=False)\n",
        "  classes = list(set(train_y))\n",
        "  for cls in classes:\n",
        "    print('Class %d: %d' % (cls, count_datapoints_in_classes[cls]))"
      ],
      "execution_count": 27,
      "outputs": []
    },
    {
      "cell_type": "code",
      "metadata": {
        "colab": {
          "base_uri": "https://localhost:8080/",
          "height": 367
        },
        "id": "I1JBqKJOHSDP",
        "outputId": "fd57ce06-82f8-4b84-fa6c-357dfcde4335"
      },
      "source": [
        "plot_labels(train_y)"
      ],
      "execution_count": 28,
      "outputs": [
        {
          "output_type": "stream",
          "text": [
            "Class 0: 6278\n",
            "Class 1: 2116\n"
          ],
          "name": "stdout"
        },
        {
          "output_type": "stream",
          "text": [
            "/usr/local/lib/python3.6/dist-packages/seaborn/_decorators.py:43: FutureWarning: Pass the following variable as a keyword arg: x. From version 0.12, the only valid positional argument will be `data`, and passing other arguments without an explicit keyword will result in an error or misinterpretation.\n",
            "  FutureWarning\n"
          ],
          "name": "stderr"
        },
        {
          "output_type": "display_data",
          "data": {
            "image/png": "[encoded data removed]",
            "text/plain": [
              "<Figure size 432x288 with 1 Axes>"
            ]
          },
          "metadata": {
            "tags": [],
            "needs_background": "light"
          }
        }
      ]
    },
    {
      "cell_type": "markdown",
      "metadata": {
        "id": "IyG7waBaGyB6"
      },
      "source": [
        "Use SMOTE (Synthetic Minority Over-sampling TEchnique) to oversample the minority class "
      ]
    },
    {
      "cell_type": "code",
      "metadata": {
        "colab": {
          "base_uri": "https://localhost:8080/"
        },
        "id": "r_YjsA7tuyyw",
        "outputId": "918ed5ac-5b4c-430f-d6ea-cf60290a7d8a"
      },
      "source": [
        "if apply_smote:\n",
        "  oversample = SMOTE()\n",
        "  X_resampled, y_resampled = oversample.fit_resample(train_X, train_y)\n",
        "  train_X = pd.DataFrame(X_resampled, columns=train_X.columns)\n",
        "  train_y = pd.DataFrame(y_resampled, columns=['segment'])\n"
      ],
      "execution_count": 29,
      "outputs": [
        {
          "output_type": "stream",
          "text": [
            "/usr/local/lib/python3.6/dist-packages/sklearn/utils/deprecation.py:87: FutureWarning: Function safe_indexing is deprecated; safe_indexing is deprecated in version 0.22 and will be removed in version 0.24.\n",
            "  warnings.warn(msg, category=FutureWarning)\n"
          ],
          "name": "stderr"
        }
      ]
    },
    {
      "cell_type": "markdown",
      "metadata": {
        "id": "LPly21iAHsLz"
      },
      "source": [
        "See the number of values for every class after SMOTE"
      ]
    },
    {
      "cell_type": "code",
      "metadata": {
        "colab": {
          "base_uri": "https://localhost:8080/",
          "height": 367
        },
        "id": "haOkHak1HrF7",
        "outputId": "59006b16-ea14-448f-fa30-2c4a816baadc"
      },
      "source": [
        "plot_labels(train_y['segment'])"
      ],
      "execution_count": 30,
      "outputs": [
        {
          "output_type": "stream",
          "text": [
            "Class 0: 6278\n",
            "Class 1: 6278\n"
          ],
          "name": "stdout"
        },
        {
          "output_type": "stream",
          "text": [
            "/usr/local/lib/python3.6/dist-packages/seaborn/_decorators.py:43: FutureWarning: Pass the following variable as a keyword arg: x. From version 0.12, the only valid positional argument will be `data`, and passing other arguments without an explicit keyword will result in an error or misinterpretation.\n",
            "  FutureWarning\n"
          ],
          "name": "stderr"
        },
        {
          "output_type": "display_data",
          "data": {
            "image/png": "[encoded data removed]",
            "text/plain": [
              "<Figure size 432x288 with 1 Axes>"
            ]
          },
          "metadata": {
            "tags": [],
            "needs_background": "light"
          }
        }
      ]
    },
    {
      "cell_type": "markdown",
      "metadata": {
        "id": "oQJfR74fQlI0"
      },
      "source": [
        "Create a base class that will be used by every model"
      ]
    },
    {
      "cell_type": "code",
      "metadata": {
        "id": "m_V5ZBYzLcK4"
      },
      "source": [
        "class Model:\n",
        "  name = None\n",
        "  model = None\n",
        "  predictions = None\n",
        "  predictions_probabilities = None\n",
        "  top_features = None\n",
        "  train_X = None\n",
        "  train_y = None\n",
        "  valid_X = None\n",
        "  valid_y = None\n",
        "\n",
        "  def __init__(self, model_name, train_X, train_y, valid_X=None, valid_y=None):\n",
        "    self.name = model_name\n",
        "    self.train_X = train_X\n",
        "    self.train_y = train_y\n",
        "    self.valid_X = valid_X\n",
        "    self.valid_y = valid_y\n",
        "    print(\"Creating the model (%s) ...\" % self.name)\n",
        "\n",
        "  def predict(self):\n",
        "    print(\"Predict (%s) ...\" % self.name)\n",
        "    self.predictions = self.model.predict(self.valid_X)\n",
        "    return self.predictions\n",
        "\n",
        "  def predict_prob(self):\n",
        "    print(\"Predict probabilities (%s) ...\" % self.name)\n",
        "    predictions = self.model.predict_proba(self.valid_X)\n",
        "    self.predictions_probabilities = [i[1] for i in predictions]\n",
        "\n",
        "    return self.predictions_probabilities\n",
        "\n",
        "  def get_accuracy(self):\n",
        "    if valid_y is None:\n",
        "      raise ValueError(\"Validation labels are None\") \n",
        "    if self.predictions is None:\n",
        "      self.predict()\n",
        "    return accuracy_score(self.valid_y, self.predictions)\n",
        "\n",
        "  def get_loss(self):\n",
        "    if valid_y is None:\n",
        "      raise ValueError(\"Validation labels are None\") \n",
        "    if self.predictions_probabilities is None:\n",
        "      self.predict_prob()\n",
        "    return log_loss(self.valid_y, self.predictions_probabilities)\n",
        "\n",
        "  def plot_confusion_matrix(self):\n",
        "    if valid_y is None:\n",
        "      raise ValueError(\"Validation labels are None\") \n",
        "    if self.predictions is None:\n",
        "      self.predict()\n",
        "    df_cm = confusion_matrix(self.valid_y, self.predictions)\n",
        "    print(df_cm)\n",
        "    df_cm = df_cm / df_cm.astype(np.float).sum(axis=1).sum()\n",
        "    sb.heatmap(df_cm, annot=True)\n",
        "\n",
        "  def get_top_features(self, top_n=10):\n",
        "\n",
        "    if hasattr(self.model, 'feature_importances_'):\n",
        "      feat_importances = pd.Series(self.model.feature_importances_, index=self.train_X.columns)\n",
        "      feat_importances.nlargest(top_n).plot(kind='barh')\n",
        "      plt.show()\n",
        "      print(feat_importances.nlargest(top_n))\n",
        "\n",
        "      self.top_features = list(feat_importances.nlargest(top_n).keys())\n",
        "    else:\n",
        "      self.top_features = []  \n",
        "\n",
        "    return self.top_features"
      ],
      "execution_count": 31,
      "outputs": []
    },
    {
      "cell_type": "markdown",
      "metadata": {
        "id": "fgDDz9a8QwrR"
      },
      "source": [
        "Logistic Regression class that initilize the model with the tuned parameters found with grid search"
      ]
    },
    {
      "cell_type": "code",
      "metadata": {
        "id": "-W_sK9H-RjnE"
      },
      "source": [
        "class LogisticRegressionModel(Model):\n",
        "\n",
        "  def __init__(self, name, train_X, train_y, valid_X=None, valid_y=None):\n",
        "\n",
        "    super().__init__(name, train_X, train_y, valid_X, valid_y)\n",
        "\n",
        "    self.model = LogisticRegression(C=10, penalty='l2', solver='lbfgs')\n",
        "    self.model.fit(self.train_X, self.train_y)\n",
        "\n",
        "\n",
        "  def find_best(self):\n",
        "    lr_model = LogisticRegression()\n",
        "\n",
        "    param_grid = {\n",
        "        'C': [0.1, 1.0, 10],\n",
        "        'penalty': ['l2'],  # 'elasticnet', 'none', 'l1'\n",
        "        'solver': ['lbfgs']  # 'newton-cg', 'liblinear', 'sag', 'saga\n",
        "    }\n",
        "\n",
        "    self.model = GridSearchCV(lr_model, param_grid, return_train_score=True, cv=5, n_jobs=-1)\n",
        "\n",
        "    # Fit Grid Search Model\n",
        "    self.model.fit(self.train_X, self.train_y)\n",
        "    print(\"Best score: %0.3f\" % self.model.best_score_)\n",
        "    print(\"Best parameters set:\")\n",
        "\n",
        "    best_parameters = self.model.best_estimator_.get_params()\n",
        "    for param_name in sorted(param_grid.keys()):\n",
        "        print(\"\\t%s: %r\" % (param_name, best_parameters[param_name]))"
      ],
      "execution_count": 32,
      "outputs": []
    },
    {
      "cell_type": "markdown",
      "metadata": {
        "id": "I-VXy-xiRCH4"
      },
      "source": [
        "Multi-layer Perceptron class that initilize the model with the tuned parameters found with grid search"
      ]
    },
    {
      "cell_type": "code",
      "metadata": {
        "id": "uCxgK0zLbJtf"
      },
      "source": [
        "class MLPClassifierModel(Model):\n",
        "\n",
        "  def __init__(self, name, train_X, train_y, valid_X=None, valid_y=None):\n",
        "\n",
        "    super().__init__(name, train_X, train_y, valid_X, valid_y)\n",
        "\n",
        "    self.model = MLPClassifier(activation='logistic',max_iter=900, solver='lbfgs')\n",
        "    self.model.fit(self.train_X, self.train_y)\n",
        "\n",
        "  def find_best(self):\n",
        "    mlp_model = MLPClassifier()\n",
        "\n",
        "    param_grid = {\n",
        "        'solver': ['lbfgs', 'sgd', 'adam'],\n",
        "        'activation': ['identity', 'logistic', 'tanh', 'relu'],\n",
        "        'max_iter': range(200, 1000, 100)\n",
        "    }\n",
        "\n",
        "    self.model = GridSearchCV(mlp_model, param_grid, return_train_score=True, cv=5, n_jobs=-1)\n",
        "\n",
        "    # Fit Grid Search Model\n",
        "    self.model.fit(self.train_X, self.train_y)\n",
        "    print(\"Best score: %0.3f\" % self.model.best_score_)\n",
        "    print(\"Best parameters set:\")\n",
        "\n",
        "    best_parameters = self.model.best_estimator_.get_params()\n",
        "    for param_name in sorted(param_grid.keys()):\n",
        "        print(\"\\t%s: %r\" % (param_name, best_parameters[param_name]))"
      ],
      "execution_count": 33,
      "outputs": []
    },
    {
      "cell_type": "markdown",
      "metadata": {
        "id": "wXn0DsWcRLsv"
      },
      "source": [
        "Extreme Gradient Boost class that initilize the model with the tuned parameters found with grid search"
      ]
    },
    {
      "cell_type": "code",
      "metadata": {
        "id": "xr1jAEnAeDTD"
      },
      "source": [
        "class XGBoostModel(Model):\n",
        "\n",
        "  def __init__(self, name, train_X, train_y, valid_X=None, valid_y=None):\n",
        "\n",
        "    super().__init__(name, train_X, train_y, valid_X, valid_y)\n",
        "\n",
        "    self.model = XGBClassifier(colsample_bytree = 0.6, gamma = 0.5, max_depth = 4,\n",
        "                               min_child_weight = 1, subsample = 1.0\n",
        "                               )\n",
        "    self.model.fit(self.train_X, self.train_y)\n",
        "\n",
        "  def find_best(self):\n",
        "    mlp_model = XGBClassifier()\n",
        "\n",
        "    param_grid = {\n",
        "        'min_child_weight': [1, 5, 10],\n",
        "        'gamma': [0.5, 1.5, 5],\n",
        "        'subsample': [0.6, 0.8, 1.0],\n",
        "        'colsample_bytree': [0.6, 0.8, 1.0],\n",
        "        'max_depth': [3, 4, 5]\n",
        "    }\n",
        "\n",
        "    self.model = GridSearchCV(mlp_model, param_grid, return_train_score=True, cv=5, n_jobs=-1)\n",
        "\n",
        "    # Fit Grid Search Model\n",
        "    self.model.fit(self.train_X, self.train_y)\n",
        "    print(\"Best score: %0.3f\" % self.model.best_score_)\n",
        "    print(\"Best parameters set:\")\n",
        "\n",
        "    best_parameters = self.model.best_estimator_.get_params()\n",
        "    for param_name in sorted(param_grid.keys()):\n",
        "        print(\"\\t%s: %r\" % (param_name, best_parameters[param_name]))"
      ],
      "execution_count": 34,
      "outputs": []
    },
    {
      "cell_type": "markdown",
      "metadata": {
        "id": "4xjwf6YaRRW1"
      },
      "source": [
        "Random Forest class that initilize the model with the tuned parameters found with grid search"
      ]
    },
    {
      "cell_type": "code",
      "metadata": {
        "id": "4H5Fz0U5fmpE"
      },
      "source": [
        "class RandomForestModel(Model):\n",
        "\n",
        "  def __init__(self, name, train_X, train_y, valid_X=None, valid_y=None):\n",
        "\n",
        "    super().__init__(name, train_X, train_y, valid_X, valid_y)\n",
        "\n",
        "    self.model = RandomForestClassifier(max_features='auto', criterion='gini')\n",
        "    self.model.fit(self.train_X, self.train_y)\n",
        "\n",
        "  def find_best(self):\n",
        "    rf = RandomForestClassifier()\n",
        "    param_grid = {\n",
        "        'criterion': ['gini', 'entropy'],\n",
        "        'max_features': ['auto', 'sqrt', 'log2']\n",
        "    }\n",
        "\n",
        "    self.model = GridSearchCV(rf, param_grid, return_train_score=True, cv=5, n_jobs=-1)\n",
        "    # Fit Grid Search Model\n",
        "    self.model.fit(self.train_X, self.train_y)\n",
        "    print(\"Best score: %0.3f\" % self.model.best_score_)\n",
        "    print(\"Best parameters set:\")\n",
        "\n",
        "    best_parameters = self.model.best_estimator_.get_params()\n",
        "    for param_name in sorted(param_grid.keys()):\n",
        "        print(\"\\t%s: %r\" % (param_name, best_parameters[param_name]))\n"
      ],
      "execution_count": 35,
      "outputs": []
    },
    {
      "cell_type": "markdown",
      "metadata": {
        "id": "t018GyCgRUsC"
      },
      "source": [
        "Support Vector Machine class"
      ]
    },
    {
      "cell_type": "code",
      "metadata": {
        "id": "R3hvjij2xIQs"
      },
      "source": [
        "class SVMModel(Model):\n",
        "\n",
        "  def __init__(self, name, train_X, train_y, valid_X=None, valid_y=None):\n",
        "\n",
        "    super().__init__(name, train_X, train_y, valid_X, valid_y)\n",
        "\n",
        "    self.model = SVC(probability=True)\n",
        "\n",
        "    self.model.fit(self.train_X, self.train_y)\n",
        "\n",
        "  def find_best(self):\n",
        "    svm = SVC()\n",
        "    param_grid = {\n",
        "        'C': [C for C in [1, 15, 20]],\n",
        "        'gamma': [gamma for gamma in ['auto']],\n",
        "        'kernel': [kernel for kernel in ['linear', 'rbf']]\n",
        "    }\n",
        "\n",
        "    self.model = GridSearchCV(svm, param_grid, return_train_score=True, cv=5, n_jobs=-1)\n",
        "    # Fit Grid Search Model\n",
        "    self.model.fit(self.train_X, self.train_y)\n",
        "    print(\"Best score: %0.3f\" % self.model.best_score_)\n",
        "    print(\"Best parameters set:\")\n",
        "\n",
        "    best_parameters = self.model.best_estimator_.get_params()\n",
        "    for param_name in sorted(param_grid.keys()):\n",
        "        print(\"\\t%s: %r\" % (param_name, best_parameters[param_name]))\n"
      ],
      "execution_count": 36,
      "outputs": []
    },
    {
      "cell_type": "markdown",
      "metadata": {
        "id": "55VuYzn2RaWm"
      },
      "source": [
        "Decision Tree class that initilize the model with the tuned parameters found with grid search"
      ]
    },
    {
      "cell_type": "code",
      "metadata": {
        "id": "g_aF1duGRgH6"
      },
      "source": [
        "class DecisionTreeModel(Model):\n",
        "\n",
        "  def __init__(self, name, train_X, train_y, valid_X=None, valid_y=None):\n",
        "\n",
        "    super().__init__(name, train_X, train_y, valid_X, valid_y)\n",
        "\n",
        "    self.model = DecisionTreeClassifier(criterion = 'entropy', max_depth = 1)\n",
        "\n",
        "    self.model.fit(self.train_X, self.train_y)\n",
        "\n",
        "  def find_best(self):\n",
        "    dt = DecisionTreeClassifier()\n",
        "    param_grid = {\n",
        "        'criterion': ['entropy', 'gini'], \n",
        "        'max_depth': range(1, 20, 2)\n",
        "    }\n",
        "\n",
        "    self.model = GridSearchCV(dt, param_grid, return_train_score=True, cv=5, n_jobs=-1)\n",
        "    # Fit Grid Search Model\n",
        "    self.model.fit(self.train_X, self.train_y)\n",
        "    print(\"Best score: %0.3f\" % self.model.best_score_)\n",
        "    print(\"Best parameters set:\")\n",
        "\n",
        "    best_parameters = self.model.best_estimator_.get_params()\n",
        "    for param_name in sorted(param_grid.keys()):\n",
        "        print(\"\\t%s: %r\" % (param_name, best_parameters[param_name]))\n"
      ],
      "execution_count": 37,
      "outputs": []
    },
    {
      "cell_type": "markdown",
      "metadata": {
        "id": "fOJcW85TVRnO"
      },
      "source": [
        "Factory class that returns the model based on a parameter 'name'"
      ]
    },
    {
      "cell_type": "code",
      "metadata": {
        "id": "y56k-Zm1UvYT"
      },
      "source": [
        "class ModelUtils:\n",
        "  def __init__(self):\n",
        "    pass\n",
        "\n",
        "  @staticmethod\n",
        "  def factory(name, train_X, train_y, valid_X=None, valid_y=None):\n",
        "\n",
        "    if name == 'logistic_regression':\n",
        "      return LogisticRegressionModel(name, train_X, train_y, valid_X, valid_y)\n",
        "    if name == 'mlp_classifier':\n",
        "      return MLPClassifierModel(name, train_X, train_y, valid_X, valid_y)\n",
        "    if name == 'xgboost':\n",
        "      return XGBoostModel(name, train_X, train_y, valid_X, valid_y)\n",
        "    if name == 'random_forest':\n",
        "      return RandomForestModel(name, train_X, train_y, valid_X, valid_y)\n",
        "    if name == 'svm':\n",
        "      return SVMModel(name, train_X, train_y, valid_X, valid_y)\n",
        "    if name == 'decision_tree':\n",
        "      return DecisionTreeModel(name, train_X, train_y, valid_X, valid_y)\n",
        "    else:\n",
        "        raise ValueError('Algorithm ' + name + ' is not supported')\n"
      ],
      "execution_count": 38,
      "outputs": []
    },
    {
      "cell_type": "markdown",
      "metadata": {
        "id": "X-jMXwjRWkI3"
      },
      "source": [
        "Iterate trough a list of model names and find the best parameters if not already found. After this, predict the classes for the validation data and compute the loss and accuracy. If we can extract the most important features for that model, create a copy of the data set with the most important features and compute the loss and accuracy for that mdel too."
      ]
    },
    {
      "cell_type": "code",
      "metadata": {
        "colab": {
          "base_uri": "https://localhost:8080/",
          "height": 1000
        },
        "id": "lCaRjPhnWSeC",
        "outputId": "b4c4a2fe-fc71-4459-cad0-ded4b9229385"
      },
      "source": [
        "models_name = [\n",
        "               \"logistic_regression\",\n",
        "               \"mlp_classifier\",\n",
        "               \"xgboost\",\n",
        "               \"random_forest\",\n",
        "               \"svm\",\n",
        "               \"decision_tree\"\n",
        "]\n",
        "\n",
        "titles = []\n",
        "losses = []\n",
        "accuracies = []\n",
        "for model_name in models_name:\n",
        "  print(\"\\n\\n\\n******************************  %s  ******************************\\n\" % str(model_name))\n",
        "  model = ModelUtils.factory(model_name, train_X, train_y.values.ravel(), valid_X, valid_y.values.ravel())\n",
        "  # model.find_best()\n",
        "  model.predict()\n",
        "  accuracy = model.get_accuracy()\n",
        "  loss = model.get_loss()\n",
        "  print(\"%s\\taccuracy_score: %0.3f \" % (model_name, accuracy))\n",
        "  print(\"%s\\tlog loss: %0.3f \" % (model_name, loss))\n",
        "  # model.plot_confusion_matrix()\n",
        "\n",
        "  titles.append(model_name)\n",
        "  losses.append(loss)\n",
        "  accuracies.append(accuracy)\n",
        "\n",
        "  model.get_top_features()\n",
        "  if model.top_features is not None and len(model.top_features) > 0:\n",
        "    print(\"\\n\\n\\n******************************  %s  ******************************\\n\" % str(model_name + \"_top_features\"))\n",
        "\n",
        "    _train_X = train_X.copy()\n",
        "    _valid_X = valid_X.copy()\n",
        "\n",
        "    for column in train_X.columns:\n",
        "      if column not in model.top_features:\n",
        "        _train_X = _train_X.drop([column], axis=1)\n",
        "        _valid_X = _valid_X.drop([column], axis=1)\n",
        "\n",
        "    model = ModelUtils.factory(model_name, _train_X, train_y.values.ravel(), _valid_X, valid_y.values.ravel())\n",
        "    print(\"%s\\taccuracy_score: %0.3f \" % (model_name + \"_top_features\", model.get_accuracy()))\n",
        "    print(\"%s\\tlog loss: %0.3f \" % (model_name + \"_top_features\", model.get_loss()))\n",
        "    titles.append(model_name + \"_top_features\")\n",
        "    losses.append(model.get_loss())\n",
        "    accuracies.append(model.get_accuracy())\n",
        "\n"
      ],
      "execution_count": 39,
      "outputs": [
        {
          "output_type": "stream",
          "text": [
            "\n",
            "\n",
            "\n",
            "******************************  logistic_regression  ******************************\n",
            "\n",
            "Creating the model (logistic_regression) ...\n",
            "Predict (logistic_regression) ...\n",
            "Predict probabilities (logistic_regression) ...\n",
            "logistic_regression\taccuracy_score: 0.990 \n",
            "logistic_regression\tlog loss: 0.065 \n",
            "\n",
            "\n",
            "\n",
            "******************************  mlp_classifier  ******************************\n",
            "\n",
            "Creating the model (mlp_classifier) ...\n",
            "Predict (mlp_classifier) ...\n",
            "Predict probabilities (mlp_classifier) ...\n",
            "mlp_classifier\taccuracy_score: 0.990 \n",
            "mlp_classifier\tlog loss: 0.058 \n",
            "\n",
            "\n",
            "\n",
            "******************************  xgboost  ******************************\n",
            "\n",
            "Creating the model (xgboost) ...\n",
            "Predict (xgboost) ...\n",
            "Predict probabilities (xgboost) ...\n",
            "xgboost\taccuracy_score: 0.998 \n",
            "xgboost\tlog loss: 0.010 \n"
          ],
          "name": "stdout"
        },
        {
          "output_type": "display_data",
          "data": {
            "image/png": "[encoded data removed]",
            "text/plain": [
              "<Figure size 432x288 with 1 Axes>"
            ]
          },
          "metadata": {
            "tags": [],
            "needs_background": "light"
          }
        },
        {
          "output_type": "stream",
          "text": [
            "Client ID                   0.813018\n",
            "Type                        0.120937\n",
            "Unique Pageviews            0.015717\n",
            "Date Hour and Minute        0.009011\n",
            "Total Unique Searches       0.007000\n",
            "Session Duration            0.006897\n",
            "Hit Time                    0.004655\n",
            "Product Detail Views        0.004155\n",
            "Hit Index                   0.004125\n",
            "Total Number of Sessions    0.004069\n",
            "dtype: float32\n",
            "\n",
            "\n",
            "\n",
            "******************************  xgboost_top_features  ******************************\n",
            "\n",
            "Creating the model (xgboost) ...\n",
            "Predict (xgboost) ...\n",
            "xgboost_top_features\taccuracy_score: 0.998 \n",
            "Predict probabilities (xgboost) ...\n",
            "xgboost_top_features\tlog loss: 0.009 \n",
            "\n",
            "\n",
            "\n",
            "******************************  random_forest  ******************************\n",
            "\n",
            "Creating the model (random_forest) ...\n",
            "Predict (random_forest) ...\n",
            "Predict probabilities (random_forest) ...\n",
            "random_forest\taccuracy_score: 0.998 \n",
            "random_forest\tlog loss: 0.019 \n"
          ],
          "name": "stdout"
        },
        {
          "output_type": "display_data",
          "data": {
            "image/png": "[encoded data removed]",
            "text/plain": [
              "<Figure size 432x288 with 1 Axes>"
            ]
          },
          "metadata": {
            "tags": [],
            "needs_background": "light"
          }
        },
        {
          "output_type": "stream",
          "text": [
            "Client ID                   0.664701\n",
            "Type                        0.235370\n",
            "Date Hour and Minute        0.033478\n",
            "Days Since Last Session     0.014704\n",
            "Unique Pageviews            0.012008\n",
            "Session Index               0.009706\n",
            "Hit Time                    0.007287\n",
            "Session Duration            0.006855\n",
            "Total Number of Sessions    0.005154\n",
            "Hit Index                   0.004257\n",
            "dtype: float64\n",
            "\n",
            "\n",
            "\n",
            "******************************  random_forest_top_features  ******************************\n",
            "\n",
            "Creating the model (random_forest) ...\n",
            "Predict (random_forest) ...\n",
            "random_forest_top_features\taccuracy_score: 0.998 \n",
            "Predict probabilities (random_forest) ...\n",
            "random_forest_top_features\tlog loss: 0.023 \n",
            "\n",
            "\n",
            "\n",
            "******************************  svm  ******************************\n",
            "\n",
            "Creating the model (svm) ...\n",
            "Predict (svm) ...\n",
            "Predict probabilities (svm) ...\n",
            "svm\taccuracy_score: 0.984 \n",
            "svm\tlog loss: 0.040 \n",
            "\n",
            "\n",
            "\n",
            "******************************  decision_tree  ******************************\n",
            "\n",
            "Creating the model (decision_tree) ...\n",
            "Predict (decision_tree) ...\n",
            "Predict probabilities (decision_tree) ...\n",
            "decision_tree\taccuracy_score: 0.998 \n",
            "decision_tree\tlog loss: 0.013 \n"
          ],
          "name": "stdout"
        },
        {
          "output_type": "display_data",
          "data": {
            "image/png": "[encoded data removed]",
            "text/plain": [
              "<Figure size 432x288 with 1 Axes>"
            ]
          },
          "metadata": {
            "tags": [],
            "needs_background": "light"
          }
        },
        {
          "output_type": "stream",
          "text": [
            "Client ID                   1.0\n",
            "Total Number of Sessions    0.0\n",
            "Type                        0.0\n",
            "Session Index               0.0\n",
            "Session Duration            0.0\n",
            "Transactions                0.0\n",
            "Revenue                     0.0\n",
            "Search Result Page Hits     0.0\n",
            "Unique Pageviews            0.0\n",
            "Search Refinements          0.0\n",
            "dtype: float64\n",
            "\n",
            "\n",
            "\n",
            "******************************  decision_tree_top_features  ******************************\n",
            "\n",
            "Creating the model (decision_tree) ...\n",
            "Predict (decision_tree) ...\n",
            "decision_tree_top_features\taccuracy_score: 0.998 \n",
            "Predict probabilities (decision_tree) ...\n",
            "decision_tree_top_features\tlog loss: 0.013 \n"
          ],
          "name": "stdout"
        }
      ]
    },
    {
      "cell_type": "code",
      "metadata": {
        "colab": {
          "base_uri": "https://localhost:8080/"
        },
        "id": "FdF4bJ7aDHVH",
        "outputId": "f9ba1a95-cc8a-4ffb-d56e-fafe7e5c30b1"
      },
      "source": [
        "for i in range(len(titles)):\n",
        "  tab = \" \" * (30 - len(titles[i]))\n",
        "  print(\"model: %s %s accuracy: %s \\t\\t loss: %s\" % (titles[i], tab, str(accuracies[i]), str(losses[i])))"
      ],
      "execution_count": 47,
      "outputs": [
        {
          "output_type": "stream",
          "text": [
            "model: logistic_regression             accuracy: 0.9899928520371694 \t\t loss: 0.06490033136347419\n",
            "model: mlp_classifier                  accuracy: 0.9899928520371694 \t\t loss: 0.05798024998849183\n",
            "model: xgboost                         accuracy: 0.9982130092923517 \t\t loss: 0.010218853989738859\n",
            "model: xgboost_top_features            accuracy: 0.9982130092923517 \t\t loss: 0.009347932362408322\n",
            "model: random_forest                   accuracy: 0.9982130092923517 \t\t loss: 0.018804464818339226\n",
            "model: random_forest_top_features      accuracy: 0.9982130092923517 \t\t loss: 0.02297162685913253\n",
            "model: svm                             accuracy: 0.9835596854896355 \t\t loss: 0.040036862699667816\n",
            "model: decision_tree                   accuracy: 0.9982130092923517 \t\t loss: 0.012746978200795124\n",
            "model: decision_tree_top_features      accuracy: 0.9982130092923517 \t\t loss: 0.012746978200795124\n"
          ],
          "name": "stdout"
        }
      ]
    },
    {
      "cell_type": "markdown",
      "metadata": {
        "id": "h33ATfbI_IFN"
      },
      "source": [
        "Plot the loss for every model"
      ]
    },
    {
      "cell_type": "code",
      "metadata": {
        "colab": {
          "base_uri": "https://localhost:8080/",
          "height": 449
        },
        "id": "hJ-doJoy_HAb",
        "outputId": "ed5bc3ea-9bd1-41ca-97c8-230980f25767"
      },
      "source": [
        "plt.rcdefaults()\n",
        "fig, ax = plt.subplots()\n",
        "y_pos = np.arange(len(titles))\n",
        "\n",
        "ax.barh(y_pos, losses, align='center')\n",
        "ax.set_yticks(y_pos)\n",
        "ax.set_yticklabels(titles)\n",
        "ax.invert_yaxis()  # labels read top-to-bottom\n",
        "ax.set_xlabel('Loss')\n",
        "\n",
        "plt.show()"
      ],
      "execution_count": 41,
      "outputs": [
        {
          "output_type": "display_data",
          "data": {
            "image/png": "[encoded data removed]",
            "text/plain": [
              "<Figure size 640x480 with 1 Axes>"
            ]
          },
          "metadata": {
            "tags": []
          }
        }
      ]
    },
    {
      "cell_type": "markdown",
      "metadata": {
        "id": "noasUxSsNacU"
      },
      "source": [
        "Predict the segment for the test value"
      ]
    },
    {
      "cell_type": "code",
      "metadata": {
        "id": "u4aJJZesOxz1"
      },
      "source": [
        "# predictions = model.predict_proba(test_X)\n",
        "# predictions = [i[1] for i in predictions]\n",
        "# print(predictions)\n"
      ],
      "execution_count": 42,
      "outputs": []
    },
    {
      "cell_type": "markdown",
      "metadata": {
        "id": "YoupTP5RNcM_"
      },
      "source": [
        "Save the predictions"
      ]
    },
    {
      "cell_type": "code",
      "metadata": {
        "id": "WNPWX8fGIBBP"
      },
      "source": [
        "# test_X['segment'] = predictions\n",
        "# test_targets = test_targets.drop(['segment'], axis=1)\n",
        "# test_X['Client ID'] = le.inverse_transform(test_X['Client ID'])\n",
        "\n",
        "# test_targets = pd.merge(test_targets,test_X[['Client ID','segment']],on='Client ID') \n",
        "# test_targets.to_csv(index=False, path_or_buf=root_folder +'results.csv')"
      ],
      "execution_count": 43,
      "outputs": []
    }
  ]
}