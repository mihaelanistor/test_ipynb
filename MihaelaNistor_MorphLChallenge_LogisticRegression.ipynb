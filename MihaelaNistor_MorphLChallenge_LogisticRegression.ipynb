{
  "nbformat": 4,
  "nbformat_minor": 0,
  "metadata": {
    "colab": {
      "name": " MihaelaNistor_MorphLChallenge_LogisticRegression.ipynb",
      "provenance": [],
      "collapsed_sections": []
    },
    "kernelspec": {
      "display_name": "Python 3",
      "language": "python",
      "name": "python3"
    },
    "language_info": {
      "codemirror_mode": {
        "name": "ipython",
        "version": 3
      },
      "file_extension": ".py",
      "mimetype": "text/x-python",
      "name": "python",
      "nbconvert_exporter": "python",
      "pygments_lexer": "ipython3",
      "version": "3.7.3"
    }
  },
  "cells": [
    {
      "cell_type": "markdown",
      "metadata": {
        "id": "LRwSstcJ3__H"
      },
      "source": [
        "## MorphL Challenge - Mihaela Nistor"
      ]
    },
    {
      "cell_type": "markdown",
      "metadata": {
        "id": "n2DmSgSI3__H"
      },
      "source": [
        "The dataset is divided in 3 parts: users, sessions and hits. The users contain unique user ids and some basic user-level features. Then, the sessions represent each unique visit of the user to the website and we also have session-level features (browser used at that session, session duration etc.). Finally, we have hits, which can be interpreted as session-specific actions (such as what page was viewed). Basically, we have an embedded dataset: users > sessions > hits.\n",
        "\n",
        "Our task is to model the user behaviour based on its history in order to predict a user-level feature (segment). Obviously, this is a very open-ended problem, with solutions varying from the simplest models (as those in prerequisites) to much more complex models (such as modeling hits and sessions with RNNs)."
      ]
    },
    {
      "cell_type": "code",
      "metadata": {
        "id": "55ontH2Gtfcr"
      },
      "source": [
        "# !sudo pip install imbalanced-learn"
      ],
      "execution_count": 1,
      "outputs": []
    },
    {
      "cell_type": "markdown",
      "metadata": {
        "id": "fGTXgFG9CW8c"
      },
      "source": [
        "Import everything"
      ]
    },
    {
      "cell_type": "code",
      "metadata": {
        "id": "IWfwwhWR3__H",
        "colab": {
          "base_uri": "https://localhost:8080/"
        },
        "outputId": "57b6512a-3680-47db-b642-04d76eca3272"
      },
      "source": [
        "import pandas as pd\n",
        "import numpy as np\n",
        "import seaborn as sb\n",
        "import matplotlib.pyplot as plt\n",
        "import imblearn\n",
        "from imblearn.over_sampling import SMOTE\n",
        "\n",
        "from sklearn.model_selection import train_test_split, KFold, GridSearchCV, cross_validate\n",
        "from sklearn.feature_selection import RFE\n",
        "from sklearn.preprocessing import LabelEncoder, MinMaxScaler\n",
        "from sklearn.metrics import accuracy_score, confusion_matrix, log_loss\n",
        "\n",
        "from sklearn.ensemble import RandomForestClassifier\n",
        "from sklearn.linear_model import LogisticRegression, LinearRegression\n",
        "from sklearn.neural_network import MLPClassifier\n",
        "from sklearn.svm import SVC"
      ],
      "execution_count": 2,
      "outputs": [
        {
          "output_type": "stream",
          "text": [
            "/usr/local/lib/python3.6/dist-packages/sklearn/externals/six.py:31: FutureWarning: The module is deprecated in version 0.21 and will be removed in version 0.23 since we've dropped support for Python 2.7. Please rely on the official version of six (https://pypi.org/project/six/).\n",
            "  \"(https://pypi.org/project/six/).\", FutureWarning)\n",
            "/usr/local/lib/python3.6/dist-packages/sklearn/utils/deprecation.py:144: FutureWarning: The sklearn.neighbors.base module is  deprecated in version 0.22 and will be removed in version 0.24. The corresponding classes / functions should instead be imported from sklearn.neighbors. Anything that cannot be imported from sklearn.neighbors is now part of the private API.\n",
            "  warnings.warn(message, FutureWarning)\n"
          ],
          "name": "stderr"
        }
      ]
    },
    {
      "cell_type": "markdown",
      "metadata": {
        "id": "VDABD5Cf3__H"
      },
      "source": [
        "Read the dataset"
      ]
    },
    {
      "cell_type": "code",
      "metadata": {
        "id": "6kste5Xm3__H"
      },
      "source": [
        "# train_users = pd.read_csv('./train_set/users.csv')\n",
        "# train_sessions = pd.read_csv('./train_set/sessions.csv')\n",
        "# train_hits = pd.read_csv('./train_set/hits.csv')\n",
        "\n",
        "# train_targets = pd.read_csv('./train_set/targets.csv')\n",
        "\n",
        "\n",
        "# test_users = pd.read_csv('./test_set/users.csv')\n",
        "# test_sessions = pd.read_csv('./test_set/sessions.csv')\n",
        "# test_hits = pd.read_csv('./test_set/hits.csv')\n",
        "\n",
        "# test_targets = pd.read_csv('./test_set/targets.csv')"
      ],
      "execution_count": 3,
      "outputs": []
    },
    {
      "cell_type": "code",
      "metadata": {
        "id": "y0Ku7lj2SXA2",
        "colab": {
          "base_uri": "https://localhost:8080/"
        },
        "outputId": "3c49f23b-a3f4-4215-d11e-24cb26ee6f93"
      },
      "source": [
        "from google.colab import drive\n",
        "drive.mount('/content/drive')\n",
        "\n",
        "\n",
        "root_folder = '/content/drive/MyDrive/Colab Notebooks/dataset_morphl/'\n",
        "\n",
        "train_users = pd.read_csv(root_folder + 'train_set/users.csv')\n",
        "train_sessions = pd.read_csv(root_folder + 'train_set/sessions.csv')\n",
        "train_hits = pd.read_csv(root_folder + 'train_set/hits.csv')\n",
        "\n",
        "train_targets = pd.read_csv(root_folder + 'train_set/targets.csv')\n",
        "\n",
        "\n",
        "test_users = pd.read_csv(root_folder + 'test_set/users.csv')\n",
        "test_sessions = pd.read_csv(root_folder + 'test_set/sessions.csv')\n",
        "test_hits = pd.read_csv(root_folder + 'test_set/hits.csv')\n",
        "\n",
        "test_targets = pd.read_csv(root_folder + 'test_set/targets.csv')"
      ],
      "execution_count": 4,
      "outputs": [
        {
          "output_type": "stream",
          "text": [
            "Drive already mounted at /content/drive; to attempt to forcibly remount, call drive.mount(\"/content/drive\", force_remount=True).\n"
          ],
          "name": "stdout"
        }
      ]
    },
    {
      "cell_type": "code",
      "metadata": {
        "colab": {
          "base_uri": "https://localhost:8080/",
          "height": 221
        },
        "id": "sMBfogPw3__H",
        "outputId": "db7849ec-0ce7-41a5-be77-8810c7cfd709"
      },
      "source": [
        "print(train_users.shape)\n",
        "train_users.head()"
      ],
      "execution_count": 5,
      "outputs": [
        {
          "output_type": "stream",
          "text": [
            "(11200, 4)\n"
          ],
          "name": "stdout"
        },
        {
          "output_type": "execute_result",
          "data": {
            "text/html": [
              "<div>\n",
              "<style scoped>\n",
              "    .dataframe tbody tr th:only-of-type {\n",
              "        vertical-align: middle;\n",
              "    }\n",
              "\n",
              "    .dataframe tbody tr th {\n",
              "        vertical-align: top;\n",
              "    }\n",
              "\n",
              "    .dataframe thead th {\n",
              "        text-align: right;\n",
              "    }\n",
              "</style>\n",
              "<table border=\"1\" class=\"dataframe\">\n",
              "  <thead>\n",
              "    <tr style=\"text-align: right;\">\n",
              "      <th></th>\n",
              "      <th>Unnamed: 0</th>\n",
              "      <th>Client ID</th>\n",
              "      <th>Total Number of Sessions</th>\n",
              "      <th>Type</th>\n",
              "    </tr>\n",
              "  </thead>\n",
              "  <tbody>\n",
              "    <tr>\n",
              "      <th>0</th>\n",
              "      <td>0</td>\n",
              "      <td>ML10669446</td>\n",
              "      <td>3</td>\n",
              "      <td>1</td>\n",
              "    </tr>\n",
              "    <tr>\n",
              "      <th>1</th>\n",
              "      <td>1</td>\n",
              "      <td>ML1054774</td>\n",
              "      <td>20</td>\n",
              "      <td>2</td>\n",
              "    </tr>\n",
              "    <tr>\n",
              "      <th>2</th>\n",
              "      <td>2</td>\n",
              "      <td>ML1023632</td>\n",
              "      <td>17</td>\n",
              "      <td>2</td>\n",
              "    </tr>\n",
              "    <tr>\n",
              "      <th>3</th>\n",
              "      <td>3</td>\n",
              "      <td>ML1050999</td>\n",
              "      <td>1</td>\n",
              "      <td>2</td>\n",
              "    </tr>\n",
              "    <tr>\n",
              "      <th>4</th>\n",
              "      <td>4</td>\n",
              "      <td>ML10421332</td>\n",
              "      <td>11</td>\n",
              "      <td>1</td>\n",
              "    </tr>\n",
              "  </tbody>\n",
              "</table>\n",
              "</div>"
            ],
            "text/plain": [
              "   Unnamed: 0   Client ID  Total Number of Sessions  Type\n",
              "0           0  ML10669446                         3     1\n",
              "1           1   ML1054774                        20     2\n",
              "2           2   ML1023632                        17     2\n",
              "3           3   ML1050999                         1     2\n",
              "4           4  ML10421332                        11     1"
            ]
          },
          "metadata": {
            "tags": []
          },
          "execution_count": 5
        }
      ]
    },
    {
      "cell_type": "code",
      "metadata": {
        "colab": {
          "base_uri": "https://localhost:8080/",
          "height": 530
        },
        "id": "l7Kt8GGe3__I",
        "outputId": "5566f9f3-cd18-4f07-b873-ceab14f7d746"
      },
      "source": [
        "train_sessions.head()"
      ],
      "execution_count": 6,
      "outputs": [
        {
          "output_type": "execute_result",
          "data": {
            "text/html": [
              "<div>\n",
              "<style scoped>\n",
              "    .dataframe tbody tr th:only-of-type {\n",
              "        vertical-align: middle;\n",
              "    }\n",
              "\n",
              "    .dataframe tbody tr th {\n",
              "        vertical-align: top;\n",
              "    }\n",
              "\n",
              "    .dataframe thead th {\n",
              "        text-align: right;\n",
              "    }\n",
              "</style>\n",
              "<table border=\"1\" class=\"dataframe\">\n",
              "  <thead>\n",
              "    <tr style=\"text-align: right;\">\n",
              "      <th></th>\n",
              "      <th>Unnamed: 0</th>\n",
              "      <th>Unnamed: 0.1</th>\n",
              "      <th>Client ID</th>\n",
              "      <th>Session ID</th>\n",
              "      <th>Session Index</th>\n",
              "      <th>Session Duration</th>\n",
              "      <th>Transactions</th>\n",
              "      <th>Revenue</th>\n",
              "      <th>Site Search Status</th>\n",
              "      <th>Search Result Page Hits</th>\n",
              "      <th>Unique Pageviews</th>\n",
              "      <th>Shopping Stages</th>\n",
              "      <th>Device Category</th>\n",
              "      <th>City Name</th>\n",
              "      <th>Country</th>\n",
              "      <th>Browser Name</th>\n",
              "      <th>Device Name</th>\n",
              "      <th>Search Refinements</th>\n",
              "      <th>Search Depth</th>\n",
              "      <th>Days Since Last Session</th>\n",
              "      <th>Results Pageviews</th>\n",
              "      <th>Total Unique Searches</th>\n",
              "    </tr>\n",
              "  </thead>\n",
              "  <tbody>\n",
              "    <tr>\n",
              "      <th>0</th>\n",
              "      <td>0</td>\n",
              "      <td>0</td>\n",
              "      <td>ML1000002</td>\n",
              "      <td>1587635093.120043981.1559843616.20200423</td>\n",
              "      <td>1</td>\n",
              "      <td>164</td>\n",
              "      <td>0</td>\n",
              "      <td>0.0</td>\n",
              "      <td>Visit Without Site Search</td>\n",
              "      <td>0</td>\n",
              "      <td>3</td>\n",
              "      <td>0</td>\n",
              "      <td>desktop</td>\n",
              "      <td>City-151</td>\n",
              "      <td>Country-50</td>\n",
              "      <td>Browser-46</td>\n",
              "      <td>Device-0</td>\n",
              "      <td>0</td>\n",
              "      <td>0.0</td>\n",
              "      <td>0</td>\n",
              "      <td>0</td>\n",
              "      <td>0</td>\n",
              "    </tr>\n",
              "    <tr>\n",
              "      <th>1</th>\n",
              "      <td>1</td>\n",
              "      <td>1</td>\n",
              "      <td>ML10000104</td>\n",
              "      <td>1577964914.1347073935.1554187261.20200102</td>\n",
              "      <td>1</td>\n",
              "      <td>353</td>\n",
              "      <td>0</td>\n",
              "      <td>0.0</td>\n",
              "      <td>Visit Without Site Search</td>\n",
              "      <td>0</td>\n",
              "      <td>6</td>\n",
              "      <td>0</td>\n",
              "      <td>mobile</td>\n",
              "      <td>City-907</td>\n",
              "      <td>Country-50</td>\n",
              "      <td>Browser-4</td>\n",
              "      <td>Device-217</td>\n",
              "      <td>0</td>\n",
              "      <td>0.0</td>\n",
              "      <td>0</td>\n",
              "      <td>0</td>\n",
              "      <td>0</td>\n",
              "    </tr>\n",
              "    <tr>\n",
              "      <th>2</th>\n",
              "      <td>2</td>\n",
              "      <td>2</td>\n",
              "      <td>ML10000104</td>\n",
              "      <td>1577984613.1347073935.1554187261.20200102</td>\n",
              "      <td>2</td>\n",
              "      <td>64</td>\n",
              "      <td>0</td>\n",
              "      <td>0.0</td>\n",
              "      <td>Visit Without Site Search</td>\n",
              "      <td>0</td>\n",
              "      <td>3</td>\n",
              "      <td>0</td>\n",
              "      <td>mobile</td>\n",
              "      <td>City-907</td>\n",
              "      <td>Country-50</td>\n",
              "      <td>Browser-4</td>\n",
              "      <td>Device-217</td>\n",
              "      <td>0</td>\n",
              "      <td>0.0</td>\n",
              "      <td>0</td>\n",
              "      <td>0</td>\n",
              "      <td>0</td>\n",
              "    </tr>\n",
              "    <tr>\n",
              "      <th>3</th>\n",
              "      <td>3</td>\n",
              "      <td>3</td>\n",
              "      <td>ML10000104</td>\n",
              "      <td>1577997594.1347073935.1554187261.20200102</td>\n",
              "      <td>3</td>\n",
              "      <td>4</td>\n",
              "      <td>0</td>\n",
              "      <td>0.0</td>\n",
              "      <td>Visit Without Site Search</td>\n",
              "      <td>0</td>\n",
              "      <td>2</td>\n",
              "      <td>0</td>\n",
              "      <td>mobile</td>\n",
              "      <td>City-907</td>\n",
              "      <td>Country-50</td>\n",
              "      <td>Browser-4</td>\n",
              "      <td>Device-217</td>\n",
              "      <td>0</td>\n",
              "      <td>0.0</td>\n",
              "      <td>0</td>\n",
              "      <td>0</td>\n",
              "      <td>0</td>\n",
              "    </tr>\n",
              "    <tr>\n",
              "      <th>4</th>\n",
              "      <td>4</td>\n",
              "      <td>4</td>\n",
              "      <td>ML10000104</td>\n",
              "      <td>1580645789.1861233595.1580645788.20200202</td>\n",
              "      <td>4</td>\n",
              "      <td>45</td>\n",
              "      <td>0</td>\n",
              "      <td>0.0</td>\n",
              "      <td>Visit Without Site Search</td>\n",
              "      <td>0</td>\n",
              "      <td>5</td>\n",
              "      <td>0</td>\n",
              "      <td>mobile</td>\n",
              "      <td>City-135</td>\n",
              "      <td>Country-50</td>\n",
              "      <td>Browser-4</td>\n",
              "      <td>Device-502</td>\n",
              "      <td>0</td>\n",
              "      <td>0.0</td>\n",
              "      <td>30</td>\n",
              "      <td>0</td>\n",
              "      <td>0</td>\n",
              "    </tr>\n",
              "  </tbody>\n",
              "</table>\n",
              "</div>"
            ],
            "text/plain": [
              "   Unnamed: 0  Unnamed: 0.1  ... Results Pageviews Total Unique Searches\n",
              "0           0             0  ...                 0                     0\n",
              "1           1             1  ...                 0                     0\n",
              "2           2             2  ...                 0                     0\n",
              "3           3             3  ...                 0                     0\n",
              "4           4             4  ...                 0                     0\n",
              "\n",
              "[5 rows x 22 columns]"
            ]
          },
          "metadata": {
            "tags": []
          },
          "execution_count": 6
        }
      ]
    },
    {
      "cell_type": "code",
      "metadata": {
        "colab": {
          "base_uri": "https://localhost:8080/",
          "height": 204
        },
        "id": "Uf3Oh7gy3__I",
        "outputId": "8d80849d-42c3-4e6a-be93-d3899feb2bdb"
      },
      "source": [
        "train_hits.head()"
      ],
      "execution_count": 7,
      "outputs": [
        {
          "output_type": "execute_result",
          "data": {
            "text/html": [
              "<div>\n",
              "<style scoped>\n",
              "    .dataframe tbody tr th:only-of-type {\n",
              "        vertical-align: middle;\n",
              "    }\n",
              "\n",
              "    .dataframe tbody tr th {\n",
              "        vertical-align: top;\n",
              "    }\n",
              "\n",
              "    .dataframe thead th {\n",
              "        text-align: right;\n",
              "    }\n",
              "</style>\n",
              "<table border=\"1\" class=\"dataframe\">\n",
              "  <thead>\n",
              "    <tr style=\"text-align: right;\">\n",
              "      <th></th>\n",
              "      <th>Unnamed: 0</th>\n",
              "      <th>Client ID</th>\n",
              "      <th>Session ID</th>\n",
              "      <th>Hit Index</th>\n",
              "      <th>Hit Time</th>\n",
              "      <th>Date Hour and Minute</th>\n",
              "      <th>Product Detail Views</th>\n",
              "      <th>Path of Page</th>\n",
              "    </tr>\n",
              "  </thead>\n",
              "  <tbody>\n",
              "    <tr>\n",
              "      <th>0</th>\n",
              "      <td>0</td>\n",
              "      <td>ML1000002</td>\n",
              "      <td>1587635093.120043981.1559843616.20200423</td>\n",
              "      <td>2</td>\n",
              "      <td>19106</td>\n",
              "      <td>202004230945</td>\n",
              "      <td>0</td>\n",
              "      <td>URL-1327</td>\n",
              "    </tr>\n",
              "    <tr>\n",
              "      <th>1</th>\n",
              "      <td>1</td>\n",
              "      <td>ML1000002</td>\n",
              "      <td>1587635093.120043981.1559843616.20200423</td>\n",
              "      <td>3</td>\n",
              "      <td>164167</td>\n",
              "      <td>202004230947</td>\n",
              "      <td>0</td>\n",
              "      <td>URL-1351</td>\n",
              "    </tr>\n",
              "    <tr>\n",
              "      <th>2</th>\n",
              "      <td>2</td>\n",
              "      <td>ML1000002</td>\n",
              "      <td>1587635093.120043981.1559843616.20200423</td>\n",
              "      <td>1</td>\n",
              "      <td>0</td>\n",
              "      <td>202004230944</td>\n",
              "      <td>0</td>\n",
              "      <td>URL-14663</td>\n",
              "    </tr>\n",
              "    <tr>\n",
              "      <th>3</th>\n",
              "      <td>3</td>\n",
              "      <td>ML10000104</td>\n",
              "      <td>1580645789.1861233595.1580645788.20200202</td>\n",
              "      <td>4</td>\n",
              "      <td>16274</td>\n",
              "      <td>202002021216</td>\n",
              "      <td>0</td>\n",
              "      <td>URL-9880</td>\n",
              "    </tr>\n",
              "    <tr>\n",
              "      <th>4</th>\n",
              "      <td>4</td>\n",
              "      <td>ML10000104</td>\n",
              "      <td>1577984613.1347073935.1554187261.20200102</td>\n",
              "      <td>1</td>\n",
              "      <td>0</td>\n",
              "      <td>202001021703</td>\n",
              "      <td>0</td>\n",
              "      <td>URL-14320</td>\n",
              "    </tr>\n",
              "  </tbody>\n",
              "</table>\n",
              "</div>"
            ],
            "text/plain": [
              "   Unnamed: 0   Client ID  ... Product Detail Views  Path of Page\n",
              "0           0   ML1000002  ...                    0      URL-1327\n",
              "1           1   ML1000002  ...                    0      URL-1351\n",
              "2           2   ML1000002  ...                    0     URL-14663\n",
              "3           3  ML10000104  ...                    0      URL-9880\n",
              "4           4  ML10000104  ...                    0     URL-14320\n",
              "\n",
              "[5 rows x 8 columns]"
            ]
          },
          "metadata": {
            "tags": []
          },
          "execution_count": 7
        }
      ]
    },
    {
      "cell_type": "code",
      "metadata": {
        "id": "Oz6HLF1GaV7J"
      },
      "source": [
        "train_users = train_users.drop(['Unnamed: 0'], axis=1)\n",
        "test_users = test_users.drop(['Unnamed: 0'], axis=1)\n",
        "train_sessions = train_sessions.drop(['Unnamed: 0', 'Unnamed: 0.1'], axis=1)\n",
        "test_sessions = test_sessions.drop(['Unnamed: 0', 'Unnamed: 0.1'], axis=1)\n",
        "train_hits = train_hits.drop(['Unnamed: 0'], axis=1)\n",
        "test_hits = test_hits.drop(['Unnamed: 0'], axis=1)"
      ],
      "execution_count": 8,
      "outputs": []
    },
    {
      "cell_type": "code",
      "metadata": {
        "colab": {
          "base_uri": "https://localhost:8080/",
          "height": 204
        },
        "id": "8aF4M74J3__I",
        "outputId": "65e94356-3481-4917-a9c2-5d4dbd81ad34"
      },
      "source": [
        "train_targets.head()"
      ],
      "execution_count": 9,
      "outputs": [
        {
          "output_type": "execute_result",
          "data": {
            "text/html": [
              "<div>\n",
              "<style scoped>\n",
              "    .dataframe tbody tr th:only-of-type {\n",
              "        vertical-align: middle;\n",
              "    }\n",
              "\n",
              "    .dataframe tbody tr th {\n",
              "        vertical-align: top;\n",
              "    }\n",
              "\n",
              "    .dataframe thead th {\n",
              "        text-align: right;\n",
              "    }\n",
              "</style>\n",
              "<table border=\"1\" class=\"dataframe\">\n",
              "  <thead>\n",
              "    <tr style=\"text-align: right;\">\n",
              "      <th></th>\n",
              "      <th>Unnamed: 0</th>\n",
              "      <th>Client ID</th>\n",
              "      <th>segment</th>\n",
              "    </tr>\n",
              "  </thead>\n",
              "  <tbody>\n",
              "    <tr>\n",
              "      <th>0</th>\n",
              "      <td>0</td>\n",
              "      <td>ML73020059</td>\n",
              "      <td>1</td>\n",
              "    </tr>\n",
              "    <tr>\n",
              "      <th>1</th>\n",
              "      <td>1</td>\n",
              "      <td>ML10396280</td>\n",
              "      <td>0</td>\n",
              "    </tr>\n",
              "    <tr>\n",
              "      <th>2</th>\n",
              "      <td>2</td>\n",
              "      <td>ML1017227</td>\n",
              "      <td>0</td>\n",
              "    </tr>\n",
              "    <tr>\n",
              "      <th>3</th>\n",
              "      <td>3</td>\n",
              "      <td>ML10230015</td>\n",
              "      <td>0</td>\n",
              "    </tr>\n",
              "    <tr>\n",
              "      <th>4</th>\n",
              "      <td>4</td>\n",
              "      <td>ML73768914</td>\n",
              "      <td>1</td>\n",
              "    </tr>\n",
              "  </tbody>\n",
              "</table>\n",
              "</div>"
            ],
            "text/plain": [
              "   Unnamed: 0   Client ID  segment\n",
              "0           0  ML73020059        1\n",
              "1           1  ML10396280        0\n",
              "2           2   ML1017227        0\n",
              "3           3  ML10230015        0\n",
              "4           4  ML73768914        1"
            ]
          },
          "metadata": {
            "tags": []
          },
          "execution_count": 9
        }
      ]
    },
    {
      "cell_type": "markdown",
      "metadata": {
        "id": "rOOcrJJ5CfI5"
      },
      "source": [
        "Create dataset function that append the hits mean/meadian to the the session and the sessions mean/median to the client(user)"
      ]
    },
    {
      "cell_type": "code",
      "metadata": {
        "id": "9JSA3Aaj3__I"
      },
      "source": [
        "def create_dataset(users, sessions, hits, targets, method=\"mean\"):\n",
        "    \"\"\"\n",
        "        Create one DataFrame from the users info: sessions, hits, segment\n",
        "    \"\"\"\n",
        "\n",
        "    # group the hits by the session id\n",
        "    if method == \"mean\":\n",
        "        hits = hits.groupby(['Session ID'], as_index=False).mean()\n",
        "    else:\n",
        "        hits = hits.groupby(['Session ID'], as_index=False).median()\n",
        "\n",
        "    # add the hits to their session\n",
        "    sessions  = sessions.join(hits.set_index('Session ID'), on='Session ID', lsuffix='_session', rsuffix='_hit')\n",
        "\n",
        "    # group the sessions by the client id\n",
        "    if method == \"mean\":\n",
        "        sessions = sessions.groupby(['Client ID'], as_index=False).mean()\n",
        "    else:\n",
        "        sessions = sessions.groupby(['Client ID'], as_index=False).median()\n",
        "\n",
        "    # add the sessions to their client\n",
        "    users  = users.join(sessions.set_index('Client ID'), on='Client ID', lsuffix='_user', rsuffix='_session')\n",
        "\n",
        "    # add the targets to their client\n",
        "    users  = users.join(targets.set_index('Client ID'), on='Client ID', lsuffix='_user', rsuffix='_target')\n",
        "\n",
        "    return users"
      ],
      "execution_count": 10,
      "outputs": []
    },
    {
      "cell_type": "code",
      "metadata": {
        "colab": {
          "base_uri": "https://localhost:8080/"
        },
        "id": "LIQnErw23__J",
        "outputId": "e1f31e21-4454-4c29-cdc8-3c6e54e7825b"
      },
      "source": [
        "train_data = create_dataset(train_users, train_sessions, train_hits, train_targets)\n",
        "test_data = create_dataset(test_users, test_sessions, test_hits, test_targets)\n",
        "\n",
        "print(train_data.shape)\n",
        "print(test_data.shape)"
      ],
      "execution_count": 11,
      "outputs": [
        {
          "output_type": "stream",
          "text": [
            "(11200, 20)\n",
            "(1000, 20)\n"
          ],
          "name": "stdout"
        }
      ]
    },
    {
      "cell_type": "code",
      "metadata": {
        "colab": {
          "base_uri": "https://localhost:8080/",
          "height": 255
        },
        "id": "GPEUhB2z1mq8",
        "outputId": "aa98163e-a0e5-41d6-8ca8-30a094522a5f"
      },
      "source": [
        "train_data.head()"
      ],
      "execution_count": 12,
      "outputs": [
        {
          "output_type": "execute_result",
          "data": {
            "text/html": [
              "<div>\n",
              "<style scoped>\n",
              "    .dataframe tbody tr th:only-of-type {\n",
              "        vertical-align: middle;\n",
              "    }\n",
              "\n",
              "    .dataframe tbody tr th {\n",
              "        vertical-align: top;\n",
              "    }\n",
              "\n",
              "    .dataframe thead th {\n",
              "        text-align: right;\n",
              "    }\n",
              "</style>\n",
              "<table border=\"1\" class=\"dataframe\">\n",
              "  <thead>\n",
              "    <tr style=\"text-align: right;\">\n",
              "      <th></th>\n",
              "      <th>Client ID</th>\n",
              "      <th>Total Number of Sessions</th>\n",
              "      <th>Type</th>\n",
              "      <th>Session Index</th>\n",
              "      <th>Session Duration</th>\n",
              "      <th>Transactions</th>\n",
              "      <th>Revenue</th>\n",
              "      <th>Search Result Page Hits</th>\n",
              "      <th>Unique Pageviews</th>\n",
              "      <th>Search Refinements</th>\n",
              "      <th>Search Depth</th>\n",
              "      <th>Days Since Last Session</th>\n",
              "      <th>Results Pageviews</th>\n",
              "      <th>Total Unique Searches</th>\n",
              "      <th>Hit Index</th>\n",
              "      <th>Hit Time</th>\n",
              "      <th>Date Hour and Minute</th>\n",
              "      <th>Product Detail Views</th>\n",
              "      <th>Unnamed: 0</th>\n",
              "      <th>segment</th>\n",
              "    </tr>\n",
              "  </thead>\n",
              "  <tbody>\n",
              "    <tr>\n",
              "      <th>0</th>\n",
              "      <td>ML10669446</td>\n",
              "      <td>3</td>\n",
              "      <td>1</td>\n",
              "      <td>1.5</td>\n",
              "      <td>248.500000</td>\n",
              "      <td>0.0</td>\n",
              "      <td>0.0</td>\n",
              "      <td>0.000000</td>\n",
              "      <td>5.500000</td>\n",
              "      <td>0.0</td>\n",
              "      <td>0.000000</td>\n",
              "      <td>53.500000</td>\n",
              "      <td>0.000000</td>\n",
              "      <td>0.000000</td>\n",
              "      <td>7.500000</td>\n",
              "      <td>47624.229167</td>\n",
              "      <td>2.020041e+11</td>\n",
              "      <td>0.00</td>\n",
              "      <td>6237</td>\n",
              "      <td>0</td>\n",
              "    </tr>\n",
              "    <tr>\n",
              "      <th>1</th>\n",
              "      <td>ML1054774</td>\n",
              "      <td>20</td>\n",
              "      <td>2</td>\n",
              "      <td>9.5</td>\n",
              "      <td>830.388889</td>\n",
              "      <td>0.0</td>\n",
              "      <td>0.0</td>\n",
              "      <td>0.000000</td>\n",
              "      <td>5.444444</td>\n",
              "      <td>0.0</td>\n",
              "      <td>0.000000</td>\n",
              "      <td>2.944444</td>\n",
              "      <td>0.000000</td>\n",
              "      <td>0.000000</td>\n",
              "      <td>6.111111</td>\n",
              "      <td>427477.318289</td>\n",
              "      <td>2.020051e+11</td>\n",
              "      <td>0.00</td>\n",
              "      <td>4981</td>\n",
              "      <td>0</td>\n",
              "    </tr>\n",
              "    <tr>\n",
              "      <th>2</th>\n",
              "      <td>ML1023632</td>\n",
              "      <td>17</td>\n",
              "      <td>2</td>\n",
              "      <td>15.5</td>\n",
              "      <td>206.033333</td>\n",
              "      <td>0.0</td>\n",
              "      <td>0.0</td>\n",
              "      <td>0.000000</td>\n",
              "      <td>3.400000</td>\n",
              "      <td>0.0</td>\n",
              "      <td>0.000000</td>\n",
              "      <td>5.333333</td>\n",
              "      <td>0.000000</td>\n",
              "      <td>0.000000</td>\n",
              "      <td>4.250000</td>\n",
              "      <td>96655.143718</td>\n",
              "      <td>2.020035e+11</td>\n",
              "      <td>0.01</td>\n",
              "      <td>10503</td>\n",
              "      <td>0</td>\n",
              "    </tr>\n",
              "    <tr>\n",
              "      <th>3</th>\n",
              "      <td>ML1050999</td>\n",
              "      <td>1</td>\n",
              "      <td>2</td>\n",
              "      <td>7.0</td>\n",
              "      <td>614.000000</td>\n",
              "      <td>0.0</td>\n",
              "      <td>0.0</td>\n",
              "      <td>0.076923</td>\n",
              "      <td>3.846154</td>\n",
              "      <td>0.0</td>\n",
              "      <td>0.307692</td>\n",
              "      <td>7.076923</td>\n",
              "      <td>0.076923</td>\n",
              "      <td>0.076923</td>\n",
              "      <td>4.192308</td>\n",
              "      <td>252253.695688</td>\n",
              "      <td>2.020044e+11</td>\n",
              "      <td>0.00</td>\n",
              "      <td>783</td>\n",
              "      <td>0</td>\n",
              "    </tr>\n",
              "    <tr>\n",
              "      <th>4</th>\n",
              "      <td>ML10421332</td>\n",
              "      <td>11</td>\n",
              "      <td>1</td>\n",
              "      <td>2.0</td>\n",
              "      <td>20.000000</td>\n",
              "      <td>0.0</td>\n",
              "      <td>0.0</td>\n",
              "      <td>0.000000</td>\n",
              "      <td>1.333333</td>\n",
              "      <td>0.0</td>\n",
              "      <td>0.000000</td>\n",
              "      <td>3.000000</td>\n",
              "      <td>0.000000</td>\n",
              "      <td>0.000000</td>\n",
              "      <td>1.833333</td>\n",
              "      <td>11109.333333</td>\n",
              "      <td>2.020021e+11</td>\n",
              "      <td>0.00</td>\n",
              "      <td>3048</td>\n",
              "      <td>0</td>\n",
              "    </tr>\n",
              "  </tbody>\n",
              "</table>\n",
              "</div>"
            ],
            "text/plain": [
              "    Client ID  Total Number of Sessions  ...  Unnamed: 0  segment\n",
              "0  ML10669446                         3  ...        6237        0\n",
              "1   ML1054774                        20  ...        4981        0\n",
              "2   ML1023632                        17  ...       10503        0\n",
              "3   ML1050999                         1  ...         783        0\n",
              "4  ML10421332                        11  ...        3048        0\n",
              "\n",
              "[5 rows x 20 columns]"
            ]
          },
          "metadata": {
            "tags": []
          },
          "execution_count": 12
        }
      ]
    },
    {
      "cell_type": "markdown",
      "metadata": {
        "id": "jHiLmUB23__K"
      },
      "source": [
        "Use LabelEncoder to transform the 'Client ID' string to float value"
      ]
    },
    {
      "cell_type": "code",
      "metadata": {
        "colab": {
          "base_uri": "https://localhost:8080/"
        },
        "id": "5o_Pm6oV3__K",
        "outputId": "7dcad7d6-0f8f-470b-f413-faa4181a62eb"
      },
      "source": [
        "le = LabelEncoder()\n",
        "le.fit(pd.concat([train_data['Client ID'], test_data['Client ID']]).astype(str))\n",
        "train_data['Client ID'] = le.transform(train_data['Client ID'].astype(str))\n",
        "test_data['Client ID'] = le.transform(test_data['Client ID'].astype(str))\n",
        "train_data.dtypes"
      ],
      "execution_count": 13,
      "outputs": [
        {
          "output_type": "execute_result",
          "data": {
            "text/plain": [
              "Client ID                     int64\n",
              "Total Number of Sessions      int64\n",
              "Type                          int64\n",
              "Session Index               float64\n",
              "Session Duration            float64\n",
              "Transactions                float64\n",
              "Revenue                     float64\n",
              "Search Result Page Hits     float64\n",
              "Unique Pageviews            float64\n",
              "Search Refinements          float64\n",
              "Search Depth                float64\n",
              "Days Since Last Session     float64\n",
              "Results Pageviews           float64\n",
              "Total Unique Searches       float64\n",
              "Hit Index                   float64\n",
              "Hit Time                    float64\n",
              "Date Hour and Minute        float64\n",
              "Product Detail Views        float64\n",
              "Unnamed: 0                    int64\n",
              "segment                       int64\n",
              "dtype: object"
            ]
          },
          "metadata": {
            "tags": []
          },
          "execution_count": 13
        }
      ]
    },
    {
      "cell_type": "markdown",
      "metadata": {
        "id": "XLHULQEv3__K"
      },
      "source": [
        "Count if all values are finite"
      ]
    },
    {
      "cell_type": "code",
      "metadata": {
        "id": "SYudy69o3__K",
        "colab": {
          "base_uri": "https://localhost:8080/"
        },
        "outputId": "8317823f-fd0b-426a-d1f3-db81622de068"
      },
      "source": [
        "np.isfinite(train_data).sum()"
      ],
      "execution_count": 14,
      "outputs": [
        {
          "output_type": "execute_result",
          "data": {
            "text/plain": [
              "Client ID                   11200\n",
              "Total Number of Sessions    11200\n",
              "Type                        11200\n",
              "Session Index               11192\n",
              "Session Duration            11192\n",
              "Transactions                11192\n",
              "Revenue                     11192\n",
              "Search Result Page Hits     11192\n",
              "Unique Pageviews            11192\n",
              "Search Refinements          11192\n",
              "Search Depth                11192\n",
              "Days Since Last Session     11192\n",
              "Results Pageviews           11192\n",
              "Total Unique Searches       11192\n",
              "Hit Index                   11192\n",
              "Hit Time                    11192\n",
              "Date Hour and Minute        11192\n",
              "Product Detail Views        11192\n",
              "Unnamed: 0                  11200\n",
              "segment                     11200\n",
              "dtype: int64"
            ]
          },
          "metadata": {
            "tags": []
          },
          "execution_count": 14
        }
      ]
    },
    {
      "cell_type": "markdown",
      "metadata": {
        "id": "PHX3EndKDACQ"
      },
      "source": [
        "Replace infinite values with Nan"
      ]
    },
    {
      "cell_type": "code",
      "metadata": {
        "colab": {
          "base_uri": "https://localhost:8080/",
          "height": 470
        },
        "id": "oRYzqvGC3__J",
        "outputId": "028fb420-6263-478f-d5f8-365a15ca1226"
      },
      "source": [
        "# replace inf with nan\n",
        "train_data.replace([np.inf, -np.inf], np.nan)\n",
        "test_data.replace([np.inf, -np.inf], np.nan)"
      ],
      "execution_count": 15,
      "outputs": [
        {
          "output_type": "execute_result",
          "data": {
            "text/html": [
              "<div>\n",
              "<style scoped>\n",
              "    .dataframe tbody tr th:only-of-type {\n",
              "        vertical-align: middle;\n",
              "    }\n",
              "\n",
              "    .dataframe tbody tr th {\n",
              "        vertical-align: top;\n",
              "    }\n",
              "\n",
              "    .dataframe thead th {\n",
              "        text-align: right;\n",
              "    }\n",
              "</style>\n",
              "<table border=\"1\" class=\"dataframe\">\n",
              "  <thead>\n",
              "    <tr style=\"text-align: right;\">\n",
              "      <th></th>\n",
              "      <th>Client ID</th>\n",
              "      <th>Total Number of Sessions</th>\n",
              "      <th>Type</th>\n",
              "      <th>Session Index</th>\n",
              "      <th>Session Duration</th>\n",
              "      <th>Transactions</th>\n",
              "      <th>Revenue</th>\n",
              "      <th>Search Result Page Hits</th>\n",
              "      <th>Unique Pageviews</th>\n",
              "      <th>Search Refinements</th>\n",
              "      <th>Search Depth</th>\n",
              "      <th>Days Since Last Session</th>\n",
              "      <th>Results Pageviews</th>\n",
              "      <th>Total Unique Searches</th>\n",
              "      <th>Hit Index</th>\n",
              "      <th>Hit Time</th>\n",
              "      <th>Date Hour and Minute</th>\n",
              "      <th>Product Detail Views</th>\n",
              "      <th>Unnamed: 0</th>\n",
              "      <th>segment</th>\n",
              "    </tr>\n",
              "  </thead>\n",
              "  <tbody>\n",
              "    <tr>\n",
              "      <th>0</th>\n",
              "      <td>7802</td>\n",
              "      <td>1</td>\n",
              "      <td>2</td>\n",
              "      <td>8.5</td>\n",
              "      <td>285.187500</td>\n",
              "      <td>0.0</td>\n",
              "      <td>0.0</td>\n",
              "      <td>0.000000</td>\n",
              "      <td>4.000000</td>\n",
              "      <td>0.000000</td>\n",
              "      <td>0.000000</td>\n",
              "      <td>10.437500</td>\n",
              "      <td>0.000000</td>\n",
              "      <td>0.000000</td>\n",
              "      <td>4.562500</td>\n",
              "      <td>8.321651e+04</td>\n",
              "      <td>2.020038e+11</td>\n",
              "      <td>0.012931</td>\n",
              "      <td>705</td>\n",
              "      <td>0.5</td>\n",
              "    </tr>\n",
              "    <tr>\n",
              "      <th>1</th>\n",
              "      <td>2263</td>\n",
              "      <td>3</td>\n",
              "      <td>2</td>\n",
              "      <td>33.5</td>\n",
              "      <td>562.651515</td>\n",
              "      <td>0.0</td>\n",
              "      <td>0.0</td>\n",
              "      <td>0.075758</td>\n",
              "      <td>1.818182</td>\n",
              "      <td>0.015152</td>\n",
              "      <td>0.151515</td>\n",
              "      <td>2.363636</td>\n",
              "      <td>0.045455</td>\n",
              "      <td>0.045455</td>\n",
              "      <td>2.856061</td>\n",
              "      <td>2.803967e+05</td>\n",
              "      <td>2.020038e+11</td>\n",
              "      <td>0.036105</td>\n",
              "      <td>710</td>\n",
              "      <td>0.5</td>\n",
              "    </tr>\n",
              "    <tr>\n",
              "      <th>2</th>\n",
              "      <td>6572</td>\n",
              "      <td>1</td>\n",
              "      <td>2</td>\n",
              "      <td>8.0</td>\n",
              "      <td>326.133333</td>\n",
              "      <td>0.0</td>\n",
              "      <td>0.0</td>\n",
              "      <td>0.000000</td>\n",
              "      <td>3.200000</td>\n",
              "      <td>0.000000</td>\n",
              "      <td>0.000000</td>\n",
              "      <td>7.733333</td>\n",
              "      <td>0.000000</td>\n",
              "      <td>0.000000</td>\n",
              "      <td>6.666667</td>\n",
              "      <td>1.517154e+05</td>\n",
              "      <td>2.020045e+11</td>\n",
              "      <td>0.087637</td>\n",
              "      <td>23</td>\n",
              "      <td>0.5</td>\n",
              "    </tr>\n",
              "    <tr>\n",
              "      <th>3</th>\n",
              "      <td>2523</td>\n",
              "      <td>19</td>\n",
              "      <td>2</td>\n",
              "      <td>16.5</td>\n",
              "      <td>415.656250</td>\n",
              "      <td>0.0</td>\n",
              "      <td>0.0</td>\n",
              "      <td>0.750000</td>\n",
              "      <td>4.750000</td>\n",
              "      <td>0.125000</td>\n",
              "      <td>1.093750</td>\n",
              "      <td>4.718750</td>\n",
              "      <td>0.406250</td>\n",
              "      <td>0.312500</td>\n",
              "      <td>4.750000</td>\n",
              "      <td>2.267386e+05</td>\n",
              "      <td>2.020042e+11</td>\n",
              "      <td>0.009868</td>\n",
              "      <td>800</td>\n",
              "      <td>0.5</td>\n",
              "    </tr>\n",
              "    <tr>\n",
              "      <th>4</th>\n",
              "      <td>6765</td>\n",
              "      <td>37</td>\n",
              "      <td>1</td>\n",
              "      <td>2.5</td>\n",
              "      <td>336.500000</td>\n",
              "      <td>0.0</td>\n",
              "      <td>0.0</td>\n",
              "      <td>0.000000</td>\n",
              "      <td>6.250000</td>\n",
              "      <td>0.000000</td>\n",
              "      <td>0.000000</td>\n",
              "      <td>36.250000</td>\n",
              "      <td>0.000000</td>\n",
              "      <td>0.000000</td>\n",
              "      <td>3.875000</td>\n",
              "      <td>5.621226e+04</td>\n",
              "      <td>2.020036e+11</td>\n",
              "      <td>0.000000</td>\n",
              "      <td>654</td>\n",
              "      <td>0.5</td>\n",
              "    </tr>\n",
              "    <tr>\n",
              "      <th>...</th>\n",
              "      <td>...</td>\n",
              "      <td>...</td>\n",
              "      <td>...</td>\n",
              "      <td>...</td>\n",
              "      <td>...</td>\n",
              "      <td>...</td>\n",
              "      <td>...</td>\n",
              "      <td>...</td>\n",
              "      <td>...</td>\n",
              "      <td>...</td>\n",
              "      <td>...</td>\n",
              "      <td>...</td>\n",
              "      <td>...</td>\n",
              "      <td>...</td>\n",
              "      <td>...</td>\n",
              "      <td>...</td>\n",
              "      <td>...</td>\n",
              "      <td>...</td>\n",
              "      <td>...</td>\n",
              "      <td>...</td>\n",
              "    </tr>\n",
              "    <tr>\n",
              "      <th>995</th>\n",
              "      <td>8062</td>\n",
              "      <td>1</td>\n",
              "      <td>9</td>\n",
              "      <td>1.0</td>\n",
              "      <td>3787.000000</td>\n",
              "      <td>0.0</td>\n",
              "      <td>0.0</td>\n",
              "      <td>0.000000</td>\n",
              "      <td>32.000000</td>\n",
              "      <td>0.000000</td>\n",
              "      <td>0.000000</td>\n",
              "      <td>0.000000</td>\n",
              "      <td>0.000000</td>\n",
              "      <td>0.000000</td>\n",
              "      <td>38.000000</td>\n",
              "      <td>2.144218e+06</td>\n",
              "      <td>2.020033e+11</td>\n",
              "      <td>0.000000</td>\n",
              "      <td>426</td>\n",
              "      <td>0.5</td>\n",
              "    </tr>\n",
              "    <tr>\n",
              "      <th>996</th>\n",
              "      <td>584</td>\n",
              "      <td>25</td>\n",
              "      <td>2</td>\n",
              "      <td>2.0</td>\n",
              "      <td>420.666667</td>\n",
              "      <td>0.0</td>\n",
              "      <td>0.0</td>\n",
              "      <td>0.000000</td>\n",
              "      <td>3.333333</td>\n",
              "      <td>0.000000</td>\n",
              "      <td>0.000000</td>\n",
              "      <td>24.000000</td>\n",
              "      <td>0.000000</td>\n",
              "      <td>0.000000</td>\n",
              "      <td>5.000000</td>\n",
              "      <td>1.063912e+05</td>\n",
              "      <td>2.020045e+11</td>\n",
              "      <td>0.000000</td>\n",
              "      <td>949</td>\n",
              "      <td>0.5</td>\n",
              "    </tr>\n",
              "    <tr>\n",
              "      <th>997</th>\n",
              "      <td>8791</td>\n",
              "      <td>8</td>\n",
              "      <td>9</td>\n",
              "      <td>2.5</td>\n",
              "      <td>86.000000</td>\n",
              "      <td>0.0</td>\n",
              "      <td>0.0</td>\n",
              "      <td>0.250000</td>\n",
              "      <td>2.750000</td>\n",
              "      <td>0.000000</td>\n",
              "      <td>0.000000</td>\n",
              "      <td>17.000000</td>\n",
              "      <td>0.000000</td>\n",
              "      <td>0.000000</td>\n",
              "      <td>2.250000</td>\n",
              "      <td>4.147883e+04</td>\n",
              "      <td>2.020049e+11</td>\n",
              "      <td>0.000000</td>\n",
              "      <td>494</td>\n",
              "      <td>0.5</td>\n",
              "    </tr>\n",
              "    <tr>\n",
              "      <th>998</th>\n",
              "      <td>3573</td>\n",
              "      <td>2</td>\n",
              "      <td>1</td>\n",
              "      <td>1.5</td>\n",
              "      <td>257.500000</td>\n",
              "      <td>0.0</td>\n",
              "      <td>0.0</td>\n",
              "      <td>0.000000</td>\n",
              "      <td>6.500000</td>\n",
              "      <td>0.000000</td>\n",
              "      <td>0.000000</td>\n",
              "      <td>0.000000</td>\n",
              "      <td>0.000000</td>\n",
              "      <td>0.000000</td>\n",
              "      <td>4.750000</td>\n",
              "      <td>1.356443e+05</td>\n",
              "      <td>2.020033e+11</td>\n",
              "      <td>0.000000</td>\n",
              "      <td>618</td>\n",
              "      <td>0.5</td>\n",
              "    </tr>\n",
              "    <tr>\n",
              "      <th>999</th>\n",
              "      <td>6465</td>\n",
              "      <td>2</td>\n",
              "      <td>1</td>\n",
              "      <td>1.5</td>\n",
              "      <td>355.500000</td>\n",
              "      <td>0.0</td>\n",
              "      <td>0.0</td>\n",
              "      <td>0.000000</td>\n",
              "      <td>6.500000</td>\n",
              "      <td>0.000000</td>\n",
              "      <td>0.000000</td>\n",
              "      <td>14.500000</td>\n",
              "      <td>0.000000</td>\n",
              "      <td>0.000000</td>\n",
              "      <td>11.250000</td>\n",
              "      <td>1.449813e+05</td>\n",
              "      <td>2.020056e+11</td>\n",
              "      <td>0.105263</td>\n",
              "      <td>688</td>\n",
              "      <td>0.5</td>\n",
              "    </tr>\n",
              "  </tbody>\n",
              "</table>\n",
              "<p>1000 rows × 20 columns</p>\n",
              "</div>"
            ],
            "text/plain": [
              "     Client ID  Total Number of Sessions  ...  Unnamed: 0  segment\n",
              "0         7802                         1  ...         705      0.5\n",
              "1         2263                         3  ...         710      0.5\n",
              "2         6572                         1  ...          23      0.5\n",
              "3         2523                        19  ...         800      0.5\n",
              "4         6765                        37  ...         654      0.5\n",
              "..         ...                       ...  ...         ...      ...\n",
              "995       8062                         1  ...         426      0.5\n",
              "996        584                        25  ...         949      0.5\n",
              "997       8791                         8  ...         494      0.5\n",
              "998       3573                         2  ...         618      0.5\n",
              "999       6465                         2  ...         688      0.5\n",
              "\n",
              "[1000 rows x 20 columns]"
            ]
          },
          "metadata": {
            "tags": []
          },
          "execution_count": 15
        }
      ]
    },
    {
      "cell_type": "markdown",
      "metadata": {
        "id": "U9lXPhrF3__J"
      },
      "source": [
        "Count nan values"
      ]
    },
    {
      "cell_type": "code",
      "metadata": {
        "colab": {
          "base_uri": "https://localhost:8080/"
        },
        "id": "IJ0AF_rg3__J",
        "outputId": "38f57d27-5550-49e9-ccba-94e8b9ef0a19"
      },
      "source": [
        "train_data.isna().sum()"
      ],
      "execution_count": 16,
      "outputs": [
        {
          "output_type": "execute_result",
          "data": {
            "text/plain": [
              "Client ID                   0\n",
              "Total Number of Sessions    0\n",
              "Type                        0\n",
              "Session Index               8\n",
              "Session Duration            8\n",
              "Transactions                8\n",
              "Revenue                     8\n",
              "Search Result Page Hits     8\n",
              "Unique Pageviews            8\n",
              "Search Refinements          8\n",
              "Search Depth                8\n",
              "Days Since Last Session     8\n",
              "Results Pageviews           8\n",
              "Total Unique Searches       8\n",
              "Hit Index                   8\n",
              "Hit Time                    8\n",
              "Date Hour and Minute        8\n",
              "Product Detail Views        8\n",
              "Unnamed: 0                  0\n",
              "segment                     0\n",
              "dtype: int64"
            ]
          },
          "metadata": {
            "tags": []
          },
          "execution_count": 16
        }
      ]
    },
    {
      "cell_type": "markdown",
      "metadata": {
        "id": "mItHTiXfDH4T"
      },
      "source": [
        "Remove data with nan values"
      ]
    },
    {
      "cell_type": "code",
      "metadata": {
        "colab": {
          "base_uri": "https://localhost:8080/"
        },
        "id": "HSlVklgC3__J",
        "outputId": "2d424c08-5966-4db7-e471-acf90dc48402"
      },
      "source": [
        "train_data.dropna(inplace=True)\n",
        "test_data.dropna(inplace=True)\n",
        "\n",
        "train_data.isna().sum()"
      ],
      "execution_count": 17,
      "outputs": [
        {
          "output_type": "execute_result",
          "data": {
            "text/plain": [
              "Client ID                   0\n",
              "Total Number of Sessions    0\n",
              "Type                        0\n",
              "Session Index               0\n",
              "Session Duration            0\n",
              "Transactions                0\n",
              "Revenue                     0\n",
              "Search Result Page Hits     0\n",
              "Unique Pageviews            0\n",
              "Search Refinements          0\n",
              "Search Depth                0\n",
              "Days Since Last Session     0\n",
              "Results Pageviews           0\n",
              "Total Unique Searches       0\n",
              "Hit Index                   0\n",
              "Hit Time                    0\n",
              "Date Hour and Minute        0\n",
              "Product Detail Views        0\n",
              "Unnamed: 0                  0\n",
              "segment                     0\n",
              "dtype: int64"
            ]
          },
          "metadata": {
            "tags": []
          },
          "execution_count": 17
        }
      ]
    },
    {
      "cell_type": "code",
      "metadata": {
        "colab": {
          "base_uri": "https://localhost:8080/"
        },
        "id": "5pJM4Kf_3__J",
        "outputId": "2f134b2d-395c-4b91-965e-5631e8b08669"
      },
      "source": [
        "test_data.isna().sum()"
      ],
      "execution_count": 18,
      "outputs": [
        {
          "output_type": "execute_result",
          "data": {
            "text/plain": [
              "Client ID                   0\n",
              "Total Number of Sessions    0\n",
              "Type                        0\n",
              "Session Index               0\n",
              "Session Duration            0\n",
              "Transactions                0\n",
              "Revenue                     0\n",
              "Search Result Page Hits     0\n",
              "Unique Pageviews            0\n",
              "Search Refinements          0\n",
              "Search Depth                0\n",
              "Days Since Last Session     0\n",
              "Results Pageviews           0\n",
              "Total Unique Searches       0\n",
              "Hit Index                   0\n",
              "Hit Time                    0\n",
              "Date Hour and Minute        0\n",
              "Product Detail Views        0\n",
              "Unnamed: 0                  0\n",
              "segment                     0\n",
              "dtype: int64"
            ]
          },
          "metadata": {
            "tags": []
          },
          "execution_count": 18
        }
      ]
    },
    {
      "cell_type": "markdown",
      "metadata": {
        "id": "YpfJ_Apy3__J"
      },
      "source": [
        "See columns types"
      ]
    },
    {
      "cell_type": "code",
      "metadata": {
        "colab": {
          "base_uri": "https://localhost:8080/"
        },
        "id": "hsQWTk4e3__K",
        "outputId": "c9d5f27e-67d1-45dd-9bee-d9eb6be316d5"
      },
      "source": [
        "train_data.dtypes"
      ],
      "execution_count": 19,
      "outputs": [
        {
          "output_type": "execute_result",
          "data": {
            "text/plain": [
              "Client ID                     int64\n",
              "Total Number of Sessions      int64\n",
              "Type                          int64\n",
              "Session Index               float64\n",
              "Session Duration            float64\n",
              "Transactions                float64\n",
              "Revenue                     float64\n",
              "Search Result Page Hits     float64\n",
              "Unique Pageviews            float64\n",
              "Search Refinements          float64\n",
              "Search Depth                float64\n",
              "Days Since Last Session     float64\n",
              "Results Pageviews           float64\n",
              "Total Unique Searches       float64\n",
              "Hit Index                   float64\n",
              "Hit Time                    float64\n",
              "Date Hour and Minute        float64\n",
              "Product Detail Views        float64\n",
              "Unnamed: 0                    int64\n",
              "segment                       int64\n",
              "dtype: object"
            ]
          },
          "metadata": {
            "tags": []
          },
          "execution_count": 19
        }
      ]
    },
    {
      "cell_type": "code",
      "metadata": {
        "colab": {
          "base_uri": "https://localhost:8080/",
          "height": 255
        },
        "id": "9r_mmLAu1tae",
        "outputId": "9d7074e7-53da-46b5-fb87-ac8b318b0c5d"
      },
      "source": [
        "train_data.head()"
      ],
      "execution_count": 20,
      "outputs": [
        {
          "output_type": "execute_result",
          "data": {
            "text/html": [
              "<div>\n",
              "<style scoped>\n",
              "    .dataframe tbody tr th:only-of-type {\n",
              "        vertical-align: middle;\n",
              "    }\n",
              "\n",
              "    .dataframe tbody tr th {\n",
              "        vertical-align: top;\n",
              "    }\n",
              "\n",
              "    .dataframe thead th {\n",
              "        text-align: right;\n",
              "    }\n",
              "</style>\n",
              "<table border=\"1\" class=\"dataframe\">\n",
              "  <thead>\n",
              "    <tr style=\"text-align: right;\">\n",
              "      <th></th>\n",
              "      <th>Client ID</th>\n",
              "      <th>Total Number of Sessions</th>\n",
              "      <th>Type</th>\n",
              "      <th>Session Index</th>\n",
              "      <th>Session Duration</th>\n",
              "      <th>Transactions</th>\n",
              "      <th>Revenue</th>\n",
              "      <th>Search Result Page Hits</th>\n",
              "      <th>Unique Pageviews</th>\n",
              "      <th>Search Refinements</th>\n",
              "      <th>Search Depth</th>\n",
              "      <th>Days Since Last Session</th>\n",
              "      <th>Results Pageviews</th>\n",
              "      <th>Total Unique Searches</th>\n",
              "      <th>Hit Index</th>\n",
              "      <th>Hit Time</th>\n",
              "      <th>Date Hour and Minute</th>\n",
              "      <th>Product Detail Views</th>\n",
              "      <th>Unnamed: 0</th>\n",
              "      <th>segment</th>\n",
              "    </tr>\n",
              "  </thead>\n",
              "  <tbody>\n",
              "    <tr>\n",
              "      <th>0</th>\n",
              "      <td>8625</td>\n",
              "      <td>3</td>\n",
              "      <td>1</td>\n",
              "      <td>1.5</td>\n",
              "      <td>248.500000</td>\n",
              "      <td>0.0</td>\n",
              "      <td>0.0</td>\n",
              "      <td>0.000000</td>\n",
              "      <td>5.500000</td>\n",
              "      <td>0.0</td>\n",
              "      <td>0.000000</td>\n",
              "      <td>53.500000</td>\n",
              "      <td>0.000000</td>\n",
              "      <td>0.000000</td>\n",
              "      <td>7.500000</td>\n",
              "      <td>47624.229167</td>\n",
              "      <td>2.020041e+11</td>\n",
              "      <td>0.00</td>\n",
              "      <td>6237</td>\n",
              "      <td>0</td>\n",
              "    </tr>\n",
              "    <tr>\n",
              "      <th>1</th>\n",
              "      <td>7061</td>\n",
              "      <td>20</td>\n",
              "      <td>2</td>\n",
              "      <td>9.5</td>\n",
              "      <td>830.388889</td>\n",
              "      <td>0.0</td>\n",
              "      <td>0.0</td>\n",
              "      <td>0.000000</td>\n",
              "      <td>5.444444</td>\n",
              "      <td>0.0</td>\n",
              "      <td>0.000000</td>\n",
              "      <td>2.944444</td>\n",
              "      <td>0.000000</td>\n",
              "      <td>0.000000</td>\n",
              "      <td>6.111111</td>\n",
              "      <td>427477.318289</td>\n",
              "      <td>2.020051e+11</td>\n",
              "      <td>0.00</td>\n",
              "      <td>4981</td>\n",
              "      <td>0</td>\n",
              "    </tr>\n",
              "    <tr>\n",
              "      <th>2</th>\n",
              "      <td>3417</td>\n",
              "      <td>17</td>\n",
              "      <td>2</td>\n",
              "      <td>15.5</td>\n",
              "      <td>206.033333</td>\n",
              "      <td>0.0</td>\n",
              "      <td>0.0</td>\n",
              "      <td>0.000000</td>\n",
              "      <td>3.400000</td>\n",
              "      <td>0.0</td>\n",
              "      <td>0.000000</td>\n",
              "      <td>5.333333</td>\n",
              "      <td>0.000000</td>\n",
              "      <td>0.000000</td>\n",
              "      <td>4.250000</td>\n",
              "      <td>96655.143718</td>\n",
              "      <td>2.020035e+11</td>\n",
              "      <td>0.01</td>\n",
              "      <td>10503</td>\n",
              "      <td>0</td>\n",
              "    </tr>\n",
              "    <tr>\n",
              "      <th>3</th>\n",
              "      <td>6629</td>\n",
              "      <td>1</td>\n",
              "      <td>2</td>\n",
              "      <td>7.0</td>\n",
              "      <td>614.000000</td>\n",
              "      <td>0.0</td>\n",
              "      <td>0.0</td>\n",
              "      <td>0.076923</td>\n",
              "      <td>3.846154</td>\n",
              "      <td>0.0</td>\n",
              "      <td>0.307692</td>\n",
              "      <td>7.076923</td>\n",
              "      <td>0.076923</td>\n",
              "      <td>0.076923</td>\n",
              "      <td>4.192308</td>\n",
              "      <td>252253.695688</td>\n",
              "      <td>2.020044e+11</td>\n",
              "      <td>0.00</td>\n",
              "      <td>783</td>\n",
              "      <td>0</td>\n",
              "    </tr>\n",
              "    <tr>\n",
              "      <th>4</th>\n",
              "      <td>5657</td>\n",
              "      <td>11</td>\n",
              "      <td>1</td>\n",
              "      <td>2.0</td>\n",
              "      <td>20.000000</td>\n",
              "      <td>0.0</td>\n",
              "      <td>0.0</td>\n",
              "      <td>0.000000</td>\n",
              "      <td>1.333333</td>\n",
              "      <td>0.0</td>\n",
              "      <td>0.000000</td>\n",
              "      <td>3.000000</td>\n",
              "      <td>0.000000</td>\n",
              "      <td>0.000000</td>\n",
              "      <td>1.833333</td>\n",
              "      <td>11109.333333</td>\n",
              "      <td>2.020021e+11</td>\n",
              "      <td>0.00</td>\n",
              "      <td>3048</td>\n",
              "      <td>0</td>\n",
              "    </tr>\n",
              "  </tbody>\n",
              "</table>\n",
              "</div>"
            ],
            "text/plain": [
              "   Client ID  Total Number of Sessions  ...  Unnamed: 0  segment\n",
              "0       8625                         3  ...        6237        0\n",
              "1       7061                        20  ...        4981        0\n",
              "2       3417                        17  ...       10503        0\n",
              "3       6629                         1  ...         783        0\n",
              "4       5657                        11  ...        3048        0\n",
              "\n",
              "[5 rows x 20 columns]"
            ]
          },
          "metadata": {
            "tags": []
          },
          "execution_count": 20
        }
      ]
    },
    {
      "cell_type": "code",
      "metadata": {
        "colab": {
          "base_uri": "https://localhost:8080/",
          "height": 255
        },
        "id": "HitpPxIc46KT",
        "outputId": "47a2a23a-eef7-4a7c-f562-f90b307f1bae"
      },
      "source": [
        "test_data.head()"
      ],
      "execution_count": 21,
      "outputs": [
        {
          "output_type": "execute_result",
          "data": {
            "text/html": [
              "<div>\n",
              "<style scoped>\n",
              "    .dataframe tbody tr th:only-of-type {\n",
              "        vertical-align: middle;\n",
              "    }\n",
              "\n",
              "    .dataframe tbody tr th {\n",
              "        vertical-align: top;\n",
              "    }\n",
              "\n",
              "    .dataframe thead th {\n",
              "        text-align: right;\n",
              "    }\n",
              "</style>\n",
              "<table border=\"1\" class=\"dataframe\">\n",
              "  <thead>\n",
              "    <tr style=\"text-align: right;\">\n",
              "      <th></th>\n",
              "      <th>Client ID</th>\n",
              "      <th>Total Number of Sessions</th>\n",
              "      <th>Type</th>\n",
              "      <th>Session Index</th>\n",
              "      <th>Session Duration</th>\n",
              "      <th>Transactions</th>\n",
              "      <th>Revenue</th>\n",
              "      <th>Search Result Page Hits</th>\n",
              "      <th>Unique Pageviews</th>\n",
              "      <th>Search Refinements</th>\n",
              "      <th>Search Depth</th>\n",
              "      <th>Days Since Last Session</th>\n",
              "      <th>Results Pageviews</th>\n",
              "      <th>Total Unique Searches</th>\n",
              "      <th>Hit Index</th>\n",
              "      <th>Hit Time</th>\n",
              "      <th>Date Hour and Minute</th>\n",
              "      <th>Product Detail Views</th>\n",
              "      <th>Unnamed: 0</th>\n",
              "      <th>segment</th>\n",
              "    </tr>\n",
              "  </thead>\n",
              "  <tbody>\n",
              "    <tr>\n",
              "      <th>0</th>\n",
              "      <td>7802</td>\n",
              "      <td>1</td>\n",
              "      <td>2</td>\n",
              "      <td>8.5</td>\n",
              "      <td>285.187500</td>\n",
              "      <td>0.0</td>\n",
              "      <td>0.0</td>\n",
              "      <td>0.000000</td>\n",
              "      <td>4.000000</td>\n",
              "      <td>0.000000</td>\n",
              "      <td>0.000000</td>\n",
              "      <td>10.437500</td>\n",
              "      <td>0.000000</td>\n",
              "      <td>0.000000</td>\n",
              "      <td>4.562500</td>\n",
              "      <td>83216.512552</td>\n",
              "      <td>2.020038e+11</td>\n",
              "      <td>0.012931</td>\n",
              "      <td>705</td>\n",
              "      <td>0.5</td>\n",
              "    </tr>\n",
              "    <tr>\n",
              "      <th>1</th>\n",
              "      <td>2263</td>\n",
              "      <td>3</td>\n",
              "      <td>2</td>\n",
              "      <td>33.5</td>\n",
              "      <td>562.651515</td>\n",
              "      <td>0.0</td>\n",
              "      <td>0.0</td>\n",
              "      <td>0.075758</td>\n",
              "      <td>1.818182</td>\n",
              "      <td>0.015152</td>\n",
              "      <td>0.151515</td>\n",
              "      <td>2.363636</td>\n",
              "      <td>0.045455</td>\n",
              "      <td>0.045455</td>\n",
              "      <td>2.856061</td>\n",
              "      <td>280396.683224</td>\n",
              "      <td>2.020038e+11</td>\n",
              "      <td>0.036105</td>\n",
              "      <td>710</td>\n",
              "      <td>0.5</td>\n",
              "    </tr>\n",
              "    <tr>\n",
              "      <th>2</th>\n",
              "      <td>6572</td>\n",
              "      <td>1</td>\n",
              "      <td>2</td>\n",
              "      <td>8.0</td>\n",
              "      <td>326.133333</td>\n",
              "      <td>0.0</td>\n",
              "      <td>0.0</td>\n",
              "      <td>0.000000</td>\n",
              "      <td>3.200000</td>\n",
              "      <td>0.000000</td>\n",
              "      <td>0.000000</td>\n",
              "      <td>7.733333</td>\n",
              "      <td>0.000000</td>\n",
              "      <td>0.000000</td>\n",
              "      <td>6.666667</td>\n",
              "      <td>151715.383549</td>\n",
              "      <td>2.020045e+11</td>\n",
              "      <td>0.087637</td>\n",
              "      <td>23</td>\n",
              "      <td>0.5</td>\n",
              "    </tr>\n",
              "    <tr>\n",
              "      <th>3</th>\n",
              "      <td>2523</td>\n",
              "      <td>19</td>\n",
              "      <td>2</td>\n",
              "      <td>16.5</td>\n",
              "      <td>415.656250</td>\n",
              "      <td>0.0</td>\n",
              "      <td>0.0</td>\n",
              "      <td>0.750000</td>\n",
              "      <td>4.750000</td>\n",
              "      <td>0.125000</td>\n",
              "      <td>1.093750</td>\n",
              "      <td>4.718750</td>\n",
              "      <td>0.406250</td>\n",
              "      <td>0.312500</td>\n",
              "      <td>4.750000</td>\n",
              "      <td>226738.635647</td>\n",
              "      <td>2.020042e+11</td>\n",
              "      <td>0.009868</td>\n",
              "      <td>800</td>\n",
              "      <td>0.5</td>\n",
              "    </tr>\n",
              "    <tr>\n",
              "      <th>4</th>\n",
              "      <td>6765</td>\n",
              "      <td>37</td>\n",
              "      <td>1</td>\n",
              "      <td>2.5</td>\n",
              "      <td>336.500000</td>\n",
              "      <td>0.0</td>\n",
              "      <td>0.0</td>\n",
              "      <td>0.000000</td>\n",
              "      <td>6.250000</td>\n",
              "      <td>0.000000</td>\n",
              "      <td>0.000000</td>\n",
              "      <td>36.250000</td>\n",
              "      <td>0.000000</td>\n",
              "      <td>0.000000</td>\n",
              "      <td>3.875000</td>\n",
              "      <td>56212.258929</td>\n",
              "      <td>2.020036e+11</td>\n",
              "      <td>0.000000</td>\n",
              "      <td>654</td>\n",
              "      <td>0.5</td>\n",
              "    </tr>\n",
              "  </tbody>\n",
              "</table>\n",
              "</div>"
            ],
            "text/plain": [
              "   Client ID  Total Number of Sessions  ...  Unnamed: 0  segment\n",
              "0       7802                         1  ...         705      0.5\n",
              "1       2263                         3  ...         710      0.5\n",
              "2       6572                         1  ...          23      0.5\n",
              "3       2523                        19  ...         800      0.5\n",
              "4       6765                        37  ...         654      0.5\n",
              "\n",
              "[5 rows x 20 columns]"
            ]
          },
          "metadata": {
            "tags": []
          },
          "execution_count": 21
        }
      ]
    },
    {
      "cell_type": "markdown",
      "metadata": {
        "id": "6O3j4PhL3__K"
      },
      "source": [
        "Split the target from the user data"
      ]
    },
    {
      "cell_type": "code",
      "metadata": {
        "id": "aj-Kuegv3__K",
        "scrolled": true
      },
      "source": [
        "train_y = train_data['segment']\n",
        "train_X = train_data.drop(['segment'], axis=1)\n",
        "\n",
        "test_y = test_data['segment']\n",
        "test_X = test_data.drop(['segment'], axis=1)\n"
      ],
      "execution_count": 22,
      "outputs": []
    },
    {
      "cell_type": "code",
      "metadata": {
        "id": "gHKRJWdUEksa"
      },
      "source": [
        ""
      ],
      "execution_count": 22,
      "outputs": []
    },
    {
      "cell_type": "markdown",
      "metadata": {
        "id": "RJL_mv2DEjpC"
      },
      "source": [
        "Normalize the data excepting the 'Client ID', because we need it to identify the client predicted segment"
      ]
    },
    {
      "cell_type": "code",
      "metadata": {
        "id": "MSlmS5CS4X6p"
      },
      "source": [
        "\n",
        "min_max_scaler = MinMaxScaler()\n",
        "\n",
        "columns = []\n",
        "for col in list(test_X.columns):\n",
        "  if col != \"Client ID\":\n",
        "    columns.append(col)\n",
        "\n",
        "test_X.loc[:, columns] = min_max_scaler.fit_transform(test_X[columns])\n",
        "train_X.loc[:, columns] = min_max_scaler.fit_transform(train_X[columns])\n"
      ],
      "execution_count": 23,
      "outputs": []
    },
    {
      "cell_type": "code",
      "metadata": {
        "colab": {
          "base_uri": "https://localhost:8080/",
          "height": 238
        },
        "id": "HC9C6sia2AHV",
        "outputId": "e494d65f-003f-46e4-c6b3-a9b9b1fa207a"
      },
      "source": [
        "train_X.head()"
      ],
      "execution_count": 24,
      "outputs": [
        {
          "output_type": "execute_result",
          "data": {
            "text/html": [
              "<div>\n",
              "<style scoped>\n",
              "    .dataframe tbody tr th:only-of-type {\n",
              "        vertical-align: middle;\n",
              "    }\n",
              "\n",
              "    .dataframe tbody tr th {\n",
              "        vertical-align: top;\n",
              "    }\n",
              "\n",
              "    .dataframe thead th {\n",
              "        text-align: right;\n",
              "    }\n",
              "</style>\n",
              "<table border=\"1\" class=\"dataframe\">\n",
              "  <thead>\n",
              "    <tr style=\"text-align: right;\">\n",
              "      <th></th>\n",
              "      <th>Client ID</th>\n",
              "      <th>Total Number of Sessions</th>\n",
              "      <th>Type</th>\n",
              "      <th>Session Index</th>\n",
              "      <th>Session Duration</th>\n",
              "      <th>Transactions</th>\n",
              "      <th>Revenue</th>\n",
              "      <th>Search Result Page Hits</th>\n",
              "      <th>Unique Pageviews</th>\n",
              "      <th>Search Refinements</th>\n",
              "      <th>Search Depth</th>\n",
              "      <th>Days Since Last Session</th>\n",
              "      <th>Results Pageviews</th>\n",
              "      <th>Total Unique Searches</th>\n",
              "      <th>Hit Index</th>\n",
              "      <th>Hit Time</th>\n",
              "      <th>Date Hour and Minute</th>\n",
              "      <th>Product Detail Views</th>\n",
              "      <th>Unnamed: 0</th>\n",
              "    </tr>\n",
              "  </thead>\n",
              "  <tbody>\n",
              "    <tr>\n",
              "      <th>0</th>\n",
              "      <td>8625</td>\n",
              "      <td>0.000398</td>\n",
              "      <td>0.000</td>\n",
              "      <td>0.001815</td>\n",
              "      <td>0.032686</td>\n",
              "      <td>0.0</td>\n",
              "      <td>0.0</td>\n",
              "      <td>0.000000</td>\n",
              "      <td>0.133663</td>\n",
              "      <td>0.0</td>\n",
              "      <td>0.000000</td>\n",
              "      <td>0.604520</td>\n",
              "      <td>0.000000</td>\n",
              "      <td>0.000000</td>\n",
              "      <td>0.035036</td>\n",
              "      <td>0.014387</td>\n",
              "      <td>0.969579</td>\n",
              "      <td>0.000000</td>\n",
              "      <td>0.556925</td>\n",
              "    </tr>\n",
              "    <tr>\n",
              "      <th>1</th>\n",
              "      <td>7061</td>\n",
              "      <td>0.003777</td>\n",
              "      <td>0.125</td>\n",
              "      <td>0.030853</td>\n",
              "      <td>0.109534</td>\n",
              "      <td>0.0</td>\n",
              "      <td>0.0</td>\n",
              "      <td>0.000000</td>\n",
              "      <td>0.132013</td>\n",
              "      <td>0.0</td>\n",
              "      <td>0.000000</td>\n",
              "      <td>0.033271</td>\n",
              "      <td>0.000000</td>\n",
              "      <td>0.000000</td>\n",
              "      <td>0.026926</td>\n",
              "      <td>0.129755</td>\n",
              "      <td>0.980122</td>\n",
              "      <td>0.000000</td>\n",
              "      <td>0.444772</td>\n",
              "    </tr>\n",
              "    <tr>\n",
              "      <th>2</th>\n",
              "      <td>3417</td>\n",
              "      <td>0.003181</td>\n",
              "      <td>0.125</td>\n",
              "      <td>0.052632</td>\n",
              "      <td>0.027078</td>\n",
              "      <td>0.0</td>\n",
              "      <td>0.0</td>\n",
              "      <td>0.000000</td>\n",
              "      <td>0.071287</td>\n",
              "      <td>0.0</td>\n",
              "      <td>0.000000</td>\n",
              "      <td>0.060264</td>\n",
              "      <td>0.000000</td>\n",
              "      <td>0.000000</td>\n",
              "      <td>0.016058</td>\n",
              "      <td>0.029279</td>\n",
              "      <td>0.962415</td>\n",
              "      <td>0.009524</td>\n",
              "      <td>0.937852</td>\n",
              "    </tr>\n",
              "    <tr>\n",
              "      <th>3</th>\n",
              "      <td>6629</td>\n",
              "      <td>0.000000</td>\n",
              "      <td>0.125</td>\n",
              "      <td>0.021779</td>\n",
              "      <td>0.080956</td>\n",
              "      <td>0.0</td>\n",
              "      <td>0.0</td>\n",
              "      <td>0.005044</td>\n",
              "      <td>0.084539</td>\n",
              "      <td>0.0</td>\n",
              "      <td>0.008791</td>\n",
              "      <td>0.079965</td>\n",
              "      <td>0.009324</td>\n",
              "      <td>0.021978</td>\n",
              "      <td>0.015722</td>\n",
              "      <td>0.076537</td>\n",
              "      <td>0.972072</td>\n",
              "      <td>0.000000</td>\n",
              "      <td>0.069917</td>\n",
              "    </tr>\n",
              "    <tr>\n",
              "      <th>4</th>\n",
              "      <td>5657</td>\n",
              "      <td>0.001988</td>\n",
              "      <td>0.000</td>\n",
              "      <td>0.003630</td>\n",
              "      <td>0.002509</td>\n",
              "      <td>0.0</td>\n",
              "      <td>0.0</td>\n",
              "      <td>0.000000</td>\n",
              "      <td>0.009901</td>\n",
              "      <td>0.0</td>\n",
              "      <td>0.000000</td>\n",
              "      <td>0.033898</td>\n",
              "      <td>0.000000</td>\n",
              "      <td>0.000000</td>\n",
              "      <td>0.001946</td>\n",
              "      <td>0.003297</td>\n",
              "      <td>0.948210</td>\n",
              "      <td>0.000000</td>\n",
              "      <td>0.272167</td>\n",
              "    </tr>\n",
              "  </tbody>\n",
              "</table>\n",
              "</div>"
            ],
            "text/plain": [
              "   Client ID  Total Number of Sessions  ...  Product Detail Views  Unnamed: 0\n",
              "0       8625                  0.000398  ...              0.000000    0.556925\n",
              "1       7061                  0.003777  ...              0.000000    0.444772\n",
              "2       3417                  0.003181  ...              0.009524    0.937852\n",
              "3       6629                  0.000000  ...              0.000000    0.069917\n",
              "4       5657                  0.001988  ...              0.000000    0.272167\n",
              "\n",
              "[5 rows x 19 columns]"
            ]
          },
          "metadata": {
            "tags": []
          },
          "execution_count": 24
        }
      ]
    },
    {
      "cell_type": "markdown",
      "metadata": {
        "id": "ObEgnURL3__K"
      },
      "source": [
        "Split the train data in train and validation"
      ]
    },
    {
      "cell_type": "code",
      "metadata": {
        "id": "3Ubg1paV3__K"
      },
      "source": [
        "train_X, valid_X, train_y, valid_y = train_test_split(train_X, train_y, random_state=17)"
      ],
      "execution_count": 25,
      "outputs": []
    },
    {
      "cell_type": "markdown",
      "metadata": {
        "id": "Uke3R7z_F88q"
      },
      "source": [
        "Count the client in every class (segment 0 / 1)"
      ]
    },
    {
      "cell_type": "code",
      "metadata": {
        "id": "sPCgB0RE5cGj"
      },
      "source": [
        "def plot_labels(train_y):\n",
        "  plot_sb = sb.countplot(train_y, label='segment', palette=\"Set1\")\n",
        "\n",
        "  count_datapoints_in_classes = train_y.value_counts(sort=False)\n",
        "  classes = list(set(train_y))\n",
        "  for cls in classes:\n",
        "    print('Class %d: %d' % (cls, count_datapoints_in_classes[cls]))"
      ],
      "execution_count": 26,
      "outputs": []
    },
    {
      "cell_type": "code",
      "metadata": {
        "colab": {
          "base_uri": "https://localhost:8080/",
          "height": 367
        },
        "id": "I1JBqKJOHSDP",
        "outputId": "fb11bdc2-c738-4e11-cab4-8c265aa266ab"
      },
      "source": [
        "plot_labels(train_y)"
      ],
      "execution_count": 27,
      "outputs": [
        {
          "output_type": "stream",
          "text": [
            "Class 0: 6278\n",
            "Class 1: 2116\n"
          ],
          "name": "stdout"
        },
        {
          "output_type": "stream",
          "text": [
            "/usr/local/lib/python3.6/dist-packages/seaborn/_decorators.py:43: FutureWarning: Pass the following variable as a keyword arg: x. From version 0.12, the only valid positional argument will be `data`, and passing other arguments without an explicit keyword will result in an error or misinterpretation.\n",
            "  FutureWarning\n"
          ],
          "name": "stderr"
        },
        {
          "output_type": "display_data",
          "data": {
            "image/png": "[encoded data removed]",
            "text/plain": [
              "<Figure size 432x288 with 1 Axes>"
            ]
          },
          "metadata": {
            "tags": [],
            "needs_background": "light"
          }
        }
      ]
    },
    {
      "cell_type": "markdown",
      "metadata": {
        "id": "IyG7waBaGyB6"
      },
      "source": [
        "Use SMOTE (Synthetic Minority Over-sampling TEchnique) to oversample the minority class "
      ]
    },
    {
      "cell_type": "code",
      "metadata": {
        "colab": {
          "base_uri": "https://localhost:8080/"
        },
        "id": "r_YjsA7tuyyw",
        "outputId": "7aa01fa7-2789-47c7-a67c-0143a066f01f"
      },
      "source": [
        "oversample = SMOTE()\n",
        "X_resampled, y_resampled = oversample.fit_resample(train_X, train_y)\n",
        "train_X = pd.DataFrame(X_resampled, columns=train_X.columns)\n",
        "train_y = pd.DataFrame(y_resampled, columns=['segment'])\n"
      ],
      "execution_count": 28,
      "outputs": [
        {
          "output_type": "stream",
          "text": [
            "/usr/local/lib/python3.6/dist-packages/sklearn/utils/deprecation.py:87: FutureWarning: Function safe_indexing is deprecated; safe_indexing is deprecated in version 0.22 and will be removed in version 0.24.\n",
            "  warnings.warn(msg, category=FutureWarning)\n"
          ],
          "name": "stderr"
        }
      ]
    },
    {
      "cell_type": "markdown",
      "metadata": {
        "id": "LPly21iAHsLz"
      },
      "source": [
        "See the number of values for every class after SMOTE"
      ]
    },
    {
      "cell_type": "code",
      "metadata": {
        "colab": {
          "base_uri": "https://localhost:8080/",
          "height": 367
        },
        "id": "haOkHak1HrF7",
        "outputId": "76ce936a-f36e-4ad9-f091-5c5c76134159"
      },
      "source": [
        "plot_labels(train_y['segment'])"
      ],
      "execution_count": 29,
      "outputs": [
        {
          "output_type": "stream",
          "text": [
            "/usr/local/lib/python3.6/dist-packages/seaborn/_decorators.py:43: FutureWarning: Pass the following variable as a keyword arg: x. From version 0.12, the only valid positional argument will be `data`, and passing other arguments without an explicit keyword will result in an error or misinterpretation.\n",
            "  FutureWarning\n"
          ],
          "name": "stderr"
        },
        {
          "output_type": "stream",
          "text": [
            "Class 0: 6278\n",
            "Class 1: 6278\n"
          ],
          "name": "stdout"
        },
        {
          "output_type": "display_data",
          "data": {
            "image/png": "[encoded data removed]",
            "text/plain": [
              "<Figure size 432x288 with 1 Axes>"
            ]
          },
          "metadata": {
            "tags": [],
            "needs_background": "light"
          }
        }
      ]
    },
    {
      "cell_type": "markdown",
      "metadata": {
        "id": "-IUrWR8fb20u"
      },
      "source": [
        "Correlation map"
      ]
    },
    {
      "cell_type": "code",
      "metadata": {
        "colab": {
          "base_uri": "https://localhost:8080/",
          "height": 1000
        },
        "id": "RflP-zw0VE7m",
        "outputId": "b77acd7b-3a7e-4b6a-d4a2-095bc929cab0"
      },
      "source": [
        "corrmat = train_data.corr()\n",
        "top_corr_features = corrmat.index\n",
        "plt.figure(figsize=(20,20))\n",
        "#plot heat map\n",
        "g = sb.heatmap(train_data[top_corr_features].corr(),annot=True,cmap=\"RdYlGn\")"
      ],
      "execution_count": 30,
      "outputs": [
        {
          "output_type": "display_data",
          "data": {
            "image/png": "[encoded data removed]",
            "text/plain": [
              "<Figure size 1440x1440 with 2 Axes>"
            ]
          },
          "metadata": {
            "tags": [],
            "needs_background": "light"
          }
        }
      ]
    },
    {
      "cell_type": "markdown",
      "metadata": {
        "id": "oCsqhI7gBxMT"
      },
      "source": [
        "Find the best number of parameters"
      ]
    },
    {
      "cell_type": "code",
      "metadata": {
        "id": "QPx6Wu_70SnK",
        "colab": {
          "base_uri": "https://localhost:8080/",
          "height": 1000
        },
        "outputId": "15130a4c-9367-45ce-b1c4-23079341e67b"
      },
      "source": [
        "folds = KFold(n_splits = 5, shuffle = True, random_state = 100)\n",
        "hyper_params = [{'n_features_to_select': list(range(1, len(train_X.columns)+1))}]\n",
        "\n",
        "lm = RandomForestClassifier()\n",
        "lm.fit(train_X, train_y.values.ravel())\n",
        "rfe = RFE(lm)\n",
        "\n",
        "model_cv = GridSearchCV(estimator = rfe, param_grid = hyper_params, scoring= 'r2', cv = folds, verbose = 1, return_train_score=True)\n",
        "\n",
        "model_cv.fit(train_X, train_y.values.ravel())\n",
        "\n",
        "cv_results = pd.DataFrame(model_cv.cv_results_)\n",
        "cv_results"
      ],
      "execution_count": 31,
      "outputs": [
        {
          "output_type": "stream",
          "text": [
            "Fitting 5 folds for each of 19 candidates, totalling 95 fits\n"
          ],
          "name": "stdout"
        },
        {
          "output_type": "stream",
          "text": [
            "[Parallel(n_jobs=1)]: Using backend SequentialBackend with 1 concurrent workers.\n",
            "[Parallel(n_jobs=1)]: Done  95 out of  95 | elapsed: 14.2min finished\n"
          ],
          "name": "stderr"
        },
        {
          "output_type": "execute_result",
          "data": {
            "text/html": [
              "<div>\n",
              "<style scoped>\n",
              "    .dataframe tbody tr th:only-of-type {\n",
              "        vertical-align: middle;\n",
              "    }\n",
              "\n",
              "    .dataframe tbody tr th {\n",
              "        vertical-align: top;\n",
              "    }\n",
              "\n",
              "    .dataframe thead th {\n",
              "        text-align: right;\n",
              "    }\n",
              "</style>\n",
              "<table border=\"1\" class=\"dataframe\">\n",
              "  <thead>\n",
              "    <tr style=\"text-align: right;\">\n",
              "      <th></th>\n",
              "      <th>mean_fit_time</th>\n",
              "      <th>std_fit_time</th>\n",
              "      <th>mean_score_time</th>\n",
              "      <th>std_score_time</th>\n",
              "      <th>param_n_features_to_select</th>\n",
              "      <th>params</th>\n",
              "      <th>split0_test_score</th>\n",
              "      <th>split1_test_score</th>\n",
              "      <th>split2_test_score</th>\n",
              "      <th>split3_test_score</th>\n",
              "      <th>split4_test_score</th>\n",
              "      <th>mean_test_score</th>\n",
              "      <th>std_test_score</th>\n",
              "      <th>rank_test_score</th>\n",
              "      <th>split0_train_score</th>\n",
              "      <th>split1_train_score</th>\n",
              "      <th>split2_train_score</th>\n",
              "      <th>split3_train_score</th>\n",
              "      <th>split4_train_score</th>\n",
              "      <th>mean_train_score</th>\n",
              "      <th>std_train_score</th>\n",
              "    </tr>\n",
              "  </thead>\n",
              "  <tbody>\n",
              "    <tr>\n",
              "      <th>0</th>\n",
              "      <td>14.597969</td>\n",
              "      <td>0.194480</td>\n",
              "      <td>0.018858</td>\n",
              "      <td>0.000238</td>\n",
              "      <td>1</td>\n",
              "      <td>{'n_features_to_select': 1}</td>\n",
              "      <td>0.996815</td>\n",
              "      <td>0.995215</td>\n",
              "      <td>0.993625</td>\n",
              "      <td>0.995220</td>\n",
              "      <td>0.996812</td>\n",
              "      <td>0.995537</td>\n",
              "      <td>0.001193</td>\n",
              "      <td>19</td>\n",
              "      <td>1.000000</td>\n",
              "      <td>1.000000</td>\n",
              "      <td>1.0</td>\n",
              "      <td>1.0</td>\n",
              "      <td>1.0</td>\n",
              "      <td>1.00000</td>\n",
              "      <td>0.000000</td>\n",
              "    </tr>\n",
              "    <tr>\n",
              "      <th>1</th>\n",
              "      <td>14.204330</td>\n",
              "      <td>0.156297</td>\n",
              "      <td>0.019502</td>\n",
              "      <td>0.000565</td>\n",
              "      <td>2</td>\n",
              "      <td>{'n_features_to_select': 2}</td>\n",
              "      <td>1.000000</td>\n",
              "      <td>0.995215</td>\n",
              "      <td>0.998406</td>\n",
              "      <td>0.993626</td>\n",
              "      <td>0.996812</td>\n",
              "      <td>0.996812</td>\n",
              "      <td>0.002254</td>\n",
              "      <td>18</td>\n",
              "      <td>1.000000</td>\n",
              "      <td>1.000000</td>\n",
              "      <td>1.0</td>\n",
              "      <td>1.0</td>\n",
              "      <td>1.0</td>\n",
              "      <td>1.00000</td>\n",
              "      <td>0.000000</td>\n",
              "    </tr>\n",
              "    <tr>\n",
              "      <th>2</th>\n",
              "      <td>13.924907</td>\n",
              "      <td>0.194428</td>\n",
              "      <td>0.025031</td>\n",
              "      <td>0.007425</td>\n",
              "      <td>3</td>\n",
              "      <td>{'n_features_to_select': 3}</td>\n",
              "      <td>1.000000</td>\n",
              "      <td>0.996810</td>\n",
              "      <td>0.998406</td>\n",
              "      <td>0.996813</td>\n",
              "      <td>0.998406</td>\n",
              "      <td>0.998087</td>\n",
              "      <td>0.001193</td>\n",
              "      <td>1</td>\n",
              "      <td>1.000000</td>\n",
              "      <td>1.000000</td>\n",
              "      <td>1.0</td>\n",
              "      <td>1.0</td>\n",
              "      <td>1.0</td>\n",
              "      <td>1.00000</td>\n",
              "      <td>0.000000</td>\n",
              "    </tr>\n",
              "    <tr>\n",
              "      <th>3</th>\n",
              "      <td>14.063604</td>\n",
              "      <td>1.290985</td>\n",
              "      <td>0.021962</td>\n",
              "      <td>0.002703</td>\n",
              "      <td>4</td>\n",
              "      <td>{'n_features_to_select': 4}</td>\n",
              "      <td>1.000000</td>\n",
              "      <td>0.996810</td>\n",
              "      <td>0.998406</td>\n",
              "      <td>0.996813</td>\n",
              "      <td>0.998406</td>\n",
              "      <td>0.998087</td>\n",
              "      <td>0.001193</td>\n",
              "      <td>1</td>\n",
              "      <td>1.000000</td>\n",
              "      <td>1.000000</td>\n",
              "      <td>1.0</td>\n",
              "      <td>1.0</td>\n",
              "      <td>1.0</td>\n",
              "      <td>1.00000</td>\n",
              "      <td>0.000000</td>\n",
              "    </tr>\n",
              "    <tr>\n",
              "      <th>4</th>\n",
              "      <td>12.801812</td>\n",
              "      <td>0.195927</td>\n",
              "      <td>0.020390</td>\n",
              "      <td>0.000500</td>\n",
              "      <td>5</td>\n",
              "      <td>{'n_features_to_select': 5}</td>\n",
              "      <td>1.000000</td>\n",
              "      <td>0.996810</td>\n",
              "      <td>0.998406</td>\n",
              "      <td>0.996813</td>\n",
              "      <td>0.998406</td>\n",
              "      <td>0.998087</td>\n",
              "      <td>0.001193</td>\n",
              "      <td>1</td>\n",
              "      <td>1.000000</td>\n",
              "      <td>1.000000</td>\n",
              "      <td>1.0</td>\n",
              "      <td>1.0</td>\n",
              "      <td>1.0</td>\n",
              "      <td>1.00000</td>\n",
              "      <td>0.000000</td>\n",
              "    </tr>\n",
              "    <tr>\n",
              "      <th>5</th>\n",
              "      <td>12.265555</td>\n",
              "      <td>0.106391</td>\n",
              "      <td>0.021791</td>\n",
              "      <td>0.000136</td>\n",
              "      <td>6</td>\n",
              "      <td>{'n_features_to_select': 6}</td>\n",
              "      <td>1.000000</td>\n",
              "      <td>0.996810</td>\n",
              "      <td>0.998406</td>\n",
              "      <td>0.996813</td>\n",
              "      <td>0.998406</td>\n",
              "      <td>0.998087</td>\n",
              "      <td>0.001193</td>\n",
              "      <td>1</td>\n",
              "      <td>1.000000</td>\n",
              "      <td>1.000000</td>\n",
              "      <td>1.0</td>\n",
              "      <td>1.0</td>\n",
              "      <td>1.0</td>\n",
              "      <td>1.00000</td>\n",
              "      <td>0.000000</td>\n",
              "    </tr>\n",
              "    <tr>\n",
              "      <th>6</th>\n",
              "      <td>11.583232</td>\n",
              "      <td>0.105973</td>\n",
              "      <td>0.022556</td>\n",
              "      <td>0.000528</td>\n",
              "      <td>7</td>\n",
              "      <td>{'n_features_to_select': 7}</td>\n",
              "      <td>1.000000</td>\n",
              "      <td>0.996810</td>\n",
              "      <td>0.998406</td>\n",
              "      <td>0.996813</td>\n",
              "      <td>0.998406</td>\n",
              "      <td>0.998087</td>\n",
              "      <td>0.001193</td>\n",
              "      <td>1</td>\n",
              "      <td>1.000000</td>\n",
              "      <td>1.000000</td>\n",
              "      <td>1.0</td>\n",
              "      <td>1.0</td>\n",
              "      <td>1.0</td>\n",
              "      <td>1.00000</td>\n",
              "      <td>0.000000</td>\n",
              "    </tr>\n",
              "    <tr>\n",
              "      <th>7</th>\n",
              "      <td>11.056293</td>\n",
              "      <td>0.129634</td>\n",
              "      <td>0.023761</td>\n",
              "      <td>0.000543</td>\n",
              "      <td>8</td>\n",
              "      <td>{'n_features_to_select': 8}</td>\n",
              "      <td>1.000000</td>\n",
              "      <td>0.996810</td>\n",
              "      <td>0.998406</td>\n",
              "      <td>0.996813</td>\n",
              "      <td>0.998406</td>\n",
              "      <td>0.998087</td>\n",
              "      <td>0.001193</td>\n",
              "      <td>1</td>\n",
              "      <td>1.000000</td>\n",
              "      <td>1.000000</td>\n",
              "      <td>1.0</td>\n",
              "      <td>1.0</td>\n",
              "      <td>1.0</td>\n",
              "      <td>1.00000</td>\n",
              "      <td>0.000000</td>\n",
              "    </tr>\n",
              "    <tr>\n",
              "      <th>8</th>\n",
              "      <td>10.297742</td>\n",
              "      <td>0.148205</td>\n",
              "      <td>0.021704</td>\n",
              "      <td>0.000679</td>\n",
              "      <td>9</td>\n",
              "      <td>{'n_features_to_select': 9}</td>\n",
              "      <td>1.000000</td>\n",
              "      <td>0.996810</td>\n",
              "      <td>0.998406</td>\n",
              "      <td>0.996813</td>\n",
              "      <td>0.998406</td>\n",
              "      <td>0.998087</td>\n",
              "      <td>0.001193</td>\n",
              "      <td>1</td>\n",
              "      <td>1.000000</td>\n",
              "      <td>1.000000</td>\n",
              "      <td>1.0</td>\n",
              "      <td>1.0</td>\n",
              "      <td>1.0</td>\n",
              "      <td>1.00000</td>\n",
              "      <td>0.000000</td>\n",
              "    </tr>\n",
              "    <tr>\n",
              "      <th>9</th>\n",
              "      <td>9.506326</td>\n",
              "      <td>0.168674</td>\n",
              "      <td>0.023957</td>\n",
              "      <td>0.001412</td>\n",
              "      <td>10</td>\n",
              "      <td>{'n_features_to_select': 10}</td>\n",
              "      <td>1.000000</td>\n",
              "      <td>0.996810</td>\n",
              "      <td>0.998406</td>\n",
              "      <td>0.996813</td>\n",
              "      <td>0.998406</td>\n",
              "      <td>0.998087</td>\n",
              "      <td>0.001193</td>\n",
              "      <td>1</td>\n",
              "      <td>1.000000</td>\n",
              "      <td>1.000000</td>\n",
              "      <td>1.0</td>\n",
              "      <td>1.0</td>\n",
              "      <td>1.0</td>\n",
              "      <td>1.00000</td>\n",
              "      <td>0.000000</td>\n",
              "    </tr>\n",
              "    <tr>\n",
              "      <th>10</th>\n",
              "      <td>8.573517</td>\n",
              "      <td>0.155492</td>\n",
              "      <td>0.023435</td>\n",
              "      <td>0.000727</td>\n",
              "      <td>11</td>\n",
              "      <td>{'n_features_to_select': 11}</td>\n",
              "      <td>1.000000</td>\n",
              "      <td>0.996810</td>\n",
              "      <td>0.998406</td>\n",
              "      <td>0.996813</td>\n",
              "      <td>0.998406</td>\n",
              "      <td>0.998087</td>\n",
              "      <td>0.001193</td>\n",
              "      <td>1</td>\n",
              "      <td>1.000000</td>\n",
              "      <td>1.000000</td>\n",
              "      <td>1.0</td>\n",
              "      <td>1.0</td>\n",
              "      <td>1.0</td>\n",
              "      <td>1.00000</td>\n",
              "      <td>0.000000</td>\n",
              "    </tr>\n",
              "    <tr>\n",
              "      <th>11</th>\n",
              "      <td>7.692228</td>\n",
              "      <td>0.075027</td>\n",
              "      <td>0.024435</td>\n",
              "      <td>0.000439</td>\n",
              "      <td>12</td>\n",
              "      <td>{'n_features_to_select': 12}</td>\n",
              "      <td>1.000000</td>\n",
              "      <td>0.996810</td>\n",
              "      <td>0.998406</td>\n",
              "      <td>0.996813</td>\n",
              "      <td>0.998406</td>\n",
              "      <td>0.998087</td>\n",
              "      <td>0.001193</td>\n",
              "      <td>1</td>\n",
              "      <td>1.000000</td>\n",
              "      <td>0.999602</td>\n",
              "      <td>1.0</td>\n",
              "      <td>1.0</td>\n",
              "      <td>1.0</td>\n",
              "      <td>0.99992</td>\n",
              "      <td>0.000159</td>\n",
              "    </tr>\n",
              "    <tr>\n",
              "      <th>12</th>\n",
              "      <td>6.828266</td>\n",
              "      <td>0.109355</td>\n",
              "      <td>0.024515</td>\n",
              "      <td>0.000342</td>\n",
              "      <td>13</td>\n",
              "      <td>{'n_features_to_select': 13}</td>\n",
              "      <td>1.000000</td>\n",
              "      <td>0.996810</td>\n",
              "      <td>0.998406</td>\n",
              "      <td>0.996813</td>\n",
              "      <td>0.998406</td>\n",
              "      <td>0.998087</td>\n",
              "      <td>0.001193</td>\n",
              "      <td>1</td>\n",
              "      <td>1.000000</td>\n",
              "      <td>1.000000</td>\n",
              "      <td>1.0</td>\n",
              "      <td>1.0</td>\n",
              "      <td>1.0</td>\n",
              "      <td>1.00000</td>\n",
              "      <td>0.000000</td>\n",
              "    </tr>\n",
              "    <tr>\n",
              "      <th>13</th>\n",
              "      <td>5.813581</td>\n",
              "      <td>0.106920</td>\n",
              "      <td>0.026327</td>\n",
              "      <td>0.001298</td>\n",
              "      <td>14</td>\n",
              "      <td>{'n_features_to_select': 14}</td>\n",
              "      <td>1.000000</td>\n",
              "      <td>0.996810</td>\n",
              "      <td>0.998406</td>\n",
              "      <td>0.996813</td>\n",
              "      <td>0.995218</td>\n",
              "      <td>0.997450</td>\n",
              "      <td>0.001626</td>\n",
              "      <td>17</td>\n",
              "      <td>1.000000</td>\n",
              "      <td>0.999602</td>\n",
              "      <td>1.0</td>\n",
              "      <td>1.0</td>\n",
              "      <td>1.0</td>\n",
              "      <td>0.99992</td>\n",
              "      <td>0.000159</td>\n",
              "    </tr>\n",
              "    <tr>\n",
              "      <th>14</th>\n",
              "      <td>4.917895</td>\n",
              "      <td>0.055682</td>\n",
              "      <td>0.025765</td>\n",
              "      <td>0.000368</td>\n",
              "      <td>15</td>\n",
              "      <td>{'n_features_to_select': 15}</td>\n",
              "      <td>1.000000</td>\n",
              "      <td>0.996810</td>\n",
              "      <td>0.998406</td>\n",
              "      <td>0.996813</td>\n",
              "      <td>0.998406</td>\n",
              "      <td>0.998087</td>\n",
              "      <td>0.001193</td>\n",
              "      <td>1</td>\n",
              "      <td>1.000000</td>\n",
              "      <td>1.000000</td>\n",
              "      <td>1.0</td>\n",
              "      <td>1.0</td>\n",
              "      <td>1.0</td>\n",
              "      <td>1.00000</td>\n",
              "      <td>0.000000</td>\n",
              "    </tr>\n",
              "    <tr>\n",
              "      <th>15</th>\n",
              "      <td>3.969000</td>\n",
              "      <td>0.034909</td>\n",
              "      <td>0.024540</td>\n",
              "      <td>0.000727</td>\n",
              "      <td>16</td>\n",
              "      <td>{'n_features_to_select': 16}</td>\n",
              "      <td>1.000000</td>\n",
              "      <td>0.996810</td>\n",
              "      <td>0.998406</td>\n",
              "      <td>0.996813</td>\n",
              "      <td>0.998406</td>\n",
              "      <td>0.998087</td>\n",
              "      <td>0.001193</td>\n",
              "      <td>1</td>\n",
              "      <td>1.000000</td>\n",
              "      <td>1.000000</td>\n",
              "      <td>1.0</td>\n",
              "      <td>1.0</td>\n",
              "      <td>1.0</td>\n",
              "      <td>1.00000</td>\n",
              "      <td>0.000000</td>\n",
              "    </tr>\n",
              "    <tr>\n",
              "      <th>16</th>\n",
              "      <td>3.575194</td>\n",
              "      <td>0.607500</td>\n",
              "      <td>0.030302</td>\n",
              "      <td>0.006228</td>\n",
              "      <td>17</td>\n",
              "      <td>{'n_features_to_select': 17}</td>\n",
              "      <td>1.000000</td>\n",
              "      <td>0.996810</td>\n",
              "      <td>0.998406</td>\n",
              "      <td>0.996813</td>\n",
              "      <td>0.998406</td>\n",
              "      <td>0.998087</td>\n",
              "      <td>0.001193</td>\n",
              "      <td>1</td>\n",
              "      <td>0.999602</td>\n",
              "      <td>1.000000</td>\n",
              "      <td>1.0</td>\n",
              "      <td>1.0</td>\n",
              "      <td>1.0</td>\n",
              "      <td>0.99992</td>\n",
              "      <td>0.000159</td>\n",
              "    </tr>\n",
              "    <tr>\n",
              "      <th>17</th>\n",
              "      <td>1.944345</td>\n",
              "      <td>0.039276</td>\n",
              "      <td>0.024719</td>\n",
              "      <td>0.000683</td>\n",
              "      <td>18</td>\n",
              "      <td>{'n_features_to_select': 18}</td>\n",
              "      <td>1.000000</td>\n",
              "      <td>0.996810</td>\n",
              "      <td>0.998406</td>\n",
              "      <td>0.996813</td>\n",
              "      <td>0.998406</td>\n",
              "      <td>0.998087</td>\n",
              "      <td>0.001193</td>\n",
              "      <td>1</td>\n",
              "      <td>1.000000</td>\n",
              "      <td>1.000000</td>\n",
              "      <td>1.0</td>\n",
              "      <td>1.0</td>\n",
              "      <td>1.0</td>\n",
              "      <td>1.00000</td>\n",
              "      <td>0.000000</td>\n",
              "    </tr>\n",
              "    <tr>\n",
              "      <th>18</th>\n",
              "      <td>0.993692</td>\n",
              "      <td>0.014832</td>\n",
              "      <td>0.026825</td>\n",
              "      <td>0.002017</td>\n",
              "      <td>19</td>\n",
              "      <td>{'n_features_to_select': 19}</td>\n",
              "      <td>1.000000</td>\n",
              "      <td>0.996810</td>\n",
              "      <td>0.998406</td>\n",
              "      <td>0.996813</td>\n",
              "      <td>0.998406</td>\n",
              "      <td>0.998087</td>\n",
              "      <td>0.001193</td>\n",
              "      <td>1</td>\n",
              "      <td>1.000000</td>\n",
              "      <td>1.000000</td>\n",
              "      <td>1.0</td>\n",
              "      <td>1.0</td>\n",
              "      <td>1.0</td>\n",
              "      <td>1.00000</td>\n",
              "      <td>0.000000</td>\n",
              "    </tr>\n",
              "  </tbody>\n",
              "</table>\n",
              "</div>"
            ],
            "text/plain": [
              "    mean_fit_time  std_fit_time  ...  mean_train_score  std_train_score\n",
              "0       14.597969      0.194480  ...           1.00000         0.000000\n",
              "1       14.204330      0.156297  ...           1.00000         0.000000\n",
              "2       13.924907      0.194428  ...           1.00000         0.000000\n",
              "3       14.063604      1.290985  ...           1.00000         0.000000\n",
              "4       12.801812      0.195927  ...           1.00000         0.000000\n",
              "5       12.265555      0.106391  ...           1.00000         0.000000\n",
              "6       11.583232      0.105973  ...           1.00000         0.000000\n",
              "7       11.056293      0.129634  ...           1.00000         0.000000\n",
              "8       10.297742      0.148205  ...           1.00000         0.000000\n",
              "9        9.506326      0.168674  ...           1.00000         0.000000\n",
              "10       8.573517      0.155492  ...           1.00000         0.000000\n",
              "11       7.692228      0.075027  ...           0.99992         0.000159\n",
              "12       6.828266      0.109355  ...           1.00000         0.000000\n",
              "13       5.813581      0.106920  ...           0.99992         0.000159\n",
              "14       4.917895      0.055682  ...           1.00000         0.000000\n",
              "15       3.969000      0.034909  ...           1.00000         0.000000\n",
              "16       3.575194      0.607500  ...           0.99992         0.000159\n",
              "17       1.944345      0.039276  ...           1.00000         0.000000\n",
              "18       0.993692      0.014832  ...           1.00000         0.000000\n",
              "\n",
              "[19 rows x 21 columns]"
            ]
          },
          "metadata": {
            "tags": []
          },
          "execution_count": 31
        }
      ]
    },
    {
      "cell_type": "code",
      "metadata": {
        "id": "z8O_CG-L041g",
        "colab": {
          "base_uri": "https://localhost:8080/",
          "height": 421
        },
        "outputId": "0103b659-5cab-479b-c742-39c75a8c5c02"
      },
      "source": [
        "plt.figure(figsize=(16,6))\n",
        "plt.plot(cv_results[\"param_n_features_to_select\"], cv_results[\"mean_test_score\"])\n",
        "plt.plot(cv_results[\"param_n_features_to_select\"], cv_results[\"mean_train_score\"])\n",
        "plt.xlabel('number of features')\n",
        "plt.ylabel('r-squared')\n",
        "plt.title(\"Optimal Number of Features\")\n",
        "plt.legend(['test score', 'train score'], loc='upper left')"
      ],
      "execution_count": 32,
      "outputs": [
        {
          "output_type": "execute_result",
          "data": {
            "text/plain": [
              "<matplotlib.legend.Legend at 0x7f3a42945f60>"
            ]
          },
          "metadata": {
            "tags": []
          },
          "execution_count": 32
        },
        {
          "output_type": "display_data",
          "data": {
            "image/png": "[encoded data removed]",
            "text/plain": [
              "<Figure size 1152x432 with 1 Axes>"
            ]
          },
          "metadata": {
            "tags": [],
            "needs_background": "light"
          }
        }
      ]
    },
    {
      "cell_type": "markdown",
      "metadata": {
        "id": "aV_LZFRvJyiJ"
      },
      "source": [
        "Compute the features importance using cross validation"
      ]
    },
    {
      "cell_type": "code",
      "metadata": {
        "colab": {
          "base_uri": "https://localhost:8080/"
        },
        "id": "01Za1jFGCwR-",
        "outputId": "f1a43d81-b389-47d3-9cc0-1bcb6e36ead3"
      },
      "source": [
        "clf = RandomForestClassifier(n_estimators = 10, random_state = 42, class_weight=\"balanced\")\n",
        "output = cross_validate(clf, train_X, train_y.values.ravel(), cv = 2, scoring = 'accuracy', return_estimator =True)\n",
        "\n",
        "for idx,estimator in enumerate(output['estimator']):\n",
        "    print(\"Features sorted by their score for estimator {}:\".format(idx))\n",
        "    feature_importances = pd.DataFrame(estimator.feature_importances_, \n",
        "                                       index = train_X.columns,\n",
        "                                       columns=['importance']).sort_values('importance', ascending=False)\n",
        "    print(feature_importances)"
      ],
      "execution_count": 33,
      "outputs": [
        {
          "output_type": "stream",
          "text": [
            "Features sorted by their score for estimator 0:\n",
            "                          importance\n",
            "Client ID                   0.650173\n",
            "Type                        0.196798\n",
            "Date Hour and Minute        0.031856\n",
            "Total Number of Sessions    0.027445\n",
            "Days Since Last Session     0.019358\n",
            "Unique Pageviews            0.014807\n",
            "Session Index               0.014097\n",
            "Hit Time                    0.013805\n",
            "Session Duration            0.007108\n",
            "Hit Index                   0.007044\n",
            "Unnamed: 0                  0.005254\n",
            "Product Detail Views        0.004645\n",
            "Search Result Page Hits     0.003781\n",
            "Results Pageviews           0.001489\n",
            "Search Depth                0.000928\n",
            "Search Refinements          0.000798\n",
            "Total Unique Searches       0.000363\n",
            "Transactions                0.000253\n",
            "Revenue                     0.000000\n",
            "Features sorted by their score for estimator 1:\n",
            "                          importance\n",
            "Client ID                   0.660949\n",
            "Type                        0.210207\n",
            "Date Hour and Minute        0.042636\n",
            "Days Since Last Session     0.019027\n",
            "Total Number of Sessions    0.012899\n",
            "Session Index               0.009577\n",
            "Session Duration            0.009466\n",
            "Hit Time                    0.008137\n",
            "Unique Pageviews            0.007428\n",
            "Hit Index                   0.006927\n",
            "Unnamed: 0                  0.004477\n",
            "Product Detail Views        0.002407\n",
            "Transactions                0.001508\n",
            "Results Pageviews           0.001359\n",
            "Search Depth                0.001009\n",
            "Search Result Page Hits     0.000776\n",
            "Total Unique Searches       0.000750\n",
            "Revenue                     0.000429\n",
            "Search Refinements          0.000032\n"
          ],
          "name": "stdout"
        }
      ]
    },
    {
      "cell_type": "markdown",
      "metadata": {
        "id": "9DvPD_Yj_JC9"
      },
      "source": [
        "Remove some of the features that do not bring any information to the model"
      ]
    },
    {
      "cell_type": "code",
      "metadata": {
        "id": "hwAIXxHcMcF6"
      },
      "source": [
        "train_X = train_X.drop(columns=['Revenue', 'Transactions', 'Search Refinements', 'Search Depth', 'Results Pageviews', 'Total Unique Searches', 'Product Detail Views'])\n",
        "valid_X = valid_X.drop(columns=['Revenue', 'Transactions', 'Search Refinements', 'Search Depth', 'Results Pageviews', 'Total Unique Searches', 'Product Detail Views'])\n",
        "test_X = test_X.drop(columns=['Revenue', 'Transactions', 'Search Refinements', 'Search Depth', 'Results Pageviews', 'Total Unique Searches', 'Product Detail Views'], axis=1)"
      ],
      "execution_count": 34,
      "outputs": []
    },
    {
      "cell_type": "code",
      "metadata": {
        "id": "WGgw_ble3__L"
      },
      "source": [
        "def plot_confusion_matrix(y_valid, predictions):\n",
        "    df_cm = confusion_matrix(y_valid, predictions)\n",
        "    print(df_cm)\n",
        "    df_cm = df_cm / df_cm.astype(np.float).sum(axis=1).sum()\n",
        "    sb.heatmap(df_cm, annot=True)"
      ],
      "execution_count": 35,
      "outputs": []
    },
    {
      "cell_type": "markdown",
      "metadata": {
        "id": "mcP511Ni3__K"
      },
      "source": [
        "Try logistic Regression"
      ]
    },
    {
      "cell_type": "code",
      "metadata": {
        "colab": {
          "base_uri": "https://localhost:8080/",
          "height": 389
        },
        "id": "yT71KWn13__K",
        "outputId": "85b09d2a-8f34-4d0d-9826-df07ee3d2066"
      },
      "source": [
        "clf = LogisticRegression(C=0.1)\n",
        "clf.fit(train_X, train_y)\n",
        "predictions = clf.predict(valid_X)\n",
        "\n",
        "print (\"accuracy_score: %0.3f \" % accuracy_score(valid_y, predictions))\n",
        "print (\"log loss: %0.3f \" % log_loss(valid_y, predictions))\n",
        "plot_confusion_matrix(valid_y, predictions)"
      ],
      "execution_count": 36,
      "outputs": [
        {
          "output_type": "stream",
          "text": [
            "accuracy_score: 0.974 \n",
            "log loss: 0.901 \n",
            "[[1984   55]\n",
            " [  18  741]]\n"
          ],
          "name": "stdout"
        },
        {
          "output_type": "stream",
          "text": [
            "/usr/local/lib/python3.6/dist-packages/sklearn/utils/validation.py:760: DataConversionWarning: A column-vector y was passed when a 1d array was expected. Please change the shape of y to (n_samples, ), for example using ravel().\n",
            "  y = column_or_1d(y, warn=True)\n"
          ],
          "name": "stderr"
        },
        {
          "output_type": "display_data",
          "data": {
            "image/png": "[encoded data removed]",
            "text/plain": [
              "<Figure size 432x288 with 2 Axes>"
            ]
          },
          "metadata": {
            "tags": [],
            "needs_background": "light"
          }
        }
      ]
    },
    {
      "cell_type": "markdown",
      "metadata": {
        "id": "VhmVeKqc3__L"
      },
      "source": [
        "Tune Logistic regression parameters with GridSearch"
      ]
    },
    {
      "cell_type": "code",
      "metadata": {
        "id": "XFMXhSwR3__L",
        "scrolled": true,
        "colab": {
          "base_uri": "https://localhost:8080/",
          "height": 472
        },
        "outputId": "60cad972-6ac7-496a-d390-a9212a284eb7"
      },
      "source": [
        "lr_model = LogisticRegression()\n",
        "\n",
        "param_grid = {\n",
        "    'C': [0.1, 1.0, 10],\n",
        "    'penalty': ['l2'],  # 'elasticnet', 'none', 'l1'\n",
        "    'solver': ['lbfgs']  # 'newton-cg', 'liblinear', 'sag', 'saga\n",
        "}\n",
        "\n",
        "model = GridSearchCV(lr_model, param_grid, return_train_score=True, cv=20, n_jobs=-1)\n",
        "\n",
        "# Fit Grid Search Model\n",
        "model.fit(train_X, train_y)\n",
        "print(\"Best score: %0.3f\" % model.best_score_)\n",
        "print(\"Best parameters set:\")\n",
        "\n",
        "best_parameters = model.best_estimator_.get_params()\n",
        "for param_name in sorted(param_grid.keys()):\n",
        "    print(\"\\t%s: %r\" % (param_name, best_parameters[param_name]))\n",
        "\n",
        "predictions = model.predict(valid_X)\n",
        "\n",
        "print (\"accuracy_score: %0.3f \" % accuracy_score(valid_y, predictions))\n",
        "print (\"log loss: %0.3f \" % log_loss(valid_y, predictions))\n",
        "\n",
        "# Best parameters set:\n",
        "# \tC: 10\n",
        "# \tpenalty: 'l2'\n",
        "# \tsolver: 'lbfgs'\n",
        "\n",
        "plot_confusion_matrix(valid_y, predictions)\n"
      ],
      "execution_count": 37,
      "outputs": [
        {
          "output_type": "stream",
          "text": [
            "/usr/local/lib/python3.6/dist-packages/sklearn/utils/validation.py:760: DataConversionWarning: A column-vector y was passed when a 1d array was expected. Please change the shape of y to (n_samples, ), for example using ravel().\n",
            "  y = column_or_1d(y, warn=True)\n"
          ],
          "name": "stderr"
        },
        {
          "output_type": "stream",
          "text": [
            "Best score: 0.990\n",
            "Best parameters set:\n",
            "\tC: 10\n",
            "\tpenalty: 'l2'\n",
            "\tsolver: 'lbfgs'\n",
            "accuracy_score: 0.990 \n",
            "log loss: 0.333 \n",
            "[[2019   20]\n",
            " [   7  752]]\n"
          ],
          "name": "stdout"
        },
        {
          "output_type": "display_data",
          "data": {
            "image/png": "[encoded data removed]",
            "text/plain": [
              "<Figure size 432x288 with 2 Axes>"
            ]
          },
          "metadata": {
            "tags": [],
            "needs_background": "light"
          }
        }
      ]
    },
    {
      "cell_type": "markdown",
      "metadata": {
        "id": "pPZQyAtbMfF4"
      },
      "source": [
        "Logistic regression with tuned params"
      ]
    },
    {
      "cell_type": "code",
      "metadata": {
        "colab": {
          "base_uri": "https://localhost:8080/",
          "height": 387
        },
        "id": "izXQ2pD63__L",
        "outputId": "6ab8f3f4-ec24-4046-9d3f-7f40e8bfe1ad"
      },
      "source": [
        "model = LogisticRegression(C=10, penalty='l2', solver='lbfgs')\n",
        "\n",
        "model.fit(train_X, train_y)\n",
        "predictions = model.predict(valid_X)\n",
        "\n",
        "print (\"accuracy_score: %0.3f \" % accuracy_score(valid_y, predictions))\n",
        "print (\"log loss: %0.3f \" % log_loss(valid_y, predictions))\n",
        "\n",
        "plot_confusion_matrix(valid_y, predictions)"
      ],
      "execution_count": 38,
      "outputs": [
        {
          "output_type": "stream",
          "text": [
            "/usr/local/lib/python3.6/dist-packages/sklearn/utils/validation.py:760: DataConversionWarning: A column-vector y was passed when a 1d array was expected. Please change the shape of y to (n_samples, ), for example using ravel().\n",
            "  y = column_or_1d(y, warn=True)\n"
          ],
          "name": "stderr"
        },
        {
          "output_type": "stream",
          "text": [
            "accuracy_score: 0.990 \n",
            "log loss: 0.333 \n",
            "[[2019   20]\n",
            " [   7  752]]\n"
          ],
          "name": "stdout"
        },
        {
          "output_type": "display_data",
          "data": {
            "image/png": "[encoded data removed]",
            "text/plain": [
              "<Figure size 432x288 with 2 Axes>"
            ]
          },
          "metadata": {
            "tags": [],
            "needs_background": "light"
          }
        }
      ]
    },
    {
      "cell_type": "markdown",
      "metadata": {
        "id": "noasUxSsNacU"
      },
      "source": [
        "Predict the segment for the test value"
      ]
    },
    {
      "cell_type": "code",
      "metadata": {
        "colab": {
          "base_uri": "https://localhost:8080/"
        },
        "id": "u4aJJZesOxz1",
        "outputId": "f29d420d-2f81-4b7e-d140-605cd6ebf35c"
      },
      "source": [
        "predictions = model.predict_proba(test_X)\n",
        "predictions = [i[1] for i in predictions]\n",
        "print(predictions)\n"
      ],
      "execution_count": 39,
      "outputs": [
        {
          "output_type": "stream",
          "text": [
            "[0.9966777076507453, 6.6520997589476e-11, 0.037066914147819284, 4.266374579488101e-11, 0.18468497696748182, 0.9990272069299754, 1.3645237202530962e-05, 0.9999999999996863, 1.4028213428918414e-10, 0.9999999956448951, 0.9999999999070259, 2.2686857759776352e-08, 9.697322456647814e-14, 1.978109597167343e-12, 0.9996676930218649, 1.553364432227157e-09, 0.9930327740333539, 0.9999268027835635, 0.9999999999216693, 0.9999999999674374, 9.08439378742472e-12, 0.999952812550735, 4.334992159120735e-07, 0.00044014101795155416, 0.9999993581504661, 1.3836228338983426e-14, 0.9999999999948206, 0.9999975385549686, 2.649138605373201e-05, 0.9999999995041384, 0.035570610919896106, 0.9999999996791962, 0.9999999994187994, 0.021397952850672856, 0.9980565995057614, 0.5730351158576485, 0.9999987638968232, 3.3046434497227e-11, 0.9999828191609663, 5.014403013002396e-16, 0.949816054610727, 0.9999959290067227, 0.00458005207043006, 0.5916005707823462, 0.9999940390544635, 0.9999949192797504, 6.738210302202548e-07, 0.999941805783461, 0.999999999804194, 0.026577279455067743, 0.9999999945964972, 0.9999999999817211, 1.0754948453257315e-10, 6.411806087744268e-07, 0.9999999997945208, 0.999999999975294, 0.9999996786558205, 4.010387777098455e-06, 3.929218589818904e-08, 0.042470690036090414, 2.774866080556148e-08, 0.999999999987075, 0.9995801796549773, 0.4055285212480805, 0.9999999902264435, 5.8562391296458845e-06, 8.082492991969053e-10, 0.4530446050561157, 1.3935901457541339e-15, 0.9999999999872606, 0.9999999997136526, 2.7625049301926474e-16, 0.9999999999909228, 0.9996474331161591, 0.9999922004868222, 0.0008217451547631599, 0.9999966263744431, 1.270735139840183e-06, 1.278973690210129e-08, 1.660406291737275e-13, 1.4048108219886267e-15, 0.10266331204617492, 0.9999999999444198, 0.9999999979496856, 0.9992346169455905, 1.2673113687895405e-10, 0.4772808213581908, 0.9964602740876193, 1.2643044600258346e-05, 0.00016275468074520807, 0.9999999999942677, 0.9999999984836929, 8.598671072626596e-14, 0.9999999999882163, 2.3337100441997052e-11, 0.9999999999990428, 5.09986453977461e-06, 0.9999999976818184, 0.9999963648366231, 0.9999990392095138, 6.413072185064322e-15, 0.9999999994150572, 9.013435487143652e-13, 0.9999866016304907, 0.9999999989708059, 0.99999973725922, 0.00039659922480485916, 2.945546115000024e-11, 4.347810730073332e-05, 1.2766664382693876e-10, 1.8044837139225966e-07, 1.9729039177798325e-05, 0.9999999996452809, 7.89811375802623e-10, 0.9999999999996922, 0.9999392354636226, 0.9997709472427879, 3.0012074885021002e-05, 0.9999991084894676, 0.9999999978712353, 0.9878116694194834, 2.1062908177281114e-15, 6.519040555453352e-06, 8.060193203195097e-13, 0.0035388991291775054, 3.1104068847404074e-07, 1.0699775130785456e-13, 0.9999999987006447, 2.2480082106488795e-15, 0.9999999988058259, 0.004415350318382829, 0.9999988855433853, 1.2948225397041652e-07, 7.816887073604759e-16, 0.9999999379152623, 1.449112991183308e-09, 2.4862364979924376e-12, 0.999999999868731, 0.9999999341123521, 0.9999845162933365, 2.1782802015318767e-12, 0.999999999999752, 1.290615194225655e-16, 0.999984787428016, 0.9732358376060283, 0.9999999939277593, 0.9999999783124531, 0.9999834090473176, 1.1754478704743676e-05, 0.999999999653181, 0.9999999976826521, 0.9999999997942552, 0.9918081431182475, 2.851177799287496e-14, 2.429590317604608e-10, 7.941250802657099e-07, 0.9999999990952673, 2.886429357087696e-14, 2.0547998727660163e-14, 0.04662424638735133, 0.9999999871665511, 4.969612570904822e-09, 6.82281430932859e-05, 6.208912982258477e-07, 0.9999999995548527, 0.9999845577283497, 0.9999999991839346, 2.263528398286018e-09, 1.4659394851028084e-12, 2.2583531020275e-14, 0.9999999991018866, 0.9999837176572357, 0.7722580481834125, 0.9999999992645496, 0.9914299874810534, 2.406161532766183e-07, 0.999697635579745, 3.0543725540743505e-09, 1.3286529672295177e-10, 0.9999999999997136, 3.136687049441987e-10, 0.00032300228325559, 0.9999999970916347, 0.999999999953832, 0.9999858145212704, 0.9999641828747496, 0.9546360785601911, 0.0015585655334348176, 0.9999990929667337, 0.9999969822533118, 2.9889065855012465e-06, 0.9908873507795358, 0.9999999996350006, 0.9999965853258905, 0.9999999913586842, 0.9999999999712696, 0.48899088820412634, 0.9999996712910068, 1.0983107653114893e-13, 0.9999991878851445, 0.9999991904691198, 0.999999702381497, 0.9999999999020301, 0.9999999905701714, 0.9999999997773172, 0.9999999999702163, 0.999999999999887, 0.2900272978721985, 0.9999999999216183, 0.9999999999860363, 0.9999999997861424, 0.9999990286730494, 0.9831617639452506, 0.9993257481726724, 4.6071481389690004e-12, 0.9993033641276067, 0.9999974094500604, 7.5920131849294e-12, 6.0573614711260195e-09, 0.9990143791668107, 0.9999997330690733, 1.907949614704558e-05, 8.688093030725506e-13, 0.9917166583879552, 0.0003481560167670037, 1.796902009121134e-08, 0.999999999997893, 0.9986081506705162, 8.126655660203823e-11, 0.9992459098933046, 0.9999988472365023, 0.9999999999439968, 2.1362763662067016e-10, 1.611891822213909e-06, 7.468793871171238e-13, 1.5067368742226937e-06, 0.999999999985917, 2.3730920300758992e-12, 0.9999987102229804, 5.634525927576889e-05, 3.513118581109665e-10, 0.9999999968871571, 0.9999817376719735, 0.9919557948946257, 0.9950964545259571, 0.9999986100703843, 0.9999999996097215, 0.9999998711373768, 7.731821594459345e-10, 9.874222854632445e-10, 0.9987097934125905, 1.407565866693474e-09, 7.980665696060681e-13, 0.9999994864652485, 0.999999987199034, 9.95764788432102e-08, 0.9999997577354188, 0.999999999999363, 0.00847272804890632, 6.894880007722145e-10, 2.570367277068363e-05, 0.5867672583816962, 1.5227574371252655e-09, 0.9999999999735047, 5.155435579576894e-09, 0.9998507717845271, 0.9999999771045353, 0.024489335828194903, 0.9999999999998719, 3.4159413695731515e-07, 0.04533037812248901, 7.854825885276249e-09, 7.921358383311118e-10, 0.9999981496895052, 0.9999999999999987, 6.910716946729786e-05, 4.8008766478254715e-12, 4.198431220620204e-07, 0.9999999999329949, 0.0058261288388005246, 0.00728495441923322, 0.9999999910470488, 0.9999999999919231, 0.9998773710907578, 0.27995204238859234, 3.5954695766902934e-08, 0.9999796623107198, 8.637292318112077e-13, 0.9999999999999538, 0.9201947925321853, 0.989370618063725, 0.999999999997575, 5.398375115771867e-10, 4.496257520556132e-09, 0.037223414461685984, 0.9996414681350464, 0.9999999999338967, 0.9999994465324421, 0.9999999999949489, 0.013375071089703674, 0.9999999999999634, 0.9999999387977794, 3.587071302219347e-08, 1.6112201888825136e-07, 0.9999999811320374, 9.771636639700801e-06, 0.9999999999998803, 0.9999999686554527, 0.9999999991749755, 0.9972652140966396, 0.9913146494372979, 0.999994857608098, 0.8637758419930438, 0.9999999999740694, 0.9999056422551125, 2.3428584519377708e-11, 1.6776279512440722e-11, 0.9999999936815605, 0.9999989964744608, 2.6578308891433368e-15, 0.9999999999610225, 1.9459929201276043e-15, 2.710831063352708e-13, 0.9999999999630389, 0.9999999999858491, 6.51240784294687e-10, 0.9999996541041241, 7.031540547689766e-12, 0.999999999941718, 1.7427728358976645e-05, 0.9999999999307014, 0.9999999999995033, 0.9999999954807297, 0.9999701438979751, 0.9999552059007354, 6.753540953462041e-08, 9.995700855574847e-11, 0.22220690695306963, 0.9999996716311309, 0.9048955511869645, 0.013058703496966235, 1.727508166693178e-13, 1.3153654648577525e-14, 0.9999993015997987, 0.0017587437243746153, 1.929462825419542e-13, 0.9999999834038324, 2.8378421331487136e-06, 0.9999999001851647, 0.9999999999972389, 8.078916277194222e-08, 0.00012507228263277422, 0.9999999999970497, 0.999999999288453, 1.7425259459500509e-09, 1.6463868278618072e-12, 1.1951697380563192e-11, 0.356003043015318, 8.082209337808786e-15, 3.8766127495593977e-07, 0.9407307128844998, 0.999999496410086, 0.999999999999714, 9.154221023978427e-12, 3.0869632421942846e-12, 2.9493979319192947e-07, 0.999999999999668, 5.209714936166277e-05, 0.6489420566933329, 1.636696060604557e-11, 0.9999162184041182, 0.959686593346412, 0.9999999999997942, 0.13294372119870285, 0.9999348173373137, 7.861878875815663e-16, 0.9999624665709695, 0.9999453632256439, 0.9923935171396367, 0.9999999996823126, 4.237752522567063e-06, 0.999999999999674, 0.9999999999956535, 0.999999967409313, 5.567095147571798e-10, 0.9999998809630981, 0.9999936109969245, 7.862159980470451e-11, 0.9999999853893462, 0.9999999957065717, 0.9443966214960149, 0.9999999999985347, 1.2920582421727905e-06, 1.0359334937817557e-06, 0.9994736012043502, 1.9700749429652877e-17, 0.999999999080226, 0.03241473612429218, 0.9999766823468098, 0.9999999996058342, 1.6118041160911373e-07, 0.004307845764608, 6.30998644596295e-11, 0.9995991284782444, 0.9999999999895919, 0.9999745172951713, 5.148493696468268e-10, 0.9999962789876655, 0.9879035448205001, 0.9999999604218746, 0.9999998444188165, 8.242224915087985e-08, 0.9999999999508744, 1.5137539903146802e-07, 0.999999999999224, 0.9999999998051057, 0.9999989090547088, 0.9999999999999487, 0.9999999999667164, 0.9999999999998714, 4.964483824592438e-06, 0.0014119328172009064, 0.9999617159756835, 0.9999999941882891, 3.2097161142919775e-13, 0.1284731443802487, 0.9919720451660685, 0.9972947422614008, 0.0024094195273369587, 0.9999999998271942, 1.4150902711700612e-13, 0.995200715762342, 0.9999997920815439, 0.9999999999637323, 0.9996872451266308, 0.4002721423284182, 4.482431790267655e-10, 0.9999999999831015, 0.9999849477727027, 0.9999999988340653, 2.978447779222097e-08, 0.9999988012843167, 9.326666868279694e-05, 0.9999952394446017, 0.9999999997893545, 0.9999964575349216, 3.248833450055936e-11, 2.6870529996006177e-05, 0.999999999981763, 0.9998141982571515, 0.9909533567907921, 0.000972308990619695, 1.0132877846793042e-09, 0.9999999999970026, 0.9999706321743429, 7.2434370352572115e-09, 0.9999999951953054, 4.9816713091415396e-05, 0.9999539270564202, 0.9999999617481209, 8.242777746490576e-16, 0.00027751715561349834, 0.1695603712955246, 0.9998900909233516, 1.8108949169181183e-11, 0.9999999936932209, 2.8362073865222285e-05, 0.9999999925374249, 0.999999986089924, 1.4784158946752531e-12, 0.006210070588668842, 1.6656447202092309e-15, 1.7186483985284336e-07, 0.9999969314828132, 0.9999721913656323, 0.999999996395539, 0.9840088752877438, 0.9999999998953815, 0.9998300721443601, 0.9999798932974259, 0.999999999999416, 0.9983934978506459, 0.9999975587732123, 0.9999999996765403, 2.487257105692825e-07, 1.9591728073804305e-09, 3.4197775038959975e-09, 0.00014288191805012477, 0.9999999998475617, 0.9999999999997726, 0.00023565919780419808, 0.9999999514865611, 0.9999999998069473, 0.9999999947210998, 1.6805080076293395e-08, 0.9999999999957587, 0.9999999993173498, 0.9999892706225728, 0.9999999471990723, 1.5610365598284808e-14, 0.9999999999921576, 0.9999999999782541, 0.9999946760498463, 9.10150915863361e-18, 0.5215455875855172, 0.9998295532173437, 8.051402721202732e-05, 1.7567060248824997e-10, 4.834789743970621e-15, 0.9999999321368921, 0.999999994551777, 0.9999986223504352, 3.0986121030727553e-09, 0.07727732590199395, 5.9261913269314746e-15, 0.997669538364062, 9.042790078310825e-06, 0.9998606510745282, 0.9999999995224211, 0.9999996592759968, 1.7587720490146588e-05, 0.0019522533441474412, 2.533082272620794e-11, 0.9999999943197773, 0.9822388150804235, 0.9999999928965804, 0.9999999998049349, 0.9999981080814686, 0.9999994600965534, 0.00024575369708289697, 4.130554425179816e-11, 0.014393472778826456, 0.18807415455977056, 5.555614562313242e-10, 0.9999999374393195, 3.1156270414030537e-13, 0.28362094084511896, 2.7674241653898126e-14, 5.32317098670034e-08, 0.9999999999997284, 0.9999999999953766, 0.9999999872295745, 0.19145555591141297, 2.1721886254366614e-05, 0.8594476654144063, 0.999999997558839, 1.648539618230648e-06, 0.999999997223985, 0.9999999999999314, 0.9999999999984721, 0.9999990868280321, 0.9934380704981702, 0.9999987637410634, 0.9999995817505571, 7.65866918540534e-09, 0.9999999542839816, 0.9571056041320164, 7.931128727056043e-16, 0.9999999999992881, 0.9999995339303559, 0.9999999786826677, 0.0045605644119882565, 1.399721839628296e-14, 0.9999999900062234, 0.9999998655275496, 0.9999999083361468, 0.9999977532556977, 0.9999999796907397, 1.0103391753139806e-13, 0.9999999999896421, 0.9999998748326554, 0.9999927694168025, 1.5734878779407928e-10, 0.1703151369840275, 0.9999995327157284, 0.9999999998783349, 4.793043820262518e-06, 1.0526233004265968e-07, 0.9999999896900272, 4.5561440664513067e-14, 0.9999999999614404, 2.4613252767222334e-08, 0.9999999988924724, 0.9999999999931064, 2.6852468017497407e-10, 1.974997404319925e-09, 0.9999999594800634, 0.6804956902752208, 2.239142568721023e-12, 0.14721102303718706, 2.076308092071111e-14, 0.9996861201781573, 0.9999996412456537, 0.9999999996674003, 0.9729892854283376, 0.9999999997980276, 0.9995820934266699, 0.9966675810112082, 0.9999999999988378, 3.716451877626335e-13, 0.9999999999889873, 0.9999999999999996, 0.999999989716991, 0.9999999994974553, 5.3150965644527785e-11, 0.9999999683944752, 0.9999999999779499, 0.9999842331868792, 4.619616594611873e-08, 0.8376026239198331, 0.9989747645867041, 0.999999472496367, 2.3080875964518486e-11, 0.9999923510792085, 1.639942980201152e-16, 0.99997356315697, 0.9999999739288228, 6.385421938704723e-06, 0.1533619172423005, 0.9999999998361502, 0.9999999999999183, 8.865310640334308e-05, 0.9999857138635447, 0.9999999999984599, 2.6762216039175862e-15, 7.058384452701189e-08, 0.9999996870500072, 0.9999999999102547, 0.9999999999999512, 0.9999994912317799, 1.9627722474447807e-11, 0.9999995697183521, 0.999999643574089, 6.084362080544873e-09, 0.9999974767735171, 0.9999998368983707, 0.9925404581371748, 0.11694177720671174, 0.9999999997821309, 0.9999999998406759, 1.3075251428389264e-05, 0.9999999998961664, 0.9999999958090633, 1.6768743694836044e-06, 3.925301702874448e-05, 0.9999999996300024, 0.9999997838571782, 0.9977366355022864, 0.999999990777683, 0.9999746371272002, 0.9999999999994915, 0.9999979046475345, 0.0018544874293271356, 0.9999999958583239, 0.9999964355053974, 0.9999999994431474, 0.9999990879918248, 0.9999470527761474, 0.00033890746101696256, 0.9999999986549049, 0.0013065844211162681, 0.004694784251669708, 1.1539837918428648e-08, 1.941592912114007e-14, 1.2365738807662496e-06, 3.36569823190008e-06, 0.9999960042718072, 0.0004852239827847149, 0.9999999190253231, 1.497453441188833e-11, 1.1617247384743205e-12, 0.999999999999343, 3.831705650919691e-13, 3.66063637500021e-06, 0.9999999998311222, 0.9999999945854086, 0.9999999998030575, 0.9999999993041004, 0.9999999969432309, 0.9999999942834776, 0.9999999599318072, 0.9985011868348512, 0.9999999981879648, 0.9999999999926272, 0.999960208687647, 0.9999999999850901, 0.9997704977795248, 2.0222218420410722e-12, 0.9999999999996805, 0.9997874727625995, 0.9999997663146982, 1.1362517734167398e-17, 2.9506152857249634e-15, 2.2418232127648747e-11, 0.9999717356440659, 0.99968448024997, 1.655793486340712e-14, 0.0030264486814934747, 0.9999999985035455, 0.9999999188894629, 0.9999878051842622, 0.9999998808664192, 4.476845761729934e-09, 0.9875700107088949, 0.9998729237174104, 0.9999999998741687, 0.9999999985859074, 0.999999999999303, 0.9999999999999993, 8.987470515787835e-09, 0.9998868714593349, 0.9992514981513346, 0.9999999293497278, 1.7724433090386664e-08, 1.5533166388362735e-10, 3.68115937601267e-11, 0.9999999514144907, 0.9999467940729613, 4.803620825086396e-15, 0.9999999999997882, 0.999920613700674, 0.9999999999998428, 0.9999993048973079, 0.9999999720084339, 1.2166391013785514e-08, 0.999999994709329, 0.9999999935644854, 9.815318440240624e-06, 0.5209177588256966, 0.9562269150277389, 0.9999999998976596, 2.0533029382330067e-06, 0.9999999999995883, 0.9999999996005771, 0.9999872314714335, 0.9999999998415092, 0.9999999997957363, 0.9999999998487206, 0.9999385743135014, 2.0181937835361166e-15, 2.372542749160823e-09, 0.0007156953018383843, 1.901269746614031e-11, 2.0259096085873755e-05, 0.9999999999996716, 0.9999999997146476, 0.5725297290405588, 0.9999999999998128, 0.9999999999999485, 3.8064436365655823e-10, 0.09447302723314562, 0.9999999998594373, 2.407110032719358e-12, 1.3876887925201649e-05, 0.999999999998594, 1.79017392332633e-13, 4.818127738122718e-13, 4.548697663435537e-14, 0.9999999971491305, 0.9999999994449973, 0.9999999999993685, 0.999999999999851, 0.9999972340464538, 0.9999999939045263, 0.9999999999810159, 0.9999855395765368, 0.9999999522919388, 0.9999999999996791, 0.9999999999893245, 0.9998863275972516, 0.9999999962687776, 0.9999969936292619, 0.9999999986486843, 3.5510368386258384e-12, 0.00021200204704141417, 5.364520197578015e-12, 0.9999991355647376, 0.9999997898326889, 0.9999999994153077, 0.9999999999429203, 0.9999969297725183, 4.446649265213571e-13, 0.9999999998169355, 0.9999999999998894, 0.9999999691162454, 0.9999999743854278, 0.9999999999999831, 0.9999999994989128, 0.9999999999622373, 0.9999999986432264, 0.9999999999558402, 6.176766322064259e-09, 4.287752825080319e-08, 0.999930421716159, 0.9999998530637373, 0.9999984965922071, 0.9999999997618909, 0.9999994287036076, 0.9999999998491356, 0.9999999977048919, 3.018964253708953e-14, 0.9999999999999967, 0.9999999997658235, 0.9999999604641092, 0.9999999999991354, 0.9999996256301957, 0.9999900865050421, 0.9999966778131335, 1.9133343034674412e-07, 0.9999999999999629, 0.999999975872864, 3.891695025728236e-09, 0.9997903128392028, 0.9999998308741191, 0.0007256105763977736, 0.0011506833963991954, 0.9999999999992117, 0.99999514458462, 0.9999999981281991, 4.477434825888876e-10, 0.9999999269475313, 0.9999999990984356, 1.7582756597857183e-11, 0.9999999999652209, 0.9999999954659402, 0.9999999629855572, 5.905223011655627e-05, 0.9999999998197564, 0.9999998065061072, 0.9992086116180987, 0.12441467314514733, 0.9999999946836566, 0.999999999769517, 0.9999999988273884, 0.998814468099025, 0.9999999999999316, 0.999999741618035, 2.439760427177196e-07, 2.381056550751925e-09, 8.53739441224805e-08, 0.9999819726283934, 9.082791538339724e-10, 0.9999999999975266, 7.851477612193788e-10, 0.027649986625476863, 1.0255534007043739e-13, 0.9999999994328532, 2.617787668304247e-12, 0.9999999996134015, 0.9999999998848732, 0.9999999999998859, 0.9999999998830205, 0.868821855838439, 0.00021951429375536617, 0.017730969386876336, 0.9999999999990143, 1.0340481208602072e-11, 8.92130226584481e-11, 0.0003964026298186613, 0.9999999793690191, 0.42966745101682535, 0.9999999971857463, 0.9999999999844478, 0.9999985785930388, 1.9487799651061144e-10, 0.7845337741977155, 1.0527713777124972e-09, 0.9999991243356677, 0.9999954105394179, 0.9999999998733353, 0.9999999999827709, 0.9999903837724515, 1.4678080589821891e-07, 0.9999999999829772, 0.9996867900300062, 0.9991911139447496, 0.9999999990933772, 0.9999999986875172, 0.9999971510192646, 0.9999999998033502, 2.375177814293007e-08, 2.9542886555658466e-16, 0.9999702063883469, 0.9999964142464248, 4.799918503778818e-13, 0.9999999999154832, 0.9989246156475937, 0.08451054048445805, 0.15181036945762524, 0.09166840872950599, 0.9999729960405863, 0.9999999999819955, 0.8716147135506448, 0.9999999591954168, 0.9999999999953315, 0.9999890095416099, 0.9999999983053973, 0.9999999999954485, 0.007551319770594802, 0.9999978165122382, 0.012857574536242977, 4.016441859552549e-11, 0.9999999999999478, 0.9999999999556624, 4.878878886032598e-15, 0.9999997480112279, 0.9967913032773811, 0.9999999975351221, 0.9970744201240781, 0.9999145917439226, 0.013221203813912896, 2.624955919386182e-06, 1.6937938199413763e-09, 0.999999690087456, 0.0003982054176056352, 0.5785544247713704, 0.9999999894334083, 1.0873868167920944e-11, 2.097240991052283e-14, 0.999998693721919, 0.9999999921983879, 0.00041189483276154006, 0.1983725928936498, 0.9999999998418192, 0.9999997344833477, 4.213341750325069e-15, 8.888283701643775e-17, 0.9999999999892655, 0.9999999999999998, 0.9999997316579431, 0.999999989522684, 0.9999999991899793, 2.9796148748065327e-06, 6.161128928564393e-08, 0.0033514737617777973, 0.9999999999881735, 1.0731828952322568e-07, 0.9995050625673143, 0.9798998979309073, 4.809428135842004e-18, 0.9999999996491418, 5.170961012905253e-05, 0.9999999982068888, 0.99999993731639, 9.155685098815839e-08, 0.9999999999943001, 0.9983049973117386, 0.9999999998804721, 4.815951196630797e-17, 4.243579056194108e-08, 3.571981758879569e-14, 2.7507265283534988e-09, 0.9999999999766511, 0.9997089728681102, 8.497981557595521e-20, 0.9999406812502044, 0.6828016250157523, 0.9999999999575313, 0.9999999999996785, 0.9999999999973721, 0.9999999995290754, 0.9999999928978422, 5.130309022583752e-11, 0.994975526807821, 3.363700224962296e-14, 5.064512773410843e-06, 0.999999723821115, 1.5199858851400672e-15, 3.3091323964765067e-13, 0.9999995509804951, 0.9999999090010024, 0.9999594067354356, 0.9999994756436347, 0.9999999999999993, 2.482000055128782e-09, 1.7053231019691703e-13, 0.9999999986761565, 0.9999999996844575, 0.9999999999989881, 0.9962367247504534, 1.2504653818477294e-06, 0.7551378688487487, 0.0001281508555962391, 0.002735013380422275, 2.6371387762733525e-06, 1.3482776990802253e-09, 0.9999999935308495, 7.883841993841038e-07, 3.653623773415628e-13, 0.9999999998232152, 0.9996147878214312, 0.8944892459603367, 0.9999651283438811, 0.9999999999999205, 0.9999999999999971, 0.9999963340595411, 9.69098300753607e-17, 0.9998659632833706, 4.768279900356714e-07, 9.75361527268508e-05]\n"
          ],
          "name": "stdout"
        }
      ]
    },
    {
      "cell_type": "markdown",
      "metadata": {
        "id": "YoupTP5RNcM_"
      },
      "source": [
        "Save the predictions"
      ]
    },
    {
      "cell_type": "code",
      "metadata": {
        "id": "WNPWX8fGIBBP"
      },
      "source": [
        "# test_X['segment'] = predictions\n",
        "# test_targets = test_targets.drop(['segment'], axis=1)\n",
        "# test_X['Client ID'] = le.inverse_transform(test_X['Client ID'])\n",
        "\n",
        "# test_targets = pd.merge(test_targets,test_X[['Client ID','segment']],on='Client ID') \n",
        "# test_targets.to_csv(index=False, path_or_buf=root_folder +'logistic_regression_results_prob2.csv')"
      ],
      "execution_count": 40,
      "outputs": []
    }
  ]
}